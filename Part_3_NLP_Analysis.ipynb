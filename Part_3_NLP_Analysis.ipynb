{
  "nbformat": 4,
  "nbformat_minor": 0,
  "metadata": {
    "colab": {
      "name": "Jack_Collins_MA5851_A3_Part2.ipynb",
      "provenance": [],
      "collapsed_sections": [
        "VbMqGVYZ6pzG",
        "Y4KQEzlmkRu2"
      ]
    },
    "kernelspec": {
      "name": "python3",
      "display_name": "Python 3"
    },
    "language_info": {
      "name": "python"
    }
  },
  "cells": [
    {
      "cell_type": "markdown",
      "metadata": {
        "id": "TjAxP1u1vxXZ"
      },
      "source": [
        "# Introduction"
      ]
    },
    {
      "cell_type": "markdown",
      "metadata": {
        "id": "T91uB8ShwSk1"
      },
      "source": [
        "This pipeline takes a list of text bodies and then applies topic modelling and sentiment analysis to each entry. The final output of this process is a report on any significant correlations between topics and sentiments.\n",
        "This is intended as an extensible prototype. This pipeline can be configured to work with any list of text bodies, but is here used to assess if news articles are treating topics particularly positively or negatively. In future, this prototype could be developed for applications such as assessing bias in different media outlets, or estimating the impact of media sentiment on public opinion. \n"
      ]
    },
    {
      "cell_type": "markdown",
      "metadata": {
        "id": "rfSglNCdwnu9"
      },
      "source": [
        "# Literature *Review*"
      ]
    },
    {
      "cell_type": "markdown",
      "metadata": {
        "id": "2zKVLc1cwpyW"
      },
      "source": [
        "NLP techniques have often been used in automated public opinion analysis. As opposed to analyzing a population’s thoughts about a topic through surveys or interviews, NLP can be used to determine the public’s thoughts and feelings about a topic based on what they are saying and writing. The age of social media provides researchers with massive amounts of text content to analyze for public opinion. There is much research using topic modelling and sentiment analysis together to assess what topics the corpus is discussing and how positively or negatively that topic is being discussed. \n",
        "Automated public opinion analysis has been developed since the 2010s. LDA and sentiment analysis with the VADER system has in particular, risen in popularity among researchers. Using these two NLP techniques together can yield a ‘sentiment per topic’ distribution. Certain researchers have discovered interesting correlations with actual public and economic events and certain sentiments-on-topics. \n",
        "The role of the media in public opinion formation is also an important research topic. The same techniques that analyze sentiment per topic in public discourse can also be applied to news media. This project aims to apply these NLP techniques for topic modeling and sentiment analysis to yield the sentiment per topic of news media articles. This could be used to research the impact of media discourse on public opinion by coming public sentiment-per-topic with media sentiment-per-topic over time. \n"
      ]
    },
    {
      "cell_type": "markdown",
      "metadata": {
        "id": "RRxRToMxwhJh"
      },
      "source": [
        "## Demonstration\n",
        "What follows is a deomonstration of the pipeline execution."
      ]
    },
    {
      "cell_type": "markdown",
      "metadata": {
        "id": "9UwhYRKo6i0l"
      },
      "source": [
        "# Configuration"
      ]
    },
    {
      "cell_type": "markdown",
      "metadata": {
        "id": "i8bNQaYExIHf"
      },
      "source": [
        "In the following section, we:      \n",
        "* Import required modules\n",
        "* Set the configratuin constants, inluding the tokenizer functions, stop words, etc. \n",
        "* Define the functons for use in the 'Execution' section.\n",
        "* Connect this runtime to filestorage (Google Drive) to store the output file. "
      ]
    },
    {
      "cell_type": "markdown",
      "metadata": {
        "id": "VbMqGVYZ6pzG"
      },
      "source": [
        "## Modules"
      ]
    },
    {
      "cell_type": "code",
      "metadata": {
        "id": "KVfPmZ0F51Pg",
        "colab": {
          "base_uri": "https://localhost:8080/"
        },
        "outputId": "c2799ae9-9c87-41f9-b9a4-14c168c714e1"
      },
      "source": [
        "import pandas as pd\n",
        "import seaborn as sb\n",
        "import nltk\n",
        "from scipy import stats\n",
        "from scipy.stats import pearsonr\n",
        "from nltk.corpus import stopwords\n",
        "from nltk.stem.wordnet import WordNetLemmatizer\n",
        "import string\n",
        "import gensim\n",
        "import time\n",
        "import random\n",
        "import os\n",
        "import re\n",
        "import numpy as np\n",
        "from gensim import corpora\n",
        "from gensim.models import CoherenceModel \n",
        "from sklearn.feature_extraction.text import CountVectorizer\n",
        "import matplotlib.pyplot as plt\n",
        "%matplotlib inline\n",
        "nltk.download('stopwords')\n",
        "nltk.download('wordnet')\n",
        "\n",
        "\n",
        "!pip install pyLDAvis\n",
        "import pyLDAvis\n",
        "from pyLDAvis import gensim_models\n",
        "\n",
        "\n",
        "import nltk\n",
        "nltk.download('vader_lexicon')\n",
        "from nltk.sentiment.vader import SentimentIntensityAnalyzer"
      ],
      "execution_count": null,
      "outputs": [
        {
          "output_type": "stream",
          "name": "stdout",
          "text": [
            "[nltk_data] Downloading package stopwords to /root/nltk_data...\n",
            "[nltk_data]   Package stopwords is already up-to-date!\n",
            "[nltk_data] Downloading package wordnet to /root/nltk_data...\n",
            "[nltk_data]   Package wordnet is already up-to-date!\n",
            "Requirement already satisfied: pyLDAvis in /usr/local/lib/python3.7/dist-packages (3.3.1)\n",
            "Requirement already satisfied: sklearn in /usr/local/lib/python3.7/dist-packages (from pyLDAvis) (0.0)\n",
            "Requirement already satisfied: joblib in /usr/local/lib/python3.7/dist-packages (from pyLDAvis) (1.1.0)\n",
            "Requirement already satisfied: jinja2 in /usr/local/lib/python3.7/dist-packages (from pyLDAvis) (2.11.3)\n",
            "Requirement already satisfied: pandas>=1.2.0 in /usr/local/lib/python3.7/dist-packages (from pyLDAvis) (1.3.4)\n",
            "Requirement already satisfied: scikit-learn in /usr/local/lib/python3.7/dist-packages (from pyLDAvis) (1.0.1)\n",
            "Requirement already satisfied: future in /usr/local/lib/python3.7/dist-packages (from pyLDAvis) (0.16.0)\n",
            "Requirement already satisfied: funcy in /usr/local/lib/python3.7/dist-packages (from pyLDAvis) (1.16)\n",
            "Requirement already satisfied: gensim in /usr/local/lib/python3.7/dist-packages (from pyLDAvis) (3.6.0)\n",
            "Requirement already satisfied: numpy>=1.20.0 in /usr/local/lib/python3.7/dist-packages (from pyLDAvis) (1.21.4)\n",
            "Requirement already satisfied: numexpr in /usr/local/lib/python3.7/dist-packages (from pyLDAvis) (2.7.3)\n",
            "Requirement already satisfied: setuptools in /usr/local/lib/python3.7/dist-packages (from pyLDAvis) (57.4.0)\n",
            "Requirement already satisfied: scipy in /usr/local/lib/python3.7/dist-packages (from pyLDAvis) (1.4.1)\n",
            "Requirement already satisfied: pytz>=2017.3 in /usr/local/lib/python3.7/dist-packages (from pandas>=1.2.0->pyLDAvis) (2018.9)\n",
            "Requirement already satisfied: python-dateutil>=2.7.3 in /usr/local/lib/python3.7/dist-packages (from pandas>=1.2.0->pyLDAvis) (2.8.2)\n",
            "Requirement already satisfied: six>=1.5 in /usr/local/lib/python3.7/dist-packages (from python-dateutil>=2.7.3->pandas>=1.2.0->pyLDAvis) (1.15.0)\n",
            "Requirement already satisfied: smart-open>=1.2.1 in /usr/local/lib/python3.7/dist-packages (from gensim->pyLDAvis) (5.2.1)\n",
            "Requirement already satisfied: MarkupSafe>=0.23 in /usr/local/lib/python3.7/dist-packages (from jinja2->pyLDAvis) (2.0.1)\n",
            "Requirement already satisfied: threadpoolctl>=2.0.0 in /usr/local/lib/python3.7/dist-packages (from scikit-learn->pyLDAvis) (3.0.0)\n",
            "[nltk_data] Downloading package vader_lexicon to /root/nltk_data...\n",
            "[nltk_data]   Package vader_lexicon is already up-to-date!\n"
          ]
        }
      ]
    },
    {
      "cell_type": "markdown",
      "metadata": {
        "id": "HxPLDBHf7HgX"
      },
      "source": [
        "## Constants"
      ]
    },
    {
      "cell_type": "markdown",
      "metadata": {
        "id": "MidnSDRzzFmD"
      },
      "source": [
        "The constants to be set for this pipeline are:\n",
        "\n",
        "* INPUT_FILE = The location of the input file, which can be the same as the output file of the preceeding, web scraper pipeline. \n",
        "* TEXT_COLUMN =The column header of the column which is the text bodies. \n",
        "* STOP_WORDS = A selected NLTK stopwords object\n",
        "* EXTENDED_STOP_WORDS = A list of extra stop words to include. \n",
        "EXCLUDE_CHARACTERS = A set of characters to exclude, such as punctuation. \n",
        "* TOKENIZER_FUNCTION = The tokenizer function. \n",
        "* PASSES= The number of passes conducted by the LDA\n",
        "* GRAM_N = Set 2 for bigrams, 3 for trigrams, etc. \n",
        "* DELIMITER = Typically white space, this is used to concatenate tokens into the normalized text blobs. \n",
        "* NUM_TOPICS = A list of integers, this is the number of topics the LDA will try and select the most coherent one. \n",
        "* ALPHA = The significance threshold for testing if there are significant relationships between sentiments and topics. \n",
        "* SEED = Random seed. "
      ]
    },
    {
      "cell_type": "code",
      "metadata": {
        "id": "Y0KS2cwx6XAh"
      },
      "source": [
        "INPUT_FILE = '/content/drive/MyDrive/MA5851_A3/scrape_results.csv'\n",
        "TEXT_COLUMN =\"Bag Of Words\"\n",
        "STOP_WORDS = stopwords.words('english')\n",
        "EXTENDED_STOP_WORDS = ['m','u','also','est','span','a','n','said','time','one'] \n",
        "EXCLUDE_CHARACTERS = set(string.punctuation)\n",
        "TOKENIZER_FUNCTION = WordNetLemmatizer().lemmatize\n",
        "NUM_TOPICS=12\n",
        "PASSES=50\n",
        "#Set bigram, trigram, etc\n",
        "GRAM_N = 2\n",
        "DELIMITER = b' '\n",
        "NUM_TOPICS = [3,5,7]\n",
        "ALPHA = 0.1\n",
        "SEED = 42"
      ],
      "execution_count": null,
      "outputs": []
    },
    {
      "cell_type": "markdown",
      "metadata": {
        "id": "EE9Abal5mfJB"
      },
      "source": [
        "## File Storage"
      ]
    },
    {
      "cell_type": "code",
      "metadata": {
        "colab": {
          "base_uri": "https://localhost:8080/"
        },
        "id": "R9P2t8oDmh0m",
        "outputId": "7d6f8fe3-d0c5-4738-c55d-247bb33b31f6"
      },
      "source": [
        "from google.colab import drive\n",
        "drive.mount('/content/drive')"
      ],
      "execution_count": null,
      "outputs": [
        {
          "output_type": "stream",
          "name": "stdout",
          "text": [
            "Drive already mounted at /content/drive; to attempt to forcibly remount, call drive.mount(\"/content/drive\", force_remount=True).\n"
          ]
        }
      ]
    },
    {
      "cell_type": "markdown",
      "metadata": {
        "id": "9oknG7SH82kc"
      },
      "source": [
        "## Functions"
      ]
    },
    {
      "cell_type": "code",
      "metadata": {
        "id": "c7mHGOJr861I"
      },
      "source": [
        "def Clean(doc, tokenizer, exclude, stop):\n",
        "    stop_free = \" \".join([i for i in doc.lower().split() if i not in stop])\n",
        "    punc_free = ''.join(ch for ch in stop_free if ch not in exclude)\n",
        "    normalized = \" \".join(tokenizer(word) for word in punc_free.split())\n",
        "    return normalized"
      ],
      "execution_count": null,
      "outputs": []
    },
    {
      "cell_type": "code",
      "metadata": {
        "id": "5AnCLqXnNwnF"
      },
      "source": [
        "def Sent_To_Words(sentences):\n",
        "    for sentence in sentences:\n",
        "        yield(gensim.utils.simple_preprocess(str(sentence), deacc = True))"
      ],
      "execution_count": null,
      "outputs": []
    },
    {
      "cell_type": "code",
      "metadata": {
        "id": "xzitaE7PLuJ5"
      },
      "source": [
        "def Make_Ngrams(texts, gram_mod):\n",
        "    return [gram_mod[doc] for doc in texts]"
      ],
      "execution_count": null,
      "outputs": []
    },
    {
      "cell_type": "code",
      "metadata": {
        "id": "CFpGgJsNALM2"
      },
      "source": [
        "def Get_Tuple_Value(tup: tuple, x: int):\n",
        "  return tup[x]"
      ],
      "execution_count": null,
      "outputs": []
    },
    {
      "cell_type": "code",
      "metadata": {
        "id": "OH63ODMQaeEt"
      },
      "source": [
        "def Filter_By_P_Value(coef, p_values, alpha):\n",
        "      output = coef.copy(deep =True)\n",
        "      for column in p_values:\n",
        "        for i, j in p_values[column].items():\n",
        "            if j > alpha:\n",
        "              output.loc[i, column] = float(\"NaN\")\n",
        "      return output\n",
        "\n",
        "def Add_P_Value_Markers(coef, p_values, alpha, character):\n",
        "      output = coef.copy(deep =True)\n",
        "      for column in p_values:\n",
        "        for i, j in p_values[column].items():\n",
        "            if j < alpha:\n",
        "              output.loc[i, column] = str(coef.loc[i, column].round(decimals = 6)) + character\n",
        "            else:\n",
        "                output.loc[i, column] = coef.loc[i, column]\n",
        "      return output\n",
        "\n",
        "def Pearsonr_Pval(x,y):\n",
        "        return stats.pearsonr(x,y)[1]\n",
        "\n",
        "def Set_All_Seeds(seed):\n",
        "    random.seed(seed)\n",
        "    os.environ['PYTHONHASHSEED'] = str(seed)\n",
        "    np.random.seed(seed)\n",
        "    np.random.RandomState(seed)"
      ],
      "execution_count": null,
      "outputs": []
    },
    {
      "cell_type": "code",
      "metadata": {
        "id": "cxeUqEf8rHcy"
      },
      "source": [
        "def Plot_Word_Count(n: int,text_bodies: List):\n",
        "  count_vectorizer = CountVectorizer(max_features=n, STOP_WORDS,tokenizer=TOKENIZER_FUNCTION)\n",
        "  Y = count_vectorizer.fit_transform(text_bodies)\n",
        "  word_counts = Y.toarray().sum(axis=0)\n",
        "  key_words = count_vectorizer.get_feature_names()\n",
        "  df = pd.DataFrame({\"Token\":key_words,\"Frequency\":word_counts})\n",
        "  df = df.sort_values(by='Frequency', ascending=False)\n",
        "  df.iloc[0:20,:].plot.bar(x='Token', y='Frequency', rot=90)"
      ],
      "execution_count": null,
      "outputs": []
    },
    {
      "cell_type": "markdown",
      "metadata": {
        "id": "7aeM9Ya2LqDc"
      },
      "source": [
        "# Execute"
      ]
    },
    {
      "cell_type": "markdown",
      "metadata": {
        "id": "jdqPFdrQ09pZ"
      },
      "source": [
        "## Data Preprocessing"
      ]
    },
    {
      "cell_type": "markdown",
      "metadata": {
        "id": "GjzSO1-n1BWK"
      },
      "source": [
        "### Sentiment Analysis\n",
        "The raw data inputted into this pipeline features:\n",
        "*\tThe URL of the news article\n",
        "*\tThe blob of text extracted the article\n",
        "*\tThe title of the article\n",
        "\n",
        "The previous pipeline has already tested that no articles appear to be missing substantial body text, which could be caused, for example, from the web crawler failing t extract meaningful text. \n",
        "\n",
        "Now we clean this text and convert it to vector space by:\n",
        "\n",
        "*\tClean the text of unwanted characters (ie: ‘>’, ‘\\’)\n",
        "*\tConverting all test to lowercase. \n",
        "*\tTokenize with the WordNet lemmatizer. See hyperparameter selection section for details. \n",
        "*\tRemoving stop words from the NLTK English stop word list, plus custom stop words identified by exploring the residual html text in the corpus. \n",
        "*\tApplying the genism simple text cleaning, which removes punctuation, accents.\n",
        "\n",
        "This list of normalized text blobs is sufficient input for the VADER sentiment analysis function. This system can then output the sentiment metrics for each text blob. \n",
        "\n",
        "###Topic Modelling\n",
        "The LDA topic detection model requires some features in addition to the text normalization committed so far. To prepare the data for topic modelling we:\n",
        "\n",
        "*\tApply nGram modification – in this case we select bigrams. See hyperparameter section for details. \n",
        "\n",
        "Now we can derive the document-term matrix for each bigram and document and input this to an LDA model for topic analysis. Sentiment analysis can be applied to the list of normalized text blobs. \n"
      ]
    },
    {
      "cell_type": "code",
      "metadata": {
        "id": "obpVO5CUz8iI"
      },
      "source": [
        "Set_All_Seeds(SEED)\n",
        "start_time = time.time()"
      ],
      "execution_count": null,
      "outputs": []
    },
    {
      "cell_type": "code",
      "metadata": {
        "id": "r8WWZT868Xkn",
        "colab": {
          "base_uri": "https://localhost:8080/"
        },
        "outputId": "5188a1a8-9248-46fb-ef37-3412a0dd7062"
      },
      "source": [
        "data = pd.read_csv(INPUT_FILE)\n",
        "len(data)"
      ],
      "execution_count": null,
      "outputs": [
        {
          "output_type": "execute_result",
          "data": {
            "text/plain": [
              "144"
            ]
          },
          "metadata": {},
          "execution_count": 37
        }
      ]
    },
    {
      "cell_type": "code",
      "metadata": {
        "id": "zKTIRVROsKPT"
      },
      "source": [
        "Plot_Word_Count(30, data[TEXT_COLUMN])"
      ],
      "execution_count": null,
      "outputs": []
    },
    {
      "cell_type": "code",
      "metadata": {
        "id": "BQy500JT9-x7"
      },
      "source": [
        "%%capture\n",
        "#Select list of documents from data \n",
        "STOP_WORDS.extend(EXTENDED_STOP_WORDS)\n",
        "# String cleaning\n",
        "doc_clean = [Clean(doc, tokenizer=TOKENIZER_FUNCTION,exclude=EXCLUDE_CHARACTERS,stop=set(STOP_WORDS)).split() for doc in data[TEXT_COLUMN]]\n",
        "\n",
        "#Make Ngrams\n",
        "words = Sent_To_Words(doc_clean)\n",
        "gram_mod = gensim.models.Phrases(words, min_count=GRAM_N, delimiter=DELIMITER)\n",
        "ngrams = Make_Ngrams(doc_clean, gram_mod)\n",
        "\n",
        "# Creating the term dictionary of our courpus, where every unique term is assigned an index. \n",
        "dictionary = corpora.Dictionary(ngrams)\n",
        "\n",
        "# Converting list of documents into Document Term Matrix using dictionary prepared above.\n",
        "doc_term_matrix = [dictionary.doc2bow(doc) for doc in ngrams]\n",
        "\n",
        "# Creating the object for LDA model using gensim library\n",
        "Lda = gensim.models.ldamodel.LdaModel\n",
        "\n",
        "corpus = [dictionary.doc2bow(text) for text in ngrams]\n"
      ],
      "execution_count": null,
      "outputs": []
    },
    {
      "cell_type": "markdown",
      "metadata": {
        "id": "Y4KQEzlmkRu2"
      },
      "source": [
        "## Sentiment Analysis"
      ]
    },
    {
      "cell_type": "markdown",
      "metadata": {
        "id": "1p0PBOnp2RtU"
      },
      "source": [
        "VADER is a dictionary based approach to estimating overall text sentiment and outputs the estimated positivity, neutrality and negative content of the text sentiment. VADER has been a popular sentiment analysis method for researchers since the 2010s. \n",
        "\n",
        "### Hyperparameters\n",
        "Because this is a prototype, there is minimal hyperparameter tuning.\n",
        "The hyperparameters that have been selected are:\n",
        "*\tThe default VADER dictionary is applied. \n",
        "*\tThe WordNet lemmatizer is used to tokenize the text. This choice of tokenizer was arbitrary for the prototype. Future iterations could involve tokenizer selection by grid searching. \n"
      ]
    },
    {
      "cell_type": "code",
      "metadata": {
        "id": "H1rTZGCYkXNf"
      },
      "source": [
        "vader = SentimentIntensityAnalyzer()\n",
        "sentiment_scores = []\n",
        "for doc in doc_complete:\n",
        "  sentiment_scores.append(vader.polarity_scores(doc))"
      ],
      "execution_count": null,
      "outputs": []
    },
    {
      "cell_type": "code",
      "metadata": {
        "id": "0vvBul7RoJNH"
      },
      "source": [
        "sentiments = pd.DataFrame(sentiment_scores)"
      ],
      "execution_count": null,
      "outputs": []
    },
    {
      "cell_type": "code",
      "metadata": {
        "colab": {
          "base_uri": "https://localhost:8080/",
          "height": 312
        },
        "id": "gkE0w1VKBQLQ",
        "outputId": "4128b415-c4e5-409a-8a5c-9b92e482daad"
      },
      "source": [
        "ax = sentiments['compound'].hist()\n",
        "ax.set_xlabel(\"Compund Sentiment\")\n",
        "ax.set_ylabel(\"Number of Articles\")\n",
        "ax.set_title(\"Distribution of Sentiment across Articles\")"
      ],
      "execution_count": null,
      "outputs": [
        {
          "output_type": "execute_result",
          "data": {
            "text/plain": [
              "Text(0.5, 1.0, 'Distribution of Sentiment across Articles')"
            ]
          },
          "metadata": {},
          "execution_count": 47
        },
        {
          "output_type": "display_data",
          "data": {
            "image/png": "[encoded data removed]",
            "text/plain": [
              "<Figure size 432x288 with 1 Axes>"
            ]
          },
          "metadata": {
            "needs_background": "light"
          }
        }
      ]
    },
    {
      "cell_type": "markdown",
      "metadata": {
        "id": "dRfveaIhkH9J"
      },
      "source": [
        "## Topic Modelling"
      ]
    },
    {
      "cell_type": "markdown",
      "metadata": {
        "id": "9xehhHAv2cgV"
      },
      "source": [
        "LDA is a popular algorithm for topic modelling. It was selected because it is used in preceding research into public opinion analysis and this experiment is aimed at recreating this topic modelling with media as the target corpus.\n",
        "\n",
        "### Hyperparameters\n",
        "The LDA will use the same normalized corpus as the sentiment analyzer. There are two additional hyperparameters for the LDA:\n",
        "\n",
        "*\tN value for nGram modification: We converted the tokenized text into bigram terms. This was an arbitrary selection for the prototype which can be tuned with grid search in future iterations. \n",
        "\n",
        "*\tThe K value for number of topics to be modelled. This hyperparameter was found through grid search of this one variable. The user sets a range of k values to test. The pipeline tries each one and selects the k value with the highest overall coherence. Figure 1 and 2 indicate the results of automatically tuning this hyperparameter. \n"
      ]
    },
    {
      "cell_type": "code",
      "metadata": {
        "id": "1bgVev6fZlgz"
      },
      "source": [
        "%%capture\n",
        "max_coherence = 0\n",
        "optimal_n_topics = 0\n",
        "perplexity_scores = []\n",
        "coherence_scores = []\n",
        "for n in NUM_TOPICS:\n",
        "  ldamodel = Lda(doc_term_matrix, num_topics=n, id2word = dictionary, passes=PASSES, minimum_probability=MINIMUM_PROBABILITY)\n",
        "  perplexity = ldamodel.log_perplexity(corpus)\n",
        "  coherence = CoherenceModel(model=ldamodel, texts=ngrams, dictionary=dictionary, coherence='c_v').get_coherence()\n",
        "  perplexity_scores.append(perplexity)\n",
        "  coherence_scores.append(coherence)\n",
        "  if coherence > max_coherence:\n",
        "    max_coherences = coherence\n",
        "    optimal_n_topics = n\n",
        "ldamodel = Lda(doc_term_matrix, num_topics=optimal_n_topics, id2word = dictionary, passes=PASSES, minimum_probability=MINIMUM_PROBABILITY)"
      ],
      "execution_count": null,
      "outputs": []
    },
    {
      "cell_type": "code",
      "metadata": {
        "colab": {
          "base_uri": "https://localhost:8080/",
          "height": 312
        },
        "id": "XyBTj7x6FULi",
        "outputId": "20dc313d-9321-4b69-d82b-ab7f7d745fd7"
      },
      "source": [
        "plt.plot(coherence_scores)\n",
        "plt.xlabel('number of topics')\n",
        "plt.ylabel('c-v score')\n",
        "plt.title('Figure 1: Coherence')"
      ],
      "execution_count": null,
      "outputs": [
        {
          "output_type": "execute_result",
          "data": {
            "text/plain": [
              "Text(0.5, 1.0, 'Coherence')"
            ]
          },
          "metadata": {},
          "execution_count": 40
        },
        {
          "output_type": "display_data",
          "data": {
            "image/png": "[encoded data removed]",
            "text/plain": [
              "<Figure size 432x288 with 1 Axes>"
            ]
          },
          "metadata": {
            "needs_background": "light"
          }
        }
      ]
    },
    {
      "cell_type": "code",
      "metadata": {
        "colab": {
          "base_uri": "https://localhost:8080/",
          "height": 312
        },
        "id": "tUpXM-hkFX-d",
        "outputId": "5bfdf14d-4aeb-468d-adcf-c0dbc468a3ed"
      },
      "source": [
        "plt.plot(perplexity_scores)\n",
        "plt.xlabel('number of topics')\n",
        "plt.ylabel('c-v score')\n",
        "plt.title('Figure 2: Perplexity')"
      ],
      "execution_count": null,
      "outputs": [
        {
          "output_type": "execute_result",
          "data": {
            "text/plain": [
              "Text(0.5, 1.0, 'Coherence')"
            ]
          },
          "metadata": {},
          "execution_count": 41
        },
        {
          "output_type": "display_data",
          "data": {
            "image/png": "[encoded data removed]",
            "text/plain": [
              "<Figure size 432x288 with 1 Axes>"
            ]
          },
          "metadata": {
            "needs_background": "light"
          }
        }
      ]
    },
    {
      "cell_type": "markdown",
      "metadata": {
        "id": "bbrkkxRJrqIr"
      },
      "source": [
        "### Figure 3: Topic Modeling Results"
      ]
    },
    {
      "cell_type": "code",
      "metadata": {
        "colab": {
          "base_uri": "https://localhost:8080/",
          "height": 915
        },
        "id": "pty1RkZDaSba",
        "outputId": "b4ed0fa7-7045-4637-d00a-c86fc74bc93c"
      },
      "source": [
        "# Visualize the topics\n",
        "pyLDAvis.enable_notebook()\n",
        "vis = pyLDAvis.gensim_models.prepare(ldamodel, corpus, dictionary)\n",
        "vis"
      ],
      "execution_count": null,
      "outputs": [
        {
          "output_type": "stream",
          "name": "stderr",
          "text": [
            "/usr/local/lib/python3.7/dist-packages/pyLDAvis/_prepare.py:247: FutureWarning: In a future version of pandas all arguments of DataFrame.drop except for the argument 'labels' will be keyword-only\n",
            "  by='saliency', ascending=False).head(R).drop('saliency', 1)\n"
          ]
        },
        {
          "output_type": "execute_result",
          "data": {
            "text/html": [
              "\n",
              "<link rel=\"stylesheet\" type=\"text/css\" href=\"https://cdn.jsdelivr.net/gh/bmabey/pyLDAvis@3.3.1/pyLDAvis/js/ldavis.v1.0.0.css\">\n",
              "\n",
              "\n",
              "<div id=\"ldavis_el6611401539228933926394267984\"></div>\n",
              "<script type=\"text/javascript\">\n",
              "\n",
              "var ldavis_el6611401539228933926394267984_data = {\"mdsDat\": {\"x\": [-0.20543687765096258, 0.12255981482273973, 0.11191848528578631, -0.15522254551793918, 0.0762097752388309, 0.08099500219857643, -0.03102365437703147], \"y\": [-0.1680860753121935, -0.010040783156753929, 0.0069748841665661305, 0.22466380121063764, -0.002907398171909878, -0.00496859620134568, -0.045635832535000864], \"topics\": [1, 2, 3, 4, 5, 6, 7], \"cluster\": [1, 1, 1, 1, 1, 1, 1], \"Freq\": [41.4797241219096, 16.49285170351939, 14.361864165595053, 11.442515551607062, 7.470533671224073, 5.885660894925826, 2.8668498912190064]}, \"tinfo\": {\"Term\": [\"covid19\", \"vaccine\", \"police\", \"rittenhouse\", \"arbery\", \"house\", \"people\", \"biden\", \"2021\", \"president\", \"november\", \"jones\", \"restriction\", \"n\", \"shot\", \"covid\", \"classarticletimestamp\", \"vaccination\", \"travis mcmichael\", \"white house\", \"would\", \"mcmichael\", \"home\", \"bill\", \"protest\", \"austria\", \"18\", \"case\", \"pictured\", \"two\", \"austria\", \"france\", \"rotterdam\", \"migrant\", \"riot police\", \"million barrel\", \"police car\", \"strategic petroleum\", \"covid restriction\", \"dutch\", \"oil price\", \"britain\", \"rotterdam friday\", \"freedom party\", \"vienna today\", \"boat\", \"take part\", \"people injured\", \"austria demonstrator\", \"coronavirus restriction\", \"care unit\", \"germany\", \"infection rate\", \"warning shot\", \"police fired\", \"mutation\", \"2g\", \"coolsingel street\", \"alexander schallenberg\", \"several hundred\", \"uk\", \"christmas market\", \"netherlands\", \"covid19\", \"restriction\", \"reserve\", \"lockdown\", \"protest\", \"country\", \"french\", \"covid\", \"people\", \"variant\", \"measure\", \"protester\", \"coronavirus\", \"stylefontsize\", \"government\", \"new\", \"south africa\", \"20\", \"police\", \"u\", \"today\", \"case\", \"november\", \"2021\", \"vaccine\", \"\\u2013\", \"biden\", \"day\", \"two\", \"week\", \"told\", \"arbery\", \"travis mcmichael\", \"mcmichael\", \"ahmaud arbery\", \"gregory mcmichael\", \"jones\", \"ahmaud arberys\", \"arberys\", \"shotgun\", \"dunikoski\", \"william roddie\", \"cooperjones\", \"ahmaud\", \"julius jones\", \"bryan\", \"911\", \"mcmichaels\", \"testified\", \"satilla shore\", \"false imprisonment\", \"black jogger\", \"greg mcmichael\", \"kardashian\", \"julius\", \"aggravated assault\", \"wanda cooperjones\", \"mr arbery\", \"citizen arrest\", \"laundrie\", \"execution\", \"n\", \"son\", \"white\", \"travis\", \"juror\", \"jury\", \"murder trial\", \"murder\", \"trial\", \"defendant\", \"family\", \"shot\", \"2020\", \"governor\", \"told\", \"day\", \"right\", \"february\", \"video\", \"left\", \"pictured\", \"police\", \"two\", \"go\", \"would\", \"court\", \"case\", \"home\", \"people\", \"death\", \"gosar\", \"solskjaer\", \"williams foster\", \"william tyrrells\", \"search william\", \"white nationalist\", \"new owner\", \"person interest\", \"counterprotesters\", \"mr andrew\", \"foster grandmother\", \"unite right\", \"foster parent\", \"champion league\", \"mr morrison\", \"batar creek\", \"jury awarded\", \"ordered pay\", \"assault battery\", \"ocasiocortez\", \"mid north\", \"inquest\", \"foster mother\", \"commissioner mick\", \"manchester united\", \"classmolstyleboldjune\", \"lambie\", \"whereas\", \"kendall nsw\", \"williams remains\", \"william tyrrell\", \"kendall\", \"william\", \"nsw police\", \"plaintiff\", \"seven year\", \"united\", \"premier\", \"williams\", \"search\", \"2014\", \"daily mail\", \"detective\", \"police\", \"attack\", \"member\", \"pictured\", \"former\", \"classarticletimestamp\", \"house\", \"home\", \"last\", \"2021\", \"november\", \"two\", \"violence\", \"officer\", \"claim\", \"day\", \"would\", \"man\", \"classauthor\", \"tuesday\", \"year\", \"new\", \"u\", \"articletimestampupdated\", \"classarticletimestamplabelupdatedspan\", \"830pm\", \"walter reed\", \"billion would\", \"colonoscopy\", \"social spending\", \"175\", \"trillion build\", \"mr grant\", \"better bill\", \"fire bexleyheath\", \"w\", \"25th\", \"first physical\", \"road bexleyheath\", \"friday morning\", \"week paid\", \"leave child\", \"fully paid\", \"tax credit\", \"kevin mccarthy\", \"five hour\", \"annual physical\", \"minutesxa0\", \"fire hamilton\", \"fire brigade\", \"fire engine\", \"engulfed flame\", \"power vice\", \"southeast london\", \"voter split\", \"back better\", \"vice president\", \"build back\", \"house floor\", \"bill\", \"harris\", \"nancy pelosi\", \"kamala harris\", \"two child\", \"house speaker\", \"vote\", \"press secretary\", \"house\", \"president\", \"white house\", \"biden\", \"democrat\", \"would\", \"president joe\", \"fire\", \"scene\", \"woman\", \"last night\", \"per cent\", \"first\", \"u\", \"two\", \"year\", \"new\", \"around\", \"thursday\", \"\\u2013\", \"three\", \"people\", \"2021\", \"day\", \"november\", \"rittenhouse\", \"binger\", \"chansley\", \"schroeder\", \"rosenbaum\", \"kyle rittenhouse\", \"kenosha\", \"richards\", \"huber\", \"grosskreutz\", \"desantis\", \"kenosha county\", \"breast cancer\", \"da\", \"wisconsin\", \"judge bruce\", \"chirafisi\", \"joseph rosenbaum\", \"judge schroeder\", \"ar15\", \"prosecutor thomas\", \"assistant district\", \"outside kenosha\", \"kenosha wisconsin\", \"mr thomson\", \"flcaseydesantis\", \"anthony huber\", \"pierce\", \"public gallery\", \"chansley\\u2019s\", \"cancer\", \"florida\", \"verdict\", \"capitol\", \"shooting\", \"prosecutor\", \"judge\", \"case\", \"count\", \"january\", \"verdict read\", \"court\", \"shot\", \"sentenced\", \"jury\", \"state\", \"charge\", \"\\u2013\", \"trial\", \"year\", \"\\u2014\", \"would\", \"told\", \"family\", \"night\", \"first\", \"day\", \"man\", \"video\", \"people\", \"biden\", \"paine\", \"vicosa\", \"dean\", \"van bronckhorst\", \"russell\", \"tim paine\", \"test captain\", \"baltimore county\", \"caddick\", \"cricket\", \"cricket tasmania\", \"cricket australia\", \"investor\", \"giana\", \"wife bonnie\", \"pat cummins\", \"body modifier\", \"caddicks\", \"vicosas\", \"bynum\", \"ross wilson\", \"asic\", \"steve smith\", \"kidnapped\", \"ranger\", \"judge syme\", \"procedure\", \"scam\", \"justice markovic\", \"koletti\", \"captain\", \"aware\", \"girl\", \"daughter\", \"world cup\", \"australia\", \"wife\", \"m\", \"sydney\", \"2018\", \"police\", \"club\", \"home\", \"investigation\", \"november\", \"2021\", \"classarticletimestamp\", \"2017\", \"man\", \"found\", \"two\", \"woman\", \"team\", \"classauthor\", \"pictured\", \"articletimestampupdated\", \"classarticletimestamplabelpublishedspan\", \"classarticletimestamplabelupdatedspan\", \"articletimestamppublished\", \"told\", \"would\", \"democracy\", \"authorization\", \"new zealand\", \"pure violence\", \"moderna\", \"antibody level\", \"ardern\", \"international idea\", \"nationwide lockdown\", \"moderna vaccine\", \"food drug\", \"authorized\", \"high risk\", \"howe\", \"health editor\", \"american received\", \"every million\", \"dutch prime\", \"prosecute responsible\", \"slammed three\", \"idiot vowed\", \"booster approved\", \"relnofollowmary kekatos\", \"hrefnewsfdaindexhtml\", \"stylefontweight boldfdaa\", \"pfizer vaccine\", \"modernas booster\", \"auckland\", \"myocarditis\", \"heart inflammation\", \"booster\", \"booster shot\", \"aged\", \"decline\", \"third dose\", \"democratic\", \"vaccine\", \"data\", \"vaccinated\", \"cdc\", \"older\", \"receive\", \"fully vaccinated\", \"jab\", \"18\", \"covid19\", \"2021\", \"people\", \"report\", \"percent\", \"november\", \"vaccination\", \"system\", \"classarticletimestamp\", \"shot\", \"american\", \"bold\", \"december\", \"covid\", \"two\", \"50\", \"would\", \"classclass\"], \"Freq\": [513.0, 156.0, 798.0, 152.0, 179.0, 323.0, 872.0, 341.0, 417.0, 260.0, 454.0, 139.0, 208.0, 151.0, 222.0, 250.0, 245.0, 101.0, 101.0, 149.0, 395.0, 94.0, 222.0, 98.0, 283.0, 188.0, 106.0, 384.0, 259.0, 403.0, 188.08182390149145, 99.88141978079373, 99.88114242589167, 92.20884018292166, 76.86298363770945, 74.94547863562264, 73.0265472368966, 67.2727960202155, 65.35454612210599, 65.35013221695021, 63.436458674724825, 61.51821670104108, 59.59991925637692, 55.76324116057799, 53.845613329891684, 53.84559748104014, 53.84545087916333, 53.83113144179084, 50.009283908826774, 50.008947120731406, 50.00516716963751, 83.73985579482533, 44.25437968819565, 40.41735291766268, 40.417325182172476, 38.50029564563206, 38.50022036358721, 38.500204514735664, 38.49934075232637, 38.49926547028152, 153.99617434543947, 69.4101721398104, 105.6335781878944, 462.6140613580171, 194.43840203560478, 67.27281186906704, 90.12074606721139, 255.23854293297853, 308.2984534096529, 104.67679886886856, 218.1090738908183, 682.6440160563017, 121.98387154873353, 135.88268040117268, 140.16134730669455, 70.15185084564374, 210.31595585250741, 148.74671773612445, 243.97205398508777, 99.93221535000107, 122.89469712269955, 334.7870827675819, 196.3887300092449, 124.83355845224563, 193.40280637783695, 209.2886491440985, 176.55718885960718, 106.73951897325249, 128.65386072218388, 142.22578701147128, 149.28803526070374, 129.88682212826342, 106.2413895691381, 111.40111790542117, 178.83914498469017, 101.21755134571102, 93.99693798394551, 63.30931859304306, 50.67323575740412, 137.320788300426, 41.64747220604701, 38.03715607261496, 36.23199643047405, 32.62168659874153, 30.816555314248532, 30.81654586169923, 27.20624863336578, 25.401095292924406, 25.401095292924406, 25.40109214207464, 25.401084264950217, 23.595943527907913, 23.595932499933728, 23.595932499933728, 23.59592934908396, 23.595912019410235, 21.790790187466538, 21.79078703661677, 21.790777584067467, 21.790777584067467, 21.7907744332177, 21.790772857792817, 19.985641573299812, 19.985633696175395, 140.56834394924726, 52.98184762798536, 44.355249479455594, 27.206254935065317, 43.45262239563862, 70.52998867010437, 25.401084264950217, 52.36153038165921, 60.99308481687364, 50.673276718451106, 82.01254225492045, 85.9373415528218, 61.262255610832945, 38.93949012740353, 97.53834818380665, 109.10562181717796, 77.27655668431197, 38.93983041917845, 54.28224743903233, 60.36997276680349, 73.89553734102834, 110.78452060742562, 83.57893680336083, 49.47542446394531, 73.41745890576772, 53.38007722843168, 65.48728047800455, 50.033140627085814, 56.45228808767771, 47.49285622563126, 49.99964517352089, 37.531547530984646, 35.748177703622204, 33.967713495599455, 27.734062516450553, 26.84459728742071, 25.06343891349339, 22.390311648923884, 21.50112353750812, 21.500685911176976, 67.80618592096563, 19.7199651635808, 18.828014107240513, 16.157647043856777, 16.157644300118026, 15.26706648502374, 14.376490041798831, 14.376490041798831, 14.376485926190702, 14.376488669929456, 13.48591085483517, 13.485872442492624, 13.484794153162596, 13.482003770850538, 12.595334411610263, 12.595333039740886, 12.595333039740886, 12.595333039740886, 12.595331667871509, 11.704752480907848, 53.56069431407153, 34.8596261395972, 47.1903694764068, 30.2632216930287, 21.50112902498563, 19.54993430117228, 33.969282914166314, 25.937662673748907, 18.82938597661714, 37.41654646488077, 33.94104984239533, 59.558578565892084, 44.38368935615328, 244.51003498902088, 23.128392464112316, 48.86557563463847, 87.56112140682603, 44.35042701124758, 75.73394467461738, 83.49955944290681, 68.01750867974125, 63.645377438863726, 84.85681566693393, 82.58399028337853, 73.7743170697459, 44.65632918858661, 50.823738083015705, 38.28412214613714, 56.09844962416362, 55.38809017346869, 44.25796850274044, 42.91289447877778, 37.952744354474156, 41.640411551009954, 42.42264872582388, 40.33971201390367, 37.947978480259756, 37.94791263052968, 31.29271165122833, 31.29268541902923, 24.36627436011227, 22.63463224708438, 17.439820673871772, 17.439817394846884, 15.708202607026388, 15.707877983562522, 13.976593284247373, 13.976583447172711, 13.976568145056568, 13.976568145056568, 13.976563773023384, 12.244970845368808, 45.14566711607435, 10.51336698763127, 10.51336698763127, 10.51336698763127, 10.51336698763127, 10.51336698763127, 10.513360429581496, 10.513360429581496, 10.5133593365732, 10.513361522589792, 10.513361522589792, 10.513360429581496, 10.5133593365732, 10.513352778523425, 10.513357150556608, 10.51335168551513, 29.561128560648417, 55.532157700723666, 43.41408402549443, 20.90305790057083, 76.3146699023621, 45.13053113719345, 26.097807172310574, 19.1697937632319, 20.903060086587423, 20.90305790057083, 34.75608987599755, 15.647524251482427, 159.4071104794723, 132.93811331785878, 81.38158529585272, 148.1991760681287, 36.46216652498558, 104.9234275445899, 27.757544641587856, 39.95083477570412, 34.75605489973209, 39.14069265478893, 36.48767296657747, 33.02410455836477, 48.442547387137154, 54.6504191643973, 55.467543422306356, 45.08928100410818, 51.19392033384214, 37.736334387819774, 33.02443464687011, 34.75609424803074, 32.74113126861968, 37.616099103243386, 34.30236464425862, 33.961166802593745, 33.34458770680674, 152.2797063376879, 48.678630035935306, 47.059767507399634, 32.49096097178906, 29.25342430456814, 29.25342430456814, 19.54082857486374, 19.540825720472064, 16.303293334838653, 14.684525001228192, 13.065760949205242, 11.446994042790617, 22.778383795630536, 9.828227136375991, 9.828226422778075, 9.828226422778075, 9.828226422778075, 9.828226422778075, 9.828226422778075, 9.828226422778075, 9.828226422778075, 9.828226422778075, 9.828226422778075, 9.828225709180156, 9.018439786746956, 8.209460229961367, 8.209460943559286, 8.209460229961367, 8.209460229961367, 8.20944667160092, 14.684539273186557, 16.30331902436371, 37.34738300267904, 14.684523574032356, 24.397164974003523, 32.491078001847654, 21.15977530795376, 58.391759536882546, 20.208169648847484, 22.77851081605998, 13.065763803596914, 34.155853420442874, 38.96637683323166, 12.889098366978265, 27.634747311491214, 34.110023307741834, 25.769336702203663, 37.34750003273763, 26.01599610423079, 37.34746292564588, 22.778468000184887, 34.47602768000708, 32.19672742374872, 26.633760676442737, 26.016096007939343, 27.790442959684466, 25.12126990799158, 21.883867397179284, 21.15968111302855, 22.778546495955894, 21.94814258887099, 33.956064806704056, 30.883052722208166, 23.189757348165827, 20.11245224177936, 18.573803061835385, 18.573180135138845, 13.95570338897607, 12.419163614235536, 12.419163614235536, 12.41791663642604, 12.409719640726111, 10.880244574350822, 9.34185007472592, 9.341848950309501, 9.34097415433494, 9.338936711782365, 7.803195834908057, 7.803193023867007, 7.803193023867007, 7.803193023867007, 7.803191899450588, 7.803190775034168, 7.802800040328307, 7.033861687396501, 23.189788831825577, 6.264536535216305, 6.264535973008095, 6.264535410799885, 6.264534286383466, 6.264534286383466, 18.57321274321502, 14.508700379537213, 14.713662377777293, 24.637373774767376, 11.16188952358456, 28.2028600116153, 21.252010053030983, 31.537476571495837, 13.188561291274807, 22.84110730006316, 79.8329181379208, 17.12523537894273, 39.69618139466699, 23.904688293832727, 53.03575405994617, 50.05396363075123, 39.01905332903186, 20.111979986883068, 30.94033948996125, 27.825620551624244, 29.985386117670252, 21.37807287551409, 20.042066022736265, 21.561231314958924, 23.185095517689568, 19.566640272140376, 19.56662228147766, 19.56662003264482, 19.566606539647783, 20.117147804748207, 18.86735895420346, 21.18811811505681, 14.938228832947546, 10.017700196025862, 8.776524088772208, 8.773308585345672, 9.876228999110841, 7.535625661681603, 7.535383581539459, 7.535358387678511, 7.535274590706231, 7.51712515235696, 7.476756919422827, 7.467449978573374, 6.294459960587906, 6.2844881208865, 6.259653546304168, 5.053298641035243, 5.0530899701434855, 5.0530833978319345, 5.053080111676159, 5.053053274737324, 5.05281064690255, 5.048843709188633, 5.048837136877082, 5.048833303028677, 5.037519616385522, 5.03666192972806, 3.8121392384067834, 3.812138690714154, 3.8121375953288954, 18.548384232753733, 23.3109375030695, 24.58383870587453, 8.766259233514136, 7.433361041634001, 8.776541067243716, 45.232957169057634, 9.639736417170521, 14.854053952752624, 7.4807024971242, 8.883307720704046, 8.223966305860536, 11.321038869010815, 7.690567358813906, 18.171982473277115, 31.296964223063142, 23.787138718069304, 26.19150936063365, 11.67553511408652, 10.065269491649845, 18.708877890069104, 12.350555325828594, 9.937998869226943, 13.718125199605662, 12.89233068394752, 10.761656288245613, 10.414572515214662, 9.9174823033339, 11.012996817365869, 10.373112183177732, 9.413347668855266, 9.297231354520399, 9.169816688935997], \"Total\": [513.0, 156.0, 798.0, 152.0, 179.0, 323.0, 872.0, 341.0, 417.0, 260.0, 454.0, 139.0, 208.0, 151.0, 222.0, 250.0, 245.0, 101.0, 101.0, 149.0, 395.0, 94.0, 222.0, 98.0, 283.0, 188.0, 106.0, 384.0, 259.0, 403.0, 188.79897531581187, 100.57573941242572, 100.57560562240472, 92.90309044639446, 77.55753020091913, 75.63960466515026, 73.72116003480266, 67.96691659856307, 66.04871863130933, 66.04716186290273, 64.1305743751669, 62.212386486040806, 60.294166329749935, 56.45771026021927, 54.53972830002252, 54.53974142507579, 54.5396765580065, 54.53462399792267, 50.703397159055044, 50.70327865105882, 50.70194466853645, 84.94936269716952, 44.9487497638402, 41.11217149631175, 41.11215776688084, 39.19439436087644, 39.19436721798461, 39.19435948197054, 39.19405931894733, 39.194030926618865, 157.73230367789787, 70.79965934916952, 109.40668882497697, 513.0647393591419, 208.22621711942503, 69.7480789999307, 94.64841005723589, 283.37216167125706, 363.3867011228453, 112.49577039772981, 250.4247731871059, 872.6082522742088, 134.26794699588754, 151.91275561267477, 164.8473831769617, 74.7844339288418, 295.40216146558896, 195.68571207148597, 380.81148232210296, 120.7854397358032, 173.2125898485058, 798.0431614715416, 358.2556539728183, 185.3535008088837, 384.18002227106484, 454.24710012790837, 417.45363466287074, 156.0719511544524, 244.77405837413195, 341.4783718531114, 394.74858019198814, 403.60630022239974, 181.10223223479483, 314.88225769047995, 179.54154639617988, 101.91981936037871, 94.69918772783977, 64.01152740838693, 51.375421578134976, 139.2641474215003, 42.349640318015354, 38.73933084997682, 36.93417607766112, 33.32386244809852, 31.51870797531466, 31.518708364465525, 27.908395945317917, 26.103239755792817, 26.103241664591486, 26.103238859671784, 26.103237367520247, 24.298084237963987, 24.29808083682772, 24.298081586661752, 24.29808117700354, 24.298078538707905, 22.492928590010493, 22.492926818432956, 22.492925112197625, 22.492925778210964, 22.49292461099527, 22.492923511029883, 20.687770596417224, 20.687769346628315, 151.8206956579613, 61.625189249742824, 53.39590505653841, 29.44705692753332, 53.86741363753341, 107.65703864864055, 27.722007884334094, 80.82000681281623, 102.05288903923822, 82.6243607168985, 198.21617899294773, 222.46828231940344, 125.51026811449478, 58.34618774745533, 314.88225769047995, 394.74858019198814, 209.1677975282541, 62.20824835248726, 123.57302377152914, 162.6104154794495, 259.9845055105042, 798.0431614715416, 403.60630022239974, 109.25710576294219, 395.32590107971555, 150.48301211690247, 384.18002227106484, 222.79330578881167, 872.6082522742088, 160.91726769199053, 50.70354310313916, 38.235419711423305, 36.45429009153787, 34.67311998634623, 28.4390505268626, 27.548455218567597, 25.767295131934276, 23.095574036440734, 22.204973934636428, 22.204977858226773, 70.05388039207742, 20.423815170740134, 19.533252726608772, 16.861492122226554, 16.861491739848518, 15.97091149744525, 15.080331105238498, 15.0803317143206, 15.080329298035112, 15.080332314939517, 14.189753343722654, 14.18975253853679, 14.189767590105047, 14.189807790833594, 13.299172680504155, 13.299173371393842, 13.299173531580598, 13.299174445564503, 13.299173101813032, 12.4085929930584, 58.88187032325042, 40.179659955600386, 55.89037738906503, 34.93797982216698, 24.010128137253655, 21.939424691560852, 41.66876946262642, 30.67919290244817, 21.071899265921246, 50.51525868469158, 45.14289281458735, 104.8146721420834, 71.00806518798099, 798.0431614715416, 29.59084677906119, 99.35728083883633, 259.9845055105042, 94.06172381206585, 245.5959035352013, 323.00146223691235, 222.79330578881167, 217.94214447657924, 417.45363466287074, 454.24710012790837, 403.60630022239974, 130.19293603708232, 181.752243085931, 93.46754815640669, 394.74858019198814, 395.32590107971555, 181.25634628097495, 160.01803085914472, 107.6236797845848, 254.46955511055938, 380.81148232210296, 358.2556539728183, 123.22098571019013, 123.22098390948405, 32.00013654061352, 32.00012525763589, 25.073674906722054, 23.34204923305965, 18.147211749574467, 18.147209151478517, 16.415592251268272, 16.415607371306383, 14.683978494473855, 14.68397891986577, 14.68396960571446, 14.683970163509995, 14.683969187334679, 12.952364016423298, 47.77122369660514, 11.220744958664325, 11.22074546514004, 11.220745810152517, 11.220746027614588, 11.220746163148103, 11.220744517231585, 11.220744517380284, 11.220744150194097, 11.220747033294357, 11.220747872405335, 11.220748246381243, 11.220747583115553, 11.220741149608097, 11.220746503832215, 11.220740835670979, 32.049678209447, 61.88401722115376, 49.87594525879717, 23.391601099521665, 98.64910857326912, 60.04857596696642, 32.14876289083395, 22.586450040232336, 25.06727142177571, 25.17276303866569, 46.0356143035497, 18.03040379342432, 323.00146223691235, 260.55789681925785, 149.30407946590594, 341.4783718531114, 63.51355228396447, 395.32590107971555, 45.87431965441023, 99.60351512108204, 80.49888782426866, 129.21142054905945, 121.45703415394736, 98.84102873537739, 255.8215001953314, 358.2556539728183, 403.60630022239974, 254.46955511055938, 380.81148232210296, 166.34561445372674, 113.49279648809375, 244.77405837413195, 213.8417684527567, 872.6082522742088, 417.45363466287074, 394.74858019198814, 454.24710012790837, 152.99535638740943, 49.39412685615804, 47.775333432554554, 33.20643316952634, 29.96889022123756, 29.96889359581882, 20.256280683827843, 20.256279777860346, 17.018742101967675, 15.399969663900547, 13.781201957134543, 12.162433610127318, 24.396392689010668, 10.543664004913534, 10.543663789182249, 10.543664001167372, 10.543664271977512, 10.543664313571059, 10.543664344119193, 10.543664372149761, 10.543664416556531, 10.543664441801651, 10.543664483589799, 10.543664182635629, 9.73428542762465, 8.924895283784059, 8.924896095259532, 8.924895958354282, 8.924896219404424, 8.92489195822455, 16.302547068394624, 23.336780401054913, 75.56055861523306, 20.64435573095961, 45.421157882539234, 87.2496240671918, 43.04899784607363, 384.18002227106484, 45.62892634284661, 61.96729046966819, 19.1966703944239, 150.48301211690247, 222.46828231940344, 19.14239598885765, 107.65703864864055, 183.299268425426, 97.38879105760883, 244.77405837413195, 102.05288903923822, 254.46955511055938, 91.53215748441707, 395.32590107971555, 314.88225769047995, 198.21617899294773, 179.6182860382662, 255.8215001953314, 394.74858019198814, 181.25634628097495, 123.57302377152914, 872.6082522742088, 341.4783718531114, 34.68231398187432, 31.604247287483044, 23.910950003178105, 20.833628590976247, 19.294969065531248, 19.295074481317126, 14.679356355743867, 13.140327460177824, 13.140327961500368, 13.14054420933822, 13.141963788878101, 11.601714103113213, 10.063009254345964, 10.063009197453841, 10.063159247709997, 10.063513100829221, 8.524349479491482, 8.524349011216243, 8.524350196577402, 8.524350264318022, 8.524349833982836, 8.524348728605377, 8.524417983808926, 7.75501987816114, 25.64256184957005, 6.985688859717983, 6.985689677190969, 6.985689175917021, 6.985689119283625, 6.985689152916055, 24.750172023321934, 19.215646592974586, 20.793025194789227, 40.96350445461598, 15.120341673134032, 56.75940661813999, 38.360494702709154, 82.74273725368475, 23.178033202361217, 68.13987853743173, 798.0431614715416, 39.07855954239733, 222.79330578881167, 81.95356872539654, 454.24710012790837, 417.45363466287074, 245.5959035352013, 60.678880183497256, 181.25634628097495, 164.252152374608, 403.60630022239974, 129.21142054905945, 108.2147543434951, 160.01803085914472, 259.9845055105042, 123.22098571019013, 123.22102902721029, 123.22098390948405, 123.2209740036724, 314.88225769047995, 395.32590107971555, 21.930989608053643, 15.745494184802967, 10.760494921141872, 9.519341143746122, 9.520776861619604, 10.824759119367735, 8.278033220832917, 8.278163513223978, 8.278180342672648, 8.278191399761472, 8.28658308844238, 8.304786473060004, 8.305270360217285, 7.036870684097981, 7.041500125706529, 7.052686080025147, 5.795705244393194, 5.795819868013144, 5.795823168220661, 5.795825954132433, 5.795839655314221, 5.795928429335443, 5.7978539608990705, 5.797856427401558, 5.797857492337685, 5.802881136319728, 5.8032663950239645, 4.554541171550807, 4.554541207171627, 4.554541293334124, 23.36355413277946, 32.27219563397084, 37.25493364815239, 12.92404722676123, 10.247242234872392, 13.105649778357758, 156.0719511544524, 16.583529273894076, 42.825945744958794, 12.143968538143849, 17.40761611819589, 16.78076535807896, 34.982163072107355, 14.761915629507072, 106.12628643111412, 513.0647393591419, 417.45363466287074, 872.6082522742088, 59.3430456152776, 36.62418413686803, 454.24710012790837, 101.27833654267278, 39.488030632962534, 245.5959035352013, 222.46828231940344, 94.06361372061785, 79.96889064733045, 64.85698992728018, 250.4247731871059, 403.60630022239974, 88.61813063499775, 395.32590107971555, 103.50027061100384], \"Category\": [\"Default\", \"Default\", \"Default\", \"Default\", \"Default\", \"Default\", \"Default\", \"Default\", \"Default\", \"Default\", \"Default\", \"Default\", \"Default\", \"Default\", \"Default\", \"Default\", \"Default\", \"Default\", \"Default\", \"Default\", \"Default\", \"Default\", \"Default\", \"Default\", \"Default\", \"Default\", \"Default\", \"Default\", \"Default\", \"Default\", \"Topic1\", \"Topic1\", \"Topic1\", \"Topic1\", \"Topic1\", \"Topic1\", \"Topic1\", \"Topic1\", \"Topic1\", \"Topic1\", \"Topic1\", \"Topic1\", \"Topic1\", \"Topic1\", \"Topic1\", \"Topic1\", \"Topic1\", \"Topic1\", \"Topic1\", \"Topic1\", \"Topic1\", \"Topic1\", \"Topic1\", \"Topic1\", \"Topic1\", \"Topic1\", \"Topic1\", \"Topic1\", \"Topic1\", \"Topic1\", \"Topic1\", \"Topic1\", \"Topic1\", \"Topic1\", \"Topic1\", \"Topic1\", \"Topic1\", \"Topic1\", \"Topic1\", \"Topic1\", \"Topic1\", \"Topic1\", \"Topic1\", \"Topic1\", \"Topic1\", \"Topic1\", \"Topic1\", \"Topic1\", \"Topic1\", \"Topic1\", \"Topic1\", \"Topic1\", \"Topic1\", \"Topic1\", \"Topic1\", \"Topic1\", \"Topic1\", \"Topic1\", \"Topic1\", \"Topic1\", \"Topic1\", \"Topic1\", \"Topic1\", \"Topic1\", \"Topic2\", \"Topic2\", \"Topic2\", \"Topic2\", \"Topic2\", \"Topic2\", \"Topic2\", \"Topic2\", \"Topic2\", \"Topic2\", \"Topic2\", \"Topic2\", \"Topic2\", \"Topic2\", \"Topic2\", \"Topic2\", \"Topic2\", \"Topic2\", \"Topic2\", \"Topic2\", \"Topic2\", \"Topic2\", \"Topic2\", \"Topic2\", \"Topic2\", \"Topic2\", \"Topic2\", \"Topic2\", \"Topic2\", \"Topic2\", \"Topic2\", \"Topic2\", \"Topic2\", \"Topic2\", \"Topic2\", \"Topic2\", \"Topic2\", \"Topic2\", \"Topic2\", \"Topic2\", \"Topic2\", \"Topic2\", \"Topic2\", \"Topic2\", \"Topic2\", \"Topic2\", \"Topic2\", \"Topic2\", \"Topic2\", \"Topic2\", \"Topic2\", \"Topic2\", \"Topic2\", \"Topic2\", \"Topic2\", \"Topic2\", \"Topic2\", \"Topic2\", \"Topic2\", \"Topic2\", \"Topic3\", \"Topic3\", \"Topic3\", \"Topic3\", \"Topic3\", \"Topic3\", \"Topic3\", \"Topic3\", \"Topic3\", \"Topic3\", \"Topic3\", \"Topic3\", \"Topic3\", \"Topic3\", \"Topic3\", \"Topic3\", \"Topic3\", \"Topic3\", \"Topic3\", \"Topic3\", \"Topic3\", \"Topic3\", \"Topic3\", \"Topic3\", \"Topic3\", \"Topic3\", \"Topic3\", \"Topic3\", \"Topic3\", \"Topic3\", \"Topic3\", \"Topic3\", \"Topic3\", \"Topic3\", \"Topic3\", \"Topic3\", \"Topic3\", \"Topic3\", \"Topic3\", \"Topic3\", \"Topic3\", \"Topic3\", \"Topic3\", \"Topic3\", \"Topic3\", \"Topic3\", \"Topic3\", \"Topic3\", \"Topic3\", \"Topic3\", \"Topic3\", \"Topic3\", \"Topic3\", \"Topic3\", \"Topic3\", \"Topic3\", \"Topic3\", \"Topic3\", \"Topic3\", \"Topic3\", \"Topic3\", \"Topic3\", \"Topic3\", \"Topic3\", \"Topic3\", \"Topic3\", \"Topic3\", \"Topic3\", \"Topic4\", \"Topic4\", \"Topic4\", \"Topic4\", \"Topic4\", \"Topic4\", \"Topic4\", \"Topic4\", \"Topic4\", \"Topic4\", \"Topic4\", \"Topic4\", \"Topic4\", \"Topic4\", \"Topic4\", \"Topic4\", \"Topic4\", \"Topic4\", \"Topic4\", \"Topic4\", \"Topic4\", \"Topic4\", \"Topic4\", \"Topic4\", \"Topic4\", \"Topic4\", \"Topic4\", \"Topic4\", \"Topic4\", \"Topic4\", \"Topic4\", \"Topic4\", \"Topic4\", \"Topic4\", \"Topic4\", \"Topic4\", \"Topic4\", \"Topic4\", \"Topic4\", \"Topic4\", \"Topic4\", \"Topic4\", \"Topic4\", \"Topic4\", \"Topic4\", \"Topic4\", \"Topic4\", \"Topic4\", \"Topic4\", \"Topic4\", \"Topic4\", \"Topic4\", \"Topic4\", \"Topic4\", \"Topic4\", \"Topic4\", \"Topic4\", \"Topic4\", \"Topic4\", \"Topic4\", \"Topic4\", \"Topic4\", \"Topic4\", \"Topic4\", \"Topic4\", \"Topic4\", \"Topic4\", \"Topic5\", \"Topic5\", \"Topic5\", \"Topic5\", \"Topic5\", \"Topic5\", \"Topic5\", \"Topic5\", \"Topic5\", \"Topic5\", \"Topic5\", \"Topic5\", \"Topic5\", \"Topic5\", \"Topic5\", \"Topic5\", \"Topic5\", \"Topic5\", \"Topic5\", \"Topic5\", \"Topic5\", \"Topic5\", \"Topic5\", \"Topic5\", \"Topic5\", \"Topic5\", \"Topic5\", \"Topic5\", \"Topic5\", \"Topic5\", \"Topic5\", \"Topic5\", \"Topic5\", \"Topic5\", \"Topic5\", \"Topic5\", \"Topic5\", \"Topic5\", \"Topic5\", \"Topic5\", \"Topic5\", \"Topic5\", \"Topic5\", \"Topic5\", \"Topic5\", \"Topic5\", \"Topic5\", \"Topic5\", \"Topic5\", \"Topic5\", \"Topic5\", \"Topic5\", \"Topic5\", \"Topic5\", \"Topic5\", \"Topic5\", \"Topic5\", \"Topic5\", \"Topic5\", \"Topic5\", \"Topic5\", \"Topic6\", \"Topic6\", \"Topic6\", \"Topic6\", \"Topic6\", \"Topic6\", \"Topic6\", \"Topic6\", \"Topic6\", \"Topic6\", \"Topic6\", \"Topic6\", \"Topic6\", \"Topic6\", \"Topic6\", \"Topic6\", \"Topic6\", \"Topic6\", \"Topic6\", \"Topic6\", \"Topic6\", \"Topic6\", \"Topic6\", \"Topic6\", \"Topic6\", \"Topic6\", \"Topic6\", \"Topic6\", \"Topic6\", \"Topic6\", \"Topic6\", \"Topic6\", \"Topic6\", \"Topic6\", \"Topic6\", \"Topic6\", \"Topic6\", \"Topic6\", \"Topic6\", \"Topic6\", \"Topic6\", \"Topic6\", \"Topic6\", \"Topic6\", \"Topic6\", \"Topic6\", \"Topic6\", \"Topic6\", \"Topic6\", \"Topic6\", \"Topic6\", \"Topic6\", \"Topic6\", \"Topic6\", \"Topic6\", \"Topic6\", \"Topic6\", \"Topic6\", \"Topic6\", \"Topic6\", \"Topic6\", \"Topic7\", \"Topic7\", \"Topic7\", \"Topic7\", \"Topic7\", \"Topic7\", \"Topic7\", \"Topic7\", \"Topic7\", \"Topic7\", \"Topic7\", \"Topic7\", \"Topic7\", \"Topic7\", \"Topic7\", \"Topic7\", \"Topic7\", \"Topic7\", \"Topic7\", \"Topic7\", \"Topic7\", \"Topic7\", \"Topic7\", \"Topic7\", \"Topic7\", \"Topic7\", \"Topic7\", \"Topic7\", \"Topic7\", \"Topic7\", \"Topic7\", \"Topic7\", \"Topic7\", \"Topic7\", \"Topic7\", \"Topic7\", \"Topic7\", \"Topic7\", \"Topic7\", \"Topic7\", \"Topic7\", \"Topic7\", \"Topic7\", \"Topic7\", \"Topic7\", \"Topic7\", \"Topic7\", \"Topic7\", \"Topic7\", \"Topic7\", \"Topic7\", \"Topic7\", \"Topic7\", \"Topic7\", \"Topic7\", \"Topic7\", \"Topic7\", \"Topic7\", \"Topic7\", \"Topic7\", \"Topic7\", \"Topic7\", \"Topic7\"], \"logprob\": [30.0, 29.0, 28.0, 27.0, 26.0, 25.0, 24.0, 23.0, 22.0, 21.0, 20.0, 19.0, 18.0, 17.0, 16.0, 15.0, 14.0, 13.0, 12.0, 11.0, 10.0, 9.0, 8.0, 7.0, 6.0, 5.0, 4.0, 3.0, 2.0, 1.0, -5.8914, -6.5243, -6.5243, -6.6042, -6.7863, -6.8115, -6.8375, -6.9195, -6.9485, -6.9485, -6.9783, -7.009, -7.0406, -7.1072, -7.1422, -7.1422, -7.1422, -7.1424, -7.2161, -7.2161, -7.2162, -6.7006, -7.3383, -7.429, -7.429, -7.4776, -7.4776, -7.4776, -7.4777, -7.4777, -6.0914, -6.8883, -6.4683, -4.9914, -5.8582, -6.9195, -6.6271, -5.5861, -5.3972, -6.4774, -5.7433, -4.6023, -6.3244, -6.2165, -6.1855, -6.8776, -5.7797, -6.1261, -5.6312, -6.5238, -6.317, -5.3148, -5.8482, -6.3013, -5.8635, -5.7846, -5.9547, -6.4579, -6.2712, -6.1709, -6.1224, -6.2616, -6.4626, -6.4152, -5.0195, -5.5887, -5.6628, -6.058, -6.2806, -5.2837, -6.4768, -6.5675, -6.6161, -6.721, -6.778, -6.778, -6.9026, -6.9712, -6.9712, -6.9712, -6.9712, -7.0449, -7.0449, -7.0449, -7.0449, -7.0449, -7.1245, -7.1245, -7.1245, -7.1245, -7.1245, -7.1245, -7.211, -7.211, -5.2603, -6.2361, -6.4138, -6.9026, -6.4343, -5.95, -6.9712, -6.2478, -6.0953, -6.2806, -5.7991, -5.7524, -6.0909, -6.544, -5.6258, -5.5137, -5.8586, -6.544, -6.2118, -6.1055, -5.9034, -5.4984, -5.7802, -6.3045, -5.9099, -6.2286, -6.0242, -6.2933, -6.1726, -6.3454, -6.1557, -6.4425, -6.4912, -6.5423, -6.745, -6.7776, -6.8463, -6.959, -6.9996, -6.9996, -5.851, -7.086, -7.1323, -7.2853, -7.2853, -7.342, -7.4021, -7.4021, -7.4021, -7.4021, -7.466, -7.466, -7.4661, -7.4663, -7.5343, -7.5343, -7.5343, -7.5343, -7.5343, -7.6077, -6.0869, -6.5163, -6.2135, -6.6577, -6.9996, -7.0947, -6.5422, -6.812, -7.1322, -6.4456, -6.543, -5.9807, -6.2748, -4.5684, -6.9266, -6.1786, -5.5953, -6.2755, -5.7404, -5.6428, -5.8479, -5.9143, -5.6267, -5.6539, -5.7667, -6.2687, -6.1393, -6.4226, -6.0406, -6.0533, -6.2776, -6.3085, -6.4313, -6.3386, -6.32, -6.3703, -6.4315, -6.4315, -6.397, -6.397, -6.6472, -6.7209, -6.9817, -6.9817, -7.0862, -7.0863, -7.203, -7.203, -7.203, -7.203, -7.203, -7.3353, -6.0305, -7.4878, -7.4878, -7.4878, -7.4878, -7.4878, -7.4878, -7.4878, -7.4878, -7.4878, -7.4878, -7.4878, -7.4878, -7.4878, -7.4878, -7.4878, -6.454, -5.8235, -6.0696, -6.8005, -5.5056, -6.0309, -6.5786, -6.8871, -6.8005, -6.8005, -6.2921, -7.0901, -4.769, -4.9505, -5.4413, -4.8419, -6.2442, -5.1872, -6.5169, -6.1528, -6.2921, -6.1733, -6.2435, -6.3432, -5.96, -5.8395, -5.8246, -6.0318, -5.9048, -6.2098, -6.3432, -6.2921, -6.3518, -6.213, -6.3052, -6.3152, -6.3335, -4.3883, -5.5288, -5.5626, -5.9331, -6.0381, -6.0381, -6.4416, -6.4416, -6.6227, -6.7273, -6.8441, -6.9763, -6.2882, -7.1288, -7.1288, -7.1288, -7.1288, -7.1288, -7.1288, -7.1288, -7.1288, -7.1288, -7.1288, -7.1288, -7.2148, -7.3088, -7.3088, -7.3088, -7.3088, -7.3088, -6.7273, -6.6227, -5.7938, -6.7273, -6.2196, -5.9331, -6.362, -5.3469, -6.408, -6.2882, -6.8441, -5.8831, -5.7514, -6.8577, -6.095, -5.8845, -6.1649, -5.7938, -6.1553, -5.7938, -6.2882, -5.8738, -5.9422, -6.1319, -6.1553, -6.0894, -6.1903, -6.3283, -6.362, -6.2882, -6.3254, -5.6505, -5.7454, -6.0319, -6.1743, -6.2539, -6.2539, -6.5397, -6.6564, -6.6564, -6.6565, -6.6571, -6.7887, -6.9411, -6.9411, -6.9412, -6.9414, -7.1211, -7.1211, -7.1211, -7.1211, -7.1211, -7.1211, -7.1211, -7.2249, -6.0319, -7.3407, -7.3407, -7.3407, -7.3407, -7.3407, -6.2539, -6.5009, -6.4868, -5.9713, -6.7631, -5.8362, -6.1192, -5.7244, -6.5963, -6.047, -4.7957, -6.3351, -5.4944, -6.0015, -5.2046, -5.2625, -5.5116, -6.1743, -5.7435, -5.8497, -5.7749, -6.1132, -6.1778, -6.1047, -6.0321, -6.2018, -6.2018, -6.2018, -6.2018, -6.174, -6.2382, -5.4029, -5.7524, -6.152, -6.2842, -6.2846, -6.1662, -6.4367, -6.4367, -6.4367, -6.4367, -6.4391, -6.4445, -6.4458, -6.6166, -6.6182, -6.6222, -6.8363, -6.8363, -6.8363, -6.8363, -6.8363, -6.8364, -6.8371, -6.8371, -6.8371, -6.8394, -6.8396, -7.1181, -7.1181, -7.1181, -5.5359, -5.3074, -5.2542, -6.2854, -6.4503, -6.2842, -4.6445, -6.1904, -5.758, -6.444, -6.2721, -6.3493, -6.0296, -6.4163, -5.5564, -5.0128, -5.2872, -5.1909, -5.9988, -6.1472, -5.5273, -5.9426, -6.1599, -5.8376, -5.8997, -6.0803, -6.1131, -6.162, -6.0572, -6.1171, -6.2142, -6.2266, -6.2404], \"loglift\": [30.0, 29.0, 28.0, 27.0, 26.0, 25.0, 24.0, 23.0, 22.0, 21.0, 20.0, 19.0, 18.0, 17.0, 16.0, 15.0, 14.0, 13.0, 12.0, 11.0, 10.0, 9.0, 8.0, 7.0, 6.0, 5.0, 4.0, 3.0, 2.0, 1.0, 0.8762, 0.873, 0.873, 0.8725, 0.871, 0.8707, 0.8705, 0.8697, 0.8694, 0.8694, 0.8691, 0.8687, 0.8684, 0.8676, 0.8672, 0.8672, 0.8672, 0.867, 0.8662, 0.8662, 0.8661, 0.8656, 0.8644, 0.8629, 0.8629, 0.8621, 0.8621, 0.8621, 0.8621, 0.8621, 0.856, 0.8601, 0.8449, 0.7765, 0.8115, 0.8438, 0.8309, 0.7754, 0.7156, 0.8079, 0.7418, 0.6345, 0.784, 0.7685, 0.7177, 0.816, 0.5402, 0.6057, 0.4347, 0.6904, 0.5368, 0.0113, 0.2788, 0.4847, 0.1936, 0.105, 0.0194, 0.5, 0.2368, 0.0041, -0.0924, -0.2538, 0.3466, -0.1591, 1.7983, 1.7953, 1.7948, 1.7912, 1.7885, 1.7882, 1.7855, 1.784, 1.783, 1.7809, 1.7797, 1.7797, 1.7768, 1.775, 1.775, 1.775, 1.775, 1.7729, 1.7729, 1.7729, 1.7729, 1.7729, 1.7705, 1.7705, 1.7705, 1.7705, 1.7705, 1.7705, 1.7677, 1.7677, 1.7252, 1.6511, 1.6167, 1.7231, 1.5874, 1.3793, 1.7148, 1.3682, 1.2875, 1.3133, 0.9198, 0.8511, 1.085, 1.3979, 0.6303, 0.5163, 0.8065, 1.3338, 0.9796, 0.8114, 0.5443, -0.1723, 0.2276, 1.01, 0.1187, 0.7658, 0.033, 0.3087, -0.9358, 0.5819, 1.9266, 1.922, 1.921, 1.92, 1.9155, 1.9147, 1.9129, 1.9096, 1.9084, 1.9084, 1.908, 1.9055, 1.9038, 1.898, 1.898, 1.8955, 1.8928, 1.8928, 1.8928, 1.8928, 1.8897, 1.8897, 1.8896, 1.8894, 1.8862, 1.8862, 1.8862, 1.8862, 1.8862, 1.8822, 1.8459, 1.7986, 1.7714, 1.797, 1.8302, 1.8253, 1.7363, 1.7727, 1.8281, 1.6404, 1.6554, 1.3754, 1.4707, 0.7577, 1.6942, 1.2309, 0.8523, 1.1888, 0.7641, 0.5878, 0.7541, 0.7097, 0.3474, 0.2358, 0.2412, 0.8706, 0.6663, 1.048, -0.0105, -0.0248, 0.5307, 0.6245, 0.8983, 0.1305, -0.254, -0.2433, 0.7628, 0.7628, 2.1455, 2.1455, 2.1392, 2.1371, 2.1281, 2.1281, 2.1238, 2.1238, 2.1185, 2.1185, 2.1185, 2.1185, 2.1185, 2.1117, 2.1113, 2.1027, 2.1027, 2.1027, 2.1027, 2.1027, 2.1027, 2.1027, 2.1027, 2.1027, 2.1027, 2.1027, 2.1027, 2.1027, 2.1027, 2.1027, 2.087, 2.0595, 2.0291, 2.0554, 1.9111, 1.8822, 1.9593, 2.0038, 1.9862, 1.982, 1.8868, 2.0261, 1.4616, 1.4949, 1.561, 1.3331, 1.6129, 0.8414, 1.6654, 1.2543, 1.3279, 0.9735, 0.9652, 1.0716, 0.5037, 0.2875, 0.1832, 0.4373, 0.1612, 0.6844, 0.9333, 0.2159, 0.2912, -0.9762, -0.3311, -0.2852, -0.4439, 2.5895, 2.5796, 2.5791, 2.5724, 2.57, 2.57, 2.5582, 2.5582, 2.5513, 2.5466, 2.5409, 2.5336, 2.5256, 2.5239, 2.5239, 2.5239, 2.5239, 2.5239, 2.5239, 2.5239, 2.5239, 2.5239, 2.5239, 2.5239, 2.5178, 2.5106, 2.5106, 2.5106, 2.5106, 2.5106, 2.4897, 2.2355, 1.8895, 2.2536, 1.9727, 1.6064, 1.884, 0.7103, 1.7797, 1.5934, 2.2095, 1.1113, 0.8521, 2.1987, 1.2343, 0.9127, 1.2647, 0.7141, 1.2274, 0.6753, 1.2033, 0.1548, 0.3139, 0.587, 0.6621, 0.3744, -0.1603, 0.48, 0.8295, -1.0515, -0.1504, 2.8115, 2.8096, 2.802, 2.7974, 2.7946, 2.7945, 2.7821, 2.7762, 2.7762, 2.7761, 2.7753, 2.7684, 2.7583, 2.7583, 2.7582, 2.7579, 2.7443, 2.7443, 2.7443, 2.7443, 2.7443, 2.7443, 2.7442, 2.735, 2.7321, 2.7237, 2.7237, 2.7237, 2.7237, 2.7237, 2.5455, 2.5517, 2.4868, 2.3242, 2.5291, 2.1333, 2.2421, 1.8681, 2.2688, 1.7397, 0.5304, 2.0076, 1.1077, 1.6006, 0.685, 0.7116, 0.993, 1.7284, 1.0648, 1.0572, 0.2329, 1.0336, 1.1464, 0.8283, 0.4155, 0.9925, 0.9925, 0.9925, 0.9925, 0.082, -0.2096, 3.5175, 3.4993, 3.4804, 3.4707, 3.4702, 3.4603, 3.458, 3.4579, 3.4579, 3.4579, 3.4545, 3.4469, 3.4456, 3.4405, 3.4382, 3.4327, 3.4149, 3.4148, 3.4148, 3.4148, 3.4148, 3.4147, 3.4136, 3.4136, 3.4136, 3.4105, 3.4103, 3.374, 3.374, 3.374, 3.3212, 3.2267, 3.1363, 3.1638, 3.2309, 3.151, 2.3135, 3.0094, 2.4931, 3.0675, 2.8792, 2.8388, 2.4238, 2.8999, 1.7872, 0.7551, 0.6869, 0.0459, 1.9261, 2.2603, 0.3623, 1.4478, 2.1723, 0.667, 0.7038, 1.384, 1.5135, 1.6741, 0.4279, -0.1093, 1.3097, -0.198, 1.1283]}, \"token.table\": {\"Topic\": [4, 1, 2, 3, 4, 5, 6, 7, 1, 2, 3, 4, 5, 6, 7, 1, 2, 3, 5, 6, 1, 3, 5, 6, 2, 3, 4, 5, 6, 1, 2, 3, 4, 5, 6, 1, 2, 3, 4, 5, 6, 7, 4, 1, 1, 3, 4, 5, 6, 7, 4, 2, 2, 3, 6, 7, 2, 2, 2, 2, 1, 1, 2, 3, 4, 7, 7, 4, 5, 7, 5, 2, 2, 7, 1, 2, 3, 4, 5, 6, 1, 2, 3, 4, 5, 6, 7, 1, 2, 3, 4, 5, 6, 7, 6, 3, 5, 3, 5, 6, 7, 1, 2, 3, 6, 7, 1, 1, 7, 7, 1, 2, 6, 3, 4, 6, 3, 4, 1, 2, 3, 4, 5, 1, 3, 4, 4, 5, 2, 1, 6, 1, 2, 3, 4, 5, 6, 7, 1, 7, 7, 1, 7, 2, 5, 1, 2, 1, 4, 6, 6, 6, 2, 5, 3, 4, 5, 1, 5, 6, 1, 1, 2, 3, 4, 5, 6, 7, 1, 7, 3, 5, 5, 2, 3, 4, 5, 6, 7, 5, 1, 2, 2, 1, 2, 3, 4, 5, 6, 1, 2, 3, 4, 5, 6, 7, 1, 2, 3, 4, 5, 6, 7, 1, 2, 3, 4, 5, 6, 7, 1, 2, 3, 4, 5, 6, 7, 1, 2, 3, 4, 5, 6, 7, 3, 2, 3, 4, 6, 4, 3, 1, 2, 1, 2, 7, 1, 2, 3, 5, 6, 7, 3, 1, 2, 3, 4, 5, 6, 7, 1, 2, 3, 5, 6, 1, 2, 3, 4, 6, 7, 1, 1, 2, 3, 5, 6, 7, 6, 6, 6, 5, 1, 2, 3, 4, 6, 7, 1, 3, 7, 1, 2, 3, 6, 1, 2, 3, 4, 5, 6, 7, 6, 1, 2, 3, 4, 5, 6, 1, 2, 3, 4, 6, 7, 3, 5, 7, 2, 3, 5, 7, 1, 2, 3, 4, 5, 2, 3, 7, 5, 2, 3, 6, 2, 1, 7, 4, 7, 2, 2, 1, 2, 3, 4, 5, 6, 7, 1, 2, 4, 6, 7, 1, 2, 4, 5, 4, 4, 4, 4, 1, 2, 3, 4, 5, 6, 7, 4, 4, 5, 2, 5, 7, 1, 2, 3, 5, 6, 7, 3, 6, 3, 3, 1, 2, 3, 4, 5, 6, 7, 1, 1, 1, 3, 1, 4, 4, 1, 7, 1, 7, 6, 1, 2, 5, 6, 1, 2, 3, 4, 5, 7, 3, 1, 2, 3, 4, 5, 7, 1, 2, 5, 2, 2, 5, 1, 4, 6, 7, 7, 7, 1, 2, 3, 4, 5, 6, 1, 2, 3, 4, 5, 3, 4, 3, 4, 7, 7, 5, 7, 1, 3, 7, 1, 2, 3, 4, 6, 6, 1, 2, 4, 7, 1, 2, 3, 5, 6, 2, 7, 5, 2, 3, 5, 6, 5, 5, 6, 2, 2, 2, 5, 2, 3, 5, 3, 6, 2, 4, 2, 3, 6, 3, 5, 5, 5, 4, 6, 6, 5, 3, 1, 2, 3, 4, 5, 6, 7, 1, 3, 4, 2, 4, 1, 2, 3, 4, 5, 6, 7, 1, 7, 1, 2, 3, 6, 7, 1, 2, 3, 4, 5, 6, 3, 2, 2, 1, 4, 5, 6, 7, 1, 2, 3, 4, 5, 6, 3, 1, 1, 4, 7, 7, 7, 3, 2, 4, 3, 5, 1, 2, 3, 5, 6, 2, 5, 1, 7, 1, 2, 3, 7, 3, 4, 7, 1, 6, 1, 2, 3, 4, 5, 6, 7, 3, 7, 1, 2, 3, 4, 5, 6, 1, 2, 3, 4, 5, 6, 7, 3, 6, 3, 1, 2, 3, 4, 5, 6, 7, 1, 2, 5, 7, 3, 5, 6, 6, 1, 2, 3, 4, 5, 6, 7, 1, 1, 2, 4, 1, 2, 3, 4, 7, 3, 7, 1, 2, 3, 4, 5, 6, 7, 5, 2, 3, 1, 2, 3, 4, 5, 6, 1, 1, 4, 3, 6, 7, 1, 2, 3, 4, 5, 1, 2, 4, 5, 4, 5, 6, 7, 1, 2, 5, 5, 1, 3, 4, 5, 1, 2, 3, 5, 5, 7, 4, 6, 2, 3, 5, 7, 7, 1, 2, 3, 4, 6, 7, 1, 3, 1, 2, 4, 5, 7, 5, 1, 2, 3, 4, 5, 6, 1, 5, 4, 5, 6, 1, 1, 6, 2, 6, 1, 2, 3, 4, 5, 6, 5, 2, 3, 6, 7, 3, 3, 5, 3, 6, 1, 1, 2, 5, 1, 2, 3, 4, 5, 7, 2, 7, 4, 3, 1, 2, 4, 5, 6, 1, 2, 4, 6, 4, 1, 2, 3, 4, 5, 6, 6, 1, 1, 2, 3, 4, 5, 6, 7, 7, 2, 3, 6, 7, 1, 2, 5, 7, 1, 4, 1, 2, 3, 4, 5, 6, 7, 6, 2, 1, 7, 1, 2, 3, 4, 5, 6, 1, 2, 3, 4, 6, 6, 1, 2, 3, 4, 5, 6, 1, 2, 3, 4, 5, 6, 2, 6, 2, 2, 3, 4, 5, 6, 4, 1, 2, 3, 5, 6, 1, 2, 3, 4, 5, 6, 7, 1, 4, 6, 1, 2, 3, 4, 5, 6, 7, 1, 2, 5, 3, 1, 3, 7, 1, 2, 3, 5, 7, 1, 3, 4, 7, 1, 3, 5, 7, 6, 1, 2, 7, 2, 3, 5, 6, 2, 5, 1, 2, 4, 6, 6, 1, 2, 3, 5, 1, 1, 2, 3, 4, 5, 6, 2, 3, 4, 5, 4, 4, 4, 2, 1, 1, 2, 3, 4, 5, 6, 7, 4, 3, 2, 3, 5, 6, 1, 2, 3, 4, 5, 7, 3, 2, 3, 5, 6, 6, 2, 3, 6, 2, 3, 6, 3, 3, 6, 3, 3, 5, 1, 2, 3, 4, 5, 6, 3, 6, 1, 2, 3, 4, 5, 6, 7, 1, 2, 3, 4, 5, 6, 7, 1, 2, 3, 4, 5, 6, 1, 2, 5], \"Freq\": [0.936783163631249, 0.31095029431205135, 0.13191830667783996, 0.037690944765097135, 0.13191830667783996, 0.12249557048656569, 0.10365009810401712, 0.16960925144293712, 0.7101100451622919, 0.14433130999233576, 0.040412766797854015, 0.040412766797854015, 0.028866261998467153, 0.023093009598773723, 0.017319757199080292, 0.08860752491934791, 0.044303762459673955, 0.7531639618144572, 0.08860752491934791, 0.022151881229836978, 0.19776238394168028, 0.44496536386878066, 0.03296039732361338, 0.32960397323613383, 0.2935138780591349, 0.1614326329325242, 0.1614326329325242, 0.044027081708870236, 0.33754095976800513, 0.19121941463870012, 0.48601601220669616, 0.03983737804972919, 0.09560970731935006, 0.07967475609945839, 0.1035771829292959, 0.42399918291031896, 0.08623712194786148, 0.20361542682133962, 0.08144617072853584, 0.028745707315953828, 0.11977378048314095, 0.057491414631907656, 0.9534206242662031, 0.9950409400181507, 0.6996310975613661, 0.04513749016524943, 0.0789906077891865, 0.03385311762393707, 0.022568745082624714, 0.10155935287181121, 0.9687458664639078, 0.9577355566639574, 0.05368416486494501, 0.10736832972989002, 0.18789457702730752, 0.6710520608118126, 0.9780853263975738, 0.967450800572782, 0.9841977304816758, 0.9917439601519681, 0.9695346861311175, 0.46776854789659883, 0.13820434369672238, 0.021262206722572674, 0.2551464806708721, 0.11694213697414971, 0.8507396943404869, 0.9803271060099119, 0.896368978934019, 0.9238080856790549, 0.9484368666375793, 0.9969837265688639, 0.9809152395316281, 0.9664131305811622, 0.34266007064379805, 0.16832424522853237, 0.14427792448159918, 0.22844004709586538, 0.0480926414938664, 0.06612738205406629, 0.2110030391354082, 0.1055015195677041, 0.30838905719790427, 0.1217325225781201, 0.04057750752604004, 0.16231003010416015, 0.056808510536456046, 0.211003019089222, 0.105501509544611, 0.30838902789963213, 0.12173251101301269, 0.04057750367100423, 0.16231001468401693, 0.05680850513940592, 0.9384881185297117, 0.9283616904721124, 0.9484368603721656, 0.777267381759249, 0.16897116994766284, 0.03379423398953257, 0.878244338855765, 0.07047290023503562, 0.10570935035255342, 0.26427337588138355, 0.4933103016452493, 0.05285467517627671, 0.9957681162491725, 0.9861272183232909, 0.9526534908302533, 0.8428874147104666, 0.10408184758826788, 0.10408184758826788, 0.7806138569120091, 0.0624031226438485, 0.9360468396577275, 0.9132192509179378, 0.9392075087511091, 0.9534200833424495, 0.41583892774644593, 0.06442574936916769, 0.020499102072007898, 0.4334095866653099, 0.06442574936916769, 0.040547756161720426, 0.1824649027277419, 0.7704073670726881, 0.9571791964793238, 0.9920207749130623, 0.987732316192702, 0.9901037039968871, 0.938488035860918, 0.3001167054554004, 0.18757294090962526, 0.18757294090962526, 0.11254376454577517, 0.025009725454616702, 0.050019450909233404, 0.12504862727308352, 0.17120682826196948, 0.813232434244355, 0.8626745586941792, 0.24789140753655203, 0.7126877966675871, 0.04098966649485229, 0.9427623293816028, 0.9965861061110642, 0.9577354537506347, 0.12029847191601274, 0.8621390487314247, 0.9384879494554683, 0.9132192160773006, 0.9384880874156712, 0.06134010813185611, 0.9201016219778416, 0.09687878014040761, 0.19375756028081523, 0.7265908510530571, 0.16161503832097912, 0.08080751916048956, 0.7676714320246509, 0.9861554685303413, 0.5023686522247779, 0.16919151499798218, 0.09891196261420497, 0.0442500885379338, 0.1509708903058918, 0.01822062469209039, 0.015617678307506048, 0.32938161750305245, 0.5764178306303418, 0.948907717301546, 0.9837712606726418, 0.8963693944359479, 0.21563056458497135, 0.28750741944662844, 0.10268122123093873, 0.2669711752004407, 0.12321746547712649, 0.010268122123093873, 0.9484368756483987, 0.974580960336349, 0.01412436174400506, 0.9780853960229684, 0.10698900524560892, 0.2460747120649005, 0.40655821993331387, 0.11768790577016981, 0.04279560209824357, 0.08559120419648714, 0.21172991589636522, 0.10586495794818261, 0.3094514155408415, 0.11808014540374215, 0.044789020670384955, 0.1587974369222739, 0.057004208125944485, 0.21100294491339258, 0.10550147245669629, 0.30838891948880454, 0.12173246821926495, 0.04057748940642165, 0.1623099576256866, 0.05680848516899031, 0.21100302217274242, 0.10550151108637121, 0.3083890324063159, 0.12173251279196678, 0.04057750426398893, 0.1623100170559557, 0.0568085059695845, 0.2249746469614344, 0.11873661922964594, 0.26871971720393556, 0.17498028097000454, 0.043745070242501134, 0.13748450647643215, 0.0374957744935724, 0.3285015565590726, 0.2222216412017256, 0.15458896779250475, 0.1449271573054732, 0.03864724194812619, 0.028985431461094644, 0.08695629438328392, 0.9775043633886783, 0.025589479543509642, 0.4862001113266832, 0.051178959087019284, 0.4350211522396639, 0.9853462209061232, 0.916150535062061, 0.9950411364150512, 0.9835428419696817, 0.9360236659223196, 0.013371766656033136, 0.040115299968099406, 0.9861295231833271, 0.21915922204397278, 0.1972432998395755, 0.43831844408794557, 0.08766368881758911, 0.043831844408794556, 0.9907690080952224, 0.8475819259436205, 0.022015114959574558, 0.019263225589627737, 0.06329345550877685, 0.008255668109840459, 0.019263225589627737, 0.019263225589627737, 0.09967902548592844, 0.3521992233836138, 0.2325843928004997, 0.22593912443477113, 0.07974322038874275, 0.8705209042442474, 0.007986430314167408, 0.015972860628334817, 0.047918581885004446, 0.011979645471251112, 0.043925366727920745, 0.984122044257007, 0.902420229810225, 0.001949071770648434, 0.025337933018429643, 0.00974535885324217, 0.001949071770648434, 0.06042122489010146, 0.913204187652464, 0.9481357584090312, 0.913105544405431, 0.9484368996716723, 0.11448778834830668, 0.06678454320317889, 0.5724389417415334, 0.05724389417415334, 0.17173168252246002, 0.019081298058051113, 0.30150397526484546, 0.12060159010593818, 0.6030079505296909, 0.09764789544389822, 0.17088381702682187, 0.12205986930487277, 0.6102993465243639, 0.37745544246804646, 0.2761251223423964, 0.14186244817591007, 0.08613077210680255, 0.06333145007853129, 0.04053212805026002, 0.012666290015706256, 0.9619023918724674, 0.4536492636683856, 0.2920755533207414, 0.0683581082240033, 0.0745724816989127, 0.049714987799275134, 0.055929361274184526, 0.33920784829310047, 0.10792976991144106, 0.2004410012641048, 0.12334830847021834, 0.07709269279388646, 0.15418538558777292, 0.15475028564261914, 0.15475028564261914, 0.6963762853917861, 0.6172513718411062, 0.2783682657322636, 0.09682374460252646, 0.9575491291231217, 0.14170204116062748, 0.015744671240069723, 0.23617006860104583, 0.5668081646425099, 0.031489342480139446, 0.1526059397148499, 0.1526059397148499, 0.6867267287168245, 0.9433139460865303, 0.25349233150274214, 0.6196479214511474, 0.11266325844566318, 0.9902813652348095, 0.9841452405619432, 0.8626907174245984, 0.9803268381647116, 0.8627077791502658, 0.9667547846698896, 0.9877322995398377, 0.14630490884920036, 0.41368974226325617, 0.11603492770798648, 0.1563949025629383, 0.1362149151354624, 0.020179987427475912, 0.015134990570606932, 0.20897550315737548, 0.6269265094721265, 0.064300154817654, 0.0803751935220675, 0.032150077408827, 0.4216718651841063, 0.06023883788344376, 0.4015922525562917, 0.11043786945298022, 0.9534200557220616, 0.9803268128902344, 0.9803267802169578, 0.9803268862011278, 0.3948065347239458, 0.14854107247039544, 0.12899619451376446, 0.18763082838365738, 0.10945131655713347, 0.011726926773978586, 0.015635902365304783, 0.9534206876486352, 0.9803271060229034, 0.8963690604342964, 0.25710487466080695, 0.6856129990954852, 0.9654160121990342, 0.06378790178232248, 0.180732388383247, 0.4677779464036982, 0.1701010714195266, 0.09568185267348372, 0.010631316963720413, 0.9706814186368797, 0.028549453489319993, 0.9161531305886428, 0.9727002597021458, 0.18873420866533705, 0.2617926120196611, 0.23135161062202605, 0.07305840335432402, 0.04870560223621601, 0.17046960782675605, 0.030441001397635007, 0.9942755637115943, 0.9918928653303571, 0.9333684246862931, 0.06222456164575287, 0.04186620825754836, 0.9419896857948381, 0.9803269930637957, 0.6574779253241432, 0.3144459642854598, 0.9888243694004646, 0.011771718683338863, 0.8943646799286633, 0.09618609996688716, 0.09618609996688716, 0.09618609996688716, 0.7213957497516538, 0.19220717822751238, 0.44848341586419554, 0.21051262377298977, 0.07322178218190949, 0.05491633663643211, 0.01830544554547737, 0.9861243798740447, 0.7614250341668726, 0.005110235128636729, 0.1737479943736488, 0.015330705385910188, 0.020440940514546917, 0.030661410771820375, 0.10283448210824502, 0.6684241337035927, 0.2228080445678642, 0.9877324234410942, 0.9926925839904981, 0.9740278927407158, 0.23314457961004106, 0.7493932916037034, 0.016653184257860075, 0.8520911585438583, 0.8782443153724983, 0.8428383058461764, 0.13016549082264361, 0.22442326003904073, 0.3052156336530954, 0.1256770256218628, 0.035907721606246515, 0.1795386080312326, 0.09907075893213423, 0.13622229353168455, 0.25696478098022313, 0.49225783344404195, 0.009287883649887583, 0.08550077403811823, 0.8977581274002415, 0.15890190496196022, 0.8342350010502911, 0.8526517353173597, 0.8623876880374673, 0.9401399882632988, 0.8626877721531663, 0.9788926328579791, 0.9161541023844046, 0.9663979199275752, 0.20743452987339991, 0.1586264051973058, 0.21963656104242343, 0.10981828052121172, 0.2928487480565646, 0.8943646748722927, 0.33870942806404314, 0.06774188561280862, 0.06774188561280862, 0.541935084902469, 0.37116355783311294, 0.032275091985488086, 0.06455018397097617, 0.37116355783311294, 0.16137545992744043, 0.9837420652521027, 0.0071805990164387065, 0.948436871906924, 0.2090641002185574, 0.0929173778749144, 0.48781623384330064, 0.1858347557498288, 0.9484369000086518, 0.94843686915902, 0.8588988316668636, 0.978085252203417, 0.9577355237850127, 0.798256257286478, 0.18564099006662277, 0.659501699946644, 0.0835988070354901, 0.26008517744374693, 0.9283615792186937, 0.8588987997529575, 0.13282299762274374, 0.8412123182773771, 0.9780851751679231, 0.8710875114094034, 0.1244410730584862, 0.9775043832031747, 0.9873480878435669, 0.9044242585497534, 0.9484368836849916, 0.9803269622235024, 0.9026411421217183, 0.8588987956178101, 0.9676700244965334, 0.9775043516147698, 0.3028326630377475, 0.15600470520126386, 0.2936559156729672, 0.1055325946949726, 0.045883736823901136, 0.08259072628302204, 0.01835349472956045, 0.6833692307585669, 0.016466728452013663, 0.2964011121362459, 0.9667547262663317, 0.9803270232066276, 0.22753770040441237, 0.3689800547098579, 0.11069401641295737, 0.06764634336347394, 0.12299335156995263, 0.09224501367746447, 0.012299335156995264, 0.9508876054608324, 0.04226167135381477, 0.07251391722278083, 0.0845995700932443, 0.37465523898436764, 0.3867408918548311, 0.07251391722278083, 0.1489603015507434, 0.25930126566240524, 0.24275012104565594, 0.060687530261413984, 0.12137506052282797, 0.17102849437307577, 0.9775044141698584, 0.9926167505274787, 0.9577356114114418, 0.895250694726078, 0.04607907987560696, 0.01316545139303056, 0.01316545139303056, 0.032913628482576396, 0.08051750140965004, 0.13084093979068132, 0.49316969613410655, 0.17109969049550636, 0.08051750140965004, 0.04025875070482502, 0.9161540503979949, 0.9902792206152115, 0.9915440506599456, 0.9803271380900099, 0.945301011756827, 0.9663946644469361, 0.8615837460584734, 0.9907688330276434, 0.9780853481919237, 0.9746821812982173, 0.9489077388204884, 0.9245670950287894, 0.0742390434820965, 0.6434050435115031, 0.08661221739577926, 0.03711952174104825, 0.148478086964193, 0.9018105796776603, 0.07214484637421283, 0.9950402509326568, 0.8782443319870636, 0.019760151848854234, 0.928727136896149, 0.026346869131805648, 0.026346869131805648, 0.15552697990209657, 0.8087402954909022, 0.9663959552513401, 0.9688621521996081, 0.027420626949045512, 0.6407369822783251, 0.04464151106037511, 0.11029079203151498, 0.13392453318112532, 0.013129856194227973, 0.03676359734383833, 0.018381798671919164, 0.9702221312712276, 0.9293252841328259, 0.5233320174315329, 0.167020856627085, 0.06680834265083399, 0.061240980763264494, 0.14475140907680697, 0.0278368094378475, 0.46010200162235293, 0.09246068932123838, 0.18271993365863776, 0.0726476844666873, 0.03522311974142415, 0.11667658414346749, 0.04182745469294118, 0.8586644148487945, 0.11448858864650593, 0.9283615047481897, 0.390641671291131, 0.1430518796277381, 0.2806017638851786, 0.02200798148119048, 0.0825299305544643, 0.07702793518416667, 0.01100399074059524, 0.9823707430319744, 0.34467671846969905, 0.11489223948989968, 0.5170150777045486, 0.9283615417229387, 0.948436856613186, 0.9803267457231685, 0.8943198970206946, 0.7827109109041221, 0.06417541875641412, 0.03896364710210857, 0.04354760558470958, 0.026357761274955798, 0.013751875447803026, 0.029795730136906555, 0.990196613477283, 0.6475043898151273, 0.020234512181722727, 0.333869450998425, 0.4095654375246582, 0.054608725003287756, 0.10921745000657551, 0.13652181250821938, 0.27304362501643875, 0.9525634636873666, 0.8616409474089406, 0.17693362113897765, 0.2846323470496597, 0.3384817100050007, 0.06154212909181831, 0.02692468147767051, 0.08846681056948882, 0.02692468147767051, 0.8963689926840526, 0.0832981810245668, 0.9162799912702349, 0.4197767942554398, 0.13909022138016064, 0.30700093908233655, 0.015036780689747096, 0.02130210597714172, 0.10024520459831397, 0.9902177334911413, 0.9729482024955456, 0.9803274002434494, 0.8474799217395717, 0.06519076321073629, 0.09778614481610443, 0.3991435349669792, 0.023027511632710336, 0.015351674421806892, 0.5104431745250791, 0.053730860476324124, 0.2179868840635466, 0.1089934420317733, 0.6103632753779304, 0.06539606521906398, 0.8873899987661503, 0.11092374984576879, 0.8588987311575903, 0.8626902261987089, 0.16045914409004744, 0.4699160648351389, 0.3667637579201084, 0.9484368626430462, 0.8998766798265389, 0.021173568937095034, 0.014115712624730022, 0.0670496349674676, 0.849270381500152, 0.012132434021430744, 0.07279460412858446, 0.06066217010715371, 0.8963689664655682, 0.9454435831320837, 0.0779953271335693, 0.896946262036047, 0.29796018794773216, 0.11918407517909288, 0.11918407517909288, 0.4767363007163715, 0.8623880549113818, 0.2696187874098742, 0.25276761319675706, 0.10110704527870283, 0.08425587106558569, 0.08425587106558569, 0.20221409055740566, 0.9605999327962361, 0.02867462485958914, 0.9316790300653361, 0.004802469227140908, 0.004802469227140908, 0.014407407681422724, 0.04322222304426817, 0.9873481320029726, 0.37768720105841713, 0.368125499765799, 0.10039786357249063, 0.028685103877854466, 0.09561701292618155, 0.028685103877854466, 0.9928113982036972, 0.993494205243138, 0.9264717996486416, 0.9676701334588975, 0.9384879968332033, 0.9942768863399566, 0.9951211477385534, 0.9847126437710552, 0.9877323300210638, 0.858898792789814, 0.12422531876254342, 0.13664785063879775, 0.13664785063879775, 0.434788615668902, 0.024845063752508684, 0.1490703825150521, 0.9636686914439974, 0.039591997587970204, 0.7324519553774488, 0.17816398914586593, 0.019795998793985102, 0.9845617023519161, 0.3134403866419053, 0.6791208377241282, 0.9116009321654244, 0.09116009321654243, 0.9695353884663103, 0.1761293717057652, 0.28621022902186843, 0.5283881151172957, 0.3551068007374537, 0.3865719602964686, 0.008990045588289967, 0.017980091176579935, 0.1753058889716544, 0.05843529632388479, 0.9747070010253691, 0.8626898115246183, 0.9367830295140868, 0.9938428893104848, 0.03245426138806294, 0.860037926783668, 0.03245426138806294, 0.03245426138806294, 0.04868139208209441, 0.8279143597004103, 0.10762886676105334, 0.041395717985020515, 0.016558287194008207, 0.9803269324588321, 0.26186683892592, 0.20185568833873, 0.19094457005015, 0.13093341946296, 0.18548901090585998, 0.027277795721449997, 0.938480493940467, 0.9857737168764911, 0.7108952722556928, 0.1286381921224587, 0.054163449314719454, 0.06431909606122935, 0.013540862328679864, 0.02369650907518976, 0.003385215582169966, 0.8623875296362294, 0.04314429922803489, 0.3020100945962442, 0.5608758899644535, 0.04314429922803489, 0.3292136830229331, 0.20259303570642037, 0.20259303570642037, 0.25324129463302547, 0.990104881582264, 0.9803269740647078, 0.13861326111213101, 0.20329944963112548, 0.33267182666911443, 0.10164972481556274, 0.018481768148284134, 0.18481768148284136, 0.018481768148284134, 0.9537202899582146, 0.987732191762746, 0.19517446295880464, 0.6831106203558162, 0.33202119732603025, 0.21043597013621634, 0.16367242121705716, 0.15431971143322532, 0.07949803316257062, 0.060792613594906945, 0.15860037427034707, 0.29076735282896965, 0.19384490188597975, 0.29076735282896965, 0.07048905523126536, 0.9847072639391551, 0.6743870466675801, 0.18882837306692243, 0.026975481866703205, 0.07553134922676898, 0.026975481866703205, 0.010790192746681282, 0.3525127163852774, 0.3112274432951098, 0.11115265831968207, 0.05716422427869364, 0.10162528760656647, 0.06351580475410404, 0.9168997793716596, 0.06791850217567848, 0.9909750687731665, 0.5977292811039006, 0.1077872474121788, 0.01959768134766887, 0.25476985751969533, 0.01959768134766887, 0.9746830790563671, 0.17654107384201723, 0.34379051221866513, 0.35308214768403445, 0.018583270930738655, 0.1022079901190626, 0.32209606224770504, 0.20812360945236327, 0.18334698927946289, 0.13627141095095213, 0.05203090236309082, 0.07432986051870116, 0.024776620172900388, 0.07978530915265944, 0.8377457461029241, 0.07978530915265944, 0.5470953433016048, 0.09490429424619676, 0.11165211087787855, 0.153521652457083, 0.05582605543893927, 0.011165211087787855, 0.025121724947522673, 0.9763377343076182, 0.012679710835163872, 0.012679710835163872, 0.9792489714973867, 0.1439927331039023, 0.8159588209221129, 0.02399878885065038, 0.44365628521435657, 0.02335033080075561, 0.11675165400377806, 0.04670066160151122, 0.35025496201133416, 0.8392712884278659, 0.019747559727714494, 0.009873779863857247, 0.11848535836628696, 0.6855812284560365, 0.012814602401047412, 0.012814602401047412, 0.2883285540235668, 0.9599863947206335, 0.9086308588879869, 0.07447793925311368, 0.014895587850622737, 0.33086044436627526, 0.14557859552116112, 0.4896734576620874, 0.02646883554930202, 0.3125542021986705, 0.6772007714304528, 0.0646370449045878, 0.0323185224522939, 0.9049186286642291, 0.9808808201636127, 0.9384879569133688, 0.13757047841955253, 0.43698857850916684, 0.2427714325050927, 0.16994000275356488, 0.9901039422665717, 0.47621631316725815, 0.04608544966134756, 0.3456408724601067, 0.03072363310756504, 0.09985180759958638, 0.00768090827689126, 0.0868892499972911, 0.10861156249661388, 0.7602809374762971, 0.04344462499864555, 0.9803274276713317, 0.9534206604835055, 0.9687462080356315, 0.9780852974365627, 0.9729478775789907, 0.5853047678759336, 0.16565229279507554, 0.12147834804972206, 0.01104348618633837, 0.04417394474535348, 0.02208697237267674, 0.04417394474535348, 0.9803270674560808, 0.9775042844359197, 0.8240332278928594, 0.07491211162662358, 0.056184083719967685, 0.03745605581331179, 0.3616779942863589, 0.006697740634932572, 0.033488703174662855, 0.5425169914295384, 0.020093221904797714, 0.020093221904797714, 0.9800912532402928, 0.1824793985127005, 0.20854788401451485, 0.05213697100362871, 0.5474381955381015, 0.8943513441912456, 0.12524517326607912, 0.840931877643674, 0.03578433521887975, 0.9835428541131537, 0.9170904338389751, 0.08491578091101622, 0.9805866911713946, 0.9016747736037232, 0.0949131340635498, 0.9875380897447973, 0.9670717708859518, 0.948436919077404, 0.108349555639197, 0.09287104769074028, 0.18574209538148057, 0.30183090499490595, 0.1470458255103388, 0.1625243334587955, 0.19840821489705016, 0.7274967879558506, 0.250426293166248, 0.1846577717286475, 0.13912571842569332, 0.2656036442672327, 0.08600498957224678, 0.048061611819784966, 0.02276602665147709, 0.3143794548044948, 0.13361126829191028, 0.16504921377235976, 0.17683844332752832, 0.14540049784707884, 0.058946147775842776, 0.00785948637011237, 0.5270166326319852, 0.03676860227665013, 0.11030580682995039, 0.14298900885363938, 0.15115980935956164, 0.02859780177072788, 0.7319831831933651, 0.010925122137214404, 0.2512778091559313], \"Term\": [\"175\", \"18\", \"18\", \"18\", \"18\", \"18\", \"18\", \"18\", \"20\", \"20\", \"20\", \"20\", \"20\", \"20\", \"20\", \"2014\", \"2014\", \"2014\", \"2014\", \"2014\", \"2017\", \"2017\", \"2017\", \"2017\", \"2018\", \"2018\", \"2018\", \"2018\", \"2018\", \"2020\", \"2020\", \"2020\", \"2020\", \"2020\", \"2020\", \"2021\", \"2021\", \"2021\", \"2021\", \"2021\", \"2021\", \"2021\", \"25th\", \"2g\", \"50\", \"50\", \"50\", \"50\", \"50\", \"50\", \"830pm\", \"911\", \"aged\", \"aged\", \"aged\", \"aged\", \"aggravated assault\", \"ahmaud\", \"ahmaud arbery\", \"ahmaud arberys\", \"alexander schallenberg\", \"american\", \"american\", \"american\", \"american\", \"american\", \"american received\", \"annual physical\", \"anthony huber\", \"antibody level\", \"ar15\", \"arbery\", \"arberys\", \"ardern\", \"around\", \"around\", \"around\", \"around\", \"around\", \"around\", \"articletimestamppublished\", \"articletimestamppublished\", \"articletimestamppublished\", \"articletimestamppublished\", \"articletimestamppublished\", \"articletimestamppublished\", \"articletimestamppublished\", \"articletimestampupdated\", \"articletimestampupdated\", \"articletimestampupdated\", \"articletimestampupdated\", \"articletimestampupdated\", \"articletimestampupdated\", \"articletimestampupdated\", \"asic\", \"assault battery\", \"assistant district\", \"attack\", \"attack\", \"attack\", \"auckland\", \"australia\", \"australia\", \"australia\", \"australia\", \"australia\", \"austria\", \"austria demonstrator\", \"authorization\", \"authorized\", \"aware\", \"aware\", \"aware\", \"back better\", \"back better\", \"baltimore county\", \"batar creek\", \"better bill\", \"biden\", \"biden\", \"biden\", \"biden\", \"biden\", \"bill\", \"bill\", \"bill\", \"billion would\", \"binger\", \"black jogger\", \"boat\", \"body modifier\", \"bold\", \"bold\", \"bold\", \"bold\", \"bold\", \"bold\", \"bold\", \"booster\", \"booster\", \"booster approved\", \"booster shot\", \"booster shot\", \"breast cancer\", \"breast cancer\", \"britain\", \"bryan\", \"build back\", \"build back\", \"bynum\", \"caddick\", \"caddicks\", \"cancer\", \"cancer\", \"capitol\", \"capitol\", \"capitol\", \"captain\", \"captain\", \"captain\", \"care unit\", \"case\", \"case\", \"case\", \"case\", \"case\", \"case\", \"case\", \"cdc\", \"cdc\", \"champion league\", \"chansley\", \"chansley\\u2019s\", \"charge\", \"charge\", \"charge\", \"charge\", \"charge\", \"charge\", \"chirafisi\", \"christmas market\", \"christmas market\", \"citizen arrest\", \"claim\", \"claim\", \"claim\", \"claim\", \"claim\", \"claim\", \"classarticletimestamp\", \"classarticletimestamp\", \"classarticletimestamp\", \"classarticletimestamp\", \"classarticletimestamp\", \"classarticletimestamp\", \"classarticletimestamp\", \"classarticletimestamplabelpublishedspan\", \"classarticletimestamplabelpublishedspan\", \"classarticletimestamplabelpublishedspan\", \"classarticletimestamplabelpublishedspan\", \"classarticletimestamplabelpublishedspan\", \"classarticletimestamplabelpublishedspan\", \"classarticletimestamplabelpublishedspan\", \"classarticletimestamplabelupdatedspan\", \"classarticletimestamplabelupdatedspan\", \"classarticletimestamplabelupdatedspan\", \"classarticletimestamplabelupdatedspan\", \"classarticletimestamplabelupdatedspan\", \"classarticletimestamplabelupdatedspan\", \"classarticletimestamplabelupdatedspan\", \"classauthor\", \"classauthor\", \"classauthor\", \"classauthor\", \"classauthor\", \"classauthor\", \"classauthor\", \"classclass\", \"classclass\", \"classclass\", \"classclass\", \"classclass\", \"classclass\", \"classclass\", \"classmolstyleboldjune\", \"club\", \"club\", \"club\", \"club\", \"colonoscopy\", \"commissioner mick\", \"coolsingel street\", \"cooperjones\", \"coronavirus\", \"coronavirus\", \"coronavirus\", \"coronavirus restriction\", \"count\", \"count\", \"count\", \"count\", \"count\", \"counterprotesters\", \"country\", \"country\", \"country\", \"country\", \"country\", \"country\", \"country\", \"court\", \"court\", \"court\", \"court\", \"court\", \"covid\", \"covid\", \"covid\", \"covid\", \"covid\", \"covid\", \"covid restriction\", \"covid19\", \"covid19\", \"covid19\", \"covid19\", \"covid19\", \"covid19\", \"cricket\", \"cricket australia\", \"cricket tasmania\", \"da\", \"daily mail\", \"daily mail\", \"daily mail\", \"daily mail\", \"daily mail\", \"daily mail\", \"data\", \"data\", \"data\", \"daughter\", \"daughter\", \"daughter\", \"daughter\", \"day\", \"day\", \"day\", \"day\", \"day\", \"day\", \"day\", \"dean\", \"death\", \"death\", \"death\", \"death\", \"death\", \"death\", \"december\", \"december\", \"december\", \"december\", \"december\", \"december\", \"decline\", \"decline\", \"decline\", \"defendant\", \"defendant\", \"defendant\", \"democracy\", \"democrat\", \"democrat\", \"democrat\", \"democrat\", \"democrat\", \"democratic\", \"democratic\", \"democratic\", \"desantis\", \"detective\", \"detective\", \"detective\", \"dunikoski\", \"dutch\", \"dutch prime\", \"engulfed flame\", \"every million\", \"execution\", \"false imprisonment\", \"family\", \"family\", \"family\", \"family\", \"family\", \"family\", \"family\", \"february\", \"february\", \"february\", \"february\", \"february\", \"fire\", \"fire\", \"fire\", \"fire\", \"fire bexleyheath\", \"fire brigade\", \"fire engine\", \"fire hamilton\", \"first\", \"first\", \"first\", \"first\", \"first\", \"first\", \"first\", \"first physical\", \"five hour\", \"flcaseydesantis\", \"florida\", \"florida\", \"food drug\", \"former\", \"former\", \"former\", \"former\", \"former\", \"former\", \"foster grandmother\", \"foster grandmother\", \"foster mother\", \"foster parent\", \"found\", \"found\", \"found\", \"found\", \"found\", \"found\", \"found\", \"france\", \"freedom party\", \"french\", \"french\", \"friday morning\", \"friday morning\", \"fully paid\", \"fully vaccinated\", \"fully vaccinated\", \"germany\", \"germany\", \"giana\", \"girl\", \"girl\", \"girl\", \"girl\", \"go\", \"go\", \"go\", \"go\", \"go\", \"go\", \"gosar\", \"government\", \"government\", \"government\", \"government\", \"government\", \"government\", \"governor\", \"governor\", \"governor\", \"greg mcmichael\", \"gregory mcmichael\", \"grosskreutz\", \"harris\", \"harris\", \"harris\", \"health editor\", \"heart inflammation\", \"high risk\", \"home\", \"home\", \"home\", \"home\", \"home\", \"home\", \"house\", \"house\", \"house\", \"house\", \"house\", \"house floor\", \"house floor\", \"house speaker\", \"house speaker\", \"howe\", \"hrefnewsfdaindexhtml\", \"huber\", \"idiot vowed\", \"infection rate\", \"inquest\", \"international idea\", \"investigation\", \"investigation\", \"investigation\", \"investigation\", \"investigation\", \"investor\", \"jab\", \"jab\", \"jab\", \"jab\", \"january\", \"january\", \"january\", \"january\", \"january\", \"jones\", \"jones\", \"joseph rosenbaum\", \"judge\", \"judge\", \"judge\", \"judge\", \"judge bruce\", \"judge schroeder\", \"judge syme\", \"julius\", \"julius jones\", \"juror\", \"juror\", \"jury\", \"jury\", \"jury\", \"jury awarded\", \"justice markovic\", \"kamala harris\", \"kamala harris\", \"kardashian\", \"kendall\", \"kendall\", \"kendall nsw\", \"kenosha\", \"kenosha county\", \"kenosha wisconsin\", \"kevin mccarthy\", \"kidnapped\", \"koletti\", \"kyle rittenhouse\", \"lambie\", \"last\", \"last\", \"last\", \"last\", \"last\", \"last\", \"last\", \"last night\", \"last night\", \"last night\", \"laundrie\", \"leave child\", \"left\", \"left\", \"left\", \"left\", \"left\", \"left\", \"left\", \"lockdown\", \"lockdown\", \"m\", \"m\", \"m\", \"m\", \"m\", \"man\", \"man\", \"man\", \"man\", \"man\", \"man\", \"manchester united\", \"mcmichael\", \"mcmichaels\", \"measure\", \"measure\", \"measure\", \"measure\", \"measure\", \"member\", \"member\", \"member\", \"member\", \"member\", \"member\", \"mid north\", \"migrant\", \"million barrel\", \"minutesxa0\", \"moderna\", \"moderna vaccine\", \"modernas booster\", \"mr andrew\", \"mr arbery\", \"mr grant\", \"mr morrison\", \"mr thomson\", \"murder\", \"murder\", \"murder\", \"murder\", \"murder\", \"murder trial\", \"murder trial\", \"mutation\", \"myocarditis\", \"n\", \"n\", \"n\", \"n\", \"nancy pelosi\", \"nancy pelosi\", \"nationwide lockdown\", \"netherlands\", \"netherlands\", \"new\", \"new\", \"new\", \"new\", \"new\", \"new\", \"new\", \"new owner\", \"new zealand\", \"night\", \"night\", \"night\", \"night\", \"night\", \"night\", \"november\", \"november\", \"november\", \"november\", \"november\", \"november\", \"november\", \"nsw police\", \"nsw police\", \"ocasiocortez\", \"officer\", \"officer\", \"officer\", \"officer\", \"officer\", \"officer\", \"officer\", \"oil price\", \"older\", \"older\", \"older\", \"ordered pay\", \"outside kenosha\", \"paine\", \"pat cummins\", \"people\", \"people\", \"people\", \"people\", \"people\", \"people\", \"people\", \"people injured\", \"per cent\", \"per cent\", \"per cent\", \"percent\", \"percent\", \"percent\", \"percent\", \"percent\", \"person interest\", \"pfizer vaccine\", \"pictured\", \"pictured\", \"pictured\", \"pictured\", \"pictured\", \"pictured\", \"pictured\", \"pierce\", \"plaintiff\", \"plaintiff\", \"police\", \"police\", \"police\", \"police\", \"police\", \"police\", \"police car\", \"police fired\", \"power vice\", \"premier\", \"premier\", \"premier\", \"president\", \"president\", \"president\", \"president\", \"president\", \"president joe\", \"president joe\", \"president joe\", \"president joe\", \"press secretary\", \"press secretary\", \"procedure\", \"prosecute responsible\", \"prosecutor\", \"prosecutor\", \"prosecutor\", \"prosecutor thomas\", \"protest\", \"protest\", \"protest\", \"protest\", \"protester\", \"protester\", \"protester\", \"protester\", \"public gallery\", \"pure violence\", \"ranger\", \"ranger\", \"receive\", \"receive\", \"receive\", \"receive\", \"relnofollowmary kekatos\", \"report\", \"report\", \"report\", \"report\", \"report\", \"report\", \"reserve\", \"reserve\", \"restriction\", \"restriction\", \"restriction\", \"restriction\", \"restriction\", \"richards\", \"right\", \"right\", \"right\", \"right\", \"right\", \"right\", \"riot police\", \"rittenhouse\", \"road bexleyheath\", \"rosenbaum\", \"ross wilson\", \"rotterdam\", \"rotterdam friday\", \"russell\", \"satilla shore\", \"scam\", \"scene\", \"scene\", \"scene\", \"scene\", \"scene\", \"scene\", \"schroeder\", \"search\", \"search\", \"search\", \"search\", \"search william\", \"sentenced\", \"sentenced\", \"seven year\", \"seven year\", \"several hundred\", \"shooting\", \"shooting\", \"shooting\", \"shot\", \"shot\", \"shot\", \"shot\", \"shot\", \"shot\", \"shotgun\", \"slammed three\", \"social spending\", \"solskjaer\", \"son\", \"son\", \"son\", \"son\", \"son\", \"south africa\", \"south africa\", \"south africa\", \"south africa\", \"southeast london\", \"state\", \"state\", \"state\", \"state\", \"state\", \"state\", \"steve smith\", \"strategic petroleum\", \"stylefontsize\", \"stylefontsize\", \"stylefontsize\", \"stylefontsize\", \"stylefontsize\", \"stylefontsize\", \"stylefontsize\", \"stylefontweight boldfdaa\", \"sydney\", \"sydney\", \"sydney\", \"sydney\", \"system\", \"system\", \"system\", \"system\", \"take part\", \"tax credit\", \"team\", \"team\", \"team\", \"team\", \"team\", \"team\", \"team\", \"test captain\", \"testified\", \"third dose\", \"third dose\", \"three\", \"three\", \"three\", \"three\", \"three\", \"three\", \"thursday\", \"thursday\", \"thursday\", \"thursday\", \"thursday\", \"tim paine\", \"today\", \"today\", \"today\", \"today\", \"today\", \"today\", \"told\", \"told\", \"told\", \"told\", \"told\", \"told\", \"travis\", \"travis\", \"travis mcmichael\", \"trial\", \"trial\", \"trial\", \"trial\", \"trial\", \"trillion build\", \"tuesday\", \"tuesday\", \"tuesday\", \"tuesday\", \"tuesday\", \"two\", \"two\", \"two\", \"two\", \"two\", \"two\", \"two\", \"two child\", \"two child\", \"two child\", \"u\", \"u\", \"u\", \"u\", \"u\", \"u\", \"u\", \"uk\", \"uk\", \"uk\", \"unite right\", \"united\", \"united\", \"united\", \"vaccinated\", \"vaccinated\", \"vaccinated\", \"vaccinated\", \"vaccinated\", \"vaccination\", \"vaccination\", \"vaccination\", \"vaccination\", \"vaccine\", \"vaccine\", \"vaccine\", \"vaccine\", \"van bronckhorst\", \"variant\", \"variant\", \"variant\", \"verdict\", \"verdict\", \"verdict\", \"verdict\", \"verdict read\", \"verdict read\", \"vice president\", \"vice president\", \"vice president\", \"vicosa\", \"vicosas\", \"video\", \"video\", \"video\", \"video\", \"vienna today\", \"violence\", \"violence\", \"violence\", \"violence\", \"violence\", \"violence\", \"vote\", \"vote\", \"vote\", \"vote\", \"voter split\", \"w\", \"walter reed\", \"wanda cooperjones\", \"warning shot\", \"week\", \"week\", \"week\", \"week\", \"week\", \"week\", \"week\", \"week paid\", \"whereas\", \"white\", \"white\", \"white\", \"white\", \"white house\", \"white house\", \"white house\", \"white house\", \"white house\", \"white house\", \"white nationalist\", \"wife\", \"wife\", \"wife\", \"wife\", \"wife bonnie\", \"william\", \"william\", \"william\", \"william roddie\", \"william tyrrell\", \"william tyrrell\", \"william tyrrells\", \"williams\", \"williams\", \"williams foster\", \"williams remains\", \"wisconsin\", \"woman\", \"woman\", \"woman\", \"woman\", \"woman\", \"woman\", \"world cup\", \"world cup\", \"would\", \"would\", \"would\", \"would\", \"would\", \"would\", \"would\", \"year\", \"year\", \"year\", \"year\", \"year\", \"year\", \"year\", \"\\u2013\", \"\\u2013\", \"\\u2013\", \"\\u2013\", \"\\u2013\", \"\\u2013\", \"\\u2014\", \"\\u2014\", \"\\u2014\"]}, \"R\": 30, \"lambda.step\": 0.01, \"plot.opts\": {\"xlab\": \"PC1\", \"ylab\": \"PC2\"}, \"topic.order\": [2, 6, 3, 4, 7, 1, 5]};\n",
              "\n",
              "function LDAvis_load_lib(url, callback){\n",
              "  var s = document.createElement('script');\n",
              "  s.src = url;\n",
              "  s.async = true;\n",
              "  s.onreadystatechange = s.onload = callback;\n",
              "  s.onerror = function(){console.warn(\"failed to load library \" + url);};\n",
              "  document.getElementsByTagName(\"head\")[0].appendChild(s);\n",
              "}\n",
              "\n",
              "if(typeof(LDAvis) !== \"undefined\"){\n",
              "   // already loaded: just create the visualization\n",
              "   !function(LDAvis){\n",
              "       new LDAvis(\"#\" + \"ldavis_el6611401539228933926394267984\", ldavis_el6611401539228933926394267984_data);\n",
              "   }(LDAvis);\n",
              "}else if(typeof define === \"function\" && define.amd){\n",
              "   // require.js is available: use it to load d3/LDAvis\n",
              "   require.config({paths: {d3: \"https://d3js.org/d3.v5\"}});\n",
              "   require([\"d3\"], function(d3){\n",
              "      window.d3 = d3;\n",
              "      LDAvis_load_lib(\"https://cdn.jsdelivr.net/gh/bmabey/pyLDAvis@3.3.1/pyLDAvis/js/ldavis.v3.0.0.js\", function(){\n",
              "        new LDAvis(\"#\" + \"ldavis_el6611401539228933926394267984\", ldavis_el6611401539228933926394267984_data);\n",
              "      });\n",
              "    });\n",
              "}else{\n",
              "    // require.js not available: dynamically load d3 & LDAvis\n",
              "    LDAvis_load_lib(\"https://d3js.org/d3.v5.js\", function(){\n",
              "         LDAvis_load_lib(\"https://cdn.jsdelivr.net/gh/bmabey/pyLDAvis@3.3.1/pyLDAvis/js/ldavis.v3.0.0.js\", function(){\n",
              "                 new LDAvis(\"#\" + \"ldavis_el6611401539228933926394267984\", ldavis_el6611401539228933926394267984_data);\n",
              "            })\n",
              "         });\n",
              "}\n",
              "</script>"
            ],
            "text/plain": [
              "PreparedData(topic_coordinates=              x         y  topics  cluster       Freq\n",
              "topic                                                \n",
              "1     -0.205437 -0.168086       1        1  41.479724\n",
              "5      0.122560 -0.010041       2        1  16.492852\n",
              "2      0.111918  0.006975       3        1  14.361864\n",
              "3     -0.155223  0.224664       4        1  11.442516\n",
              "6      0.076210 -0.002907       5        1   7.470534\n",
              "0      0.080995 -0.004969       6        1   5.885661\n",
              "4     -0.031024 -0.045636       7        1   2.866850, topic_info=              Term        Freq       Total Category  logprob  loglift\n",
              "757        covid19  513.000000  513.000000  Default  30.0000  30.0000\n",
              "3526       vaccine  156.000000  156.000000  Default  29.0000  29.0000\n",
              "337         police  798.000000  798.000000  Default  28.0000  28.0000\n",
              "18948  rittenhouse  152.000000  152.000000  Default  27.0000  27.0000\n",
              "12055       arbery  179.000000  179.000000  Default  26.0000  26.0000\n",
              "...            ...         ...         ...      ...      ...      ...\n",
              "756          covid   11.012997  250.424773   Topic7  -6.0572   0.4279\n",
              "463            two   10.373112  403.606300   Topic7  -6.1171  -0.1093\n",
              "15              50    9.413348   88.618131   Topic7  -6.2142   1.3097\n",
              "1572         would    9.297231  395.325901   Topic7  -6.2266  -0.1980\n",
              "98      classclass    9.169817  103.500271   Topic7  -6.2404   1.1283\n",
              "\n",
              "[474 rows x 6 columns], token_table=      Topic      Freq Term\n",
              "term                      \n",
              "8114      4  0.936783  175\n",
              "4         1  0.310950   18\n",
              "4         2  0.131918   18\n",
              "4         3  0.037691   18\n",
              "4         4  0.131918   18\n",
              "...     ...       ...  ...\n",
              "1585      5  0.151160    –\n",
              "1585      6  0.028598    –\n",
              "3669      1  0.731983    —\n",
              "3669      2  0.010925    —\n",
              "3669      5  0.251278    —\n",
              "\n",
              "[967 rows x 3 columns], R=30, lambda_step=0.01, plot_opts={'xlab': 'PC1', 'ylab': 'PC2'}, topic_order=[2, 6, 3, 4, 7, 1, 5])"
            ]
          },
          "metadata": {},
          "execution_count": 42
        }
      ]
    },
    {
      "cell_type": "markdown",
      "metadata": {
        "id": "VnlYivha2pQs"
      },
      "source": [
        "Here, we give each topic a name based on the top three most salent words."
      ]
    },
    {
      "cell_type": "code",
      "metadata": {
        "id": "gzCL2rHdFwce"
      },
      "source": [
        "topics = pd.DataFrame(ldamodel[corpus])\n",
        "topics = topics.applymap(lambda x: Get_Tuple_Value(x,1))"
      ],
      "execution_count": null,
      "outputs": []
    },
    {
      "cell_type": "code",
      "metadata": {
        "id": "6y-P3E_o45n9"
      },
      "source": [
        "column_names_raw = pd.DataFrame(ldamodel.print_topics(num_topics = optimal_n_topics, num_words = 5))[1]\n",
        "column_names = []\n",
        "for name in column_names_raw:\n",
        "  name = str(re.findall('\"([^\"]*)\"',name))\n",
        "  column_names.append(name)\n",
        "topics.columns = column_names"
      ],
      "execution_count": null,
      "outputs": []
    },
    {
      "cell_type": "markdown",
      "metadata": {
        "id": "5v26n_UC9Dcd"
      },
      "source": [
        "## Regression Analysis"
      ]
    },
    {
      "cell_type": "markdown",
      "metadata": {
        "id": "bbVejLrC22zU"
      },
      "source": [
        "The results from the sentiment analysis and the topic modelling are appended as new columns to the original data set, which gives us the following new schema:\n",
        "\n",
        "Each topic (there will be k number of topics, and therefore columns.\n",
        "*\tThis is a float which indicates the estimation that this article is about this topic. The larger the value, the more this article appears to involve a discussion of this topic. \n",
        "*\tFor readability, topics are named by taking the top 3 most salient words in the topic and appending them into a list. This is to give the reader some insight into what the topic regards. \n",
        "\n",
        "Four sentiment variables: \n",
        "*\tNeutrality: The normalized sum amount of terms which is neither positive or negative\n",
        "*\tPositivity: Positive terms (according to the VADER dictionary)\n",
        "*\tnegative Negative terms\n",
        "*\tCompound: The normalized mean of positive minus negative sentiment. \n",
        "\n",
        "From this data, we can output the final deliverable from this pipeline: We want to know if any topics have a significant correlation with any of the sentiment metrics. We se pairwise Pearson correlation to determine if an article that is more about a given topic, has a significant correlation with a sentiment. \n",
        "\n",
        "Figure 4 shows this output. Note than variable pairs where the correlation is not significant (p< 0.1) are blank. \n"
      ]
    },
    {
      "cell_type": "code",
      "metadata": {
        "id": "h3Q6_pTa9H9p",
        "colab": {
          "base_uri": "https://localhost:8080/"
        },
        "outputId": "6e398ec2-0a45-4d35-a1d4-dce9cd4855f6"
      },
      "source": [
        "regression_analysis_data = pd.concat([topics,sentiments], axis = 1)\n",
        "len(regression_analysis_data)"
      ],
      "execution_count": null,
      "outputs": [
        {
          "output_type": "execute_result",
          "data": {
            "text/plain": [
              "144"
            ]
          },
          "metadata": {},
          "execution_count": 48
        }
      ]
    },
    {
      "cell_type": "code",
      "metadata": {
        "colab": {
          "base_uri": "https://localhost:8080/",
          "height": 312
        },
        "id": "19MuQiOi_Fkt",
        "outputId": "f92c88c1-ff46-463f-b9cc-c592354204cd"
      },
      "source": [
        "sentiment_variables = [\"neg\",\"neu\",\"pos\",\"compound\"]\n",
        "corr = regression_analysis_data.corr()\n",
        "p_values = regression_analysis_data.corr(method = Pearsonr_Pval)\n",
        "vis_data = Filter_By_P_Value(corr,p_values,ALPHA)\n",
        "ax = plt.axes()\n",
        "sb.heatmap(vis_data.loc[:,sentiment_variables].drop(sentiment_variables, axis = 0), ax=ax)\n",
        "ax.set_xlabel(\"Sentiments\")\n",
        "ax.set_ylabel(\"Topics\")\n",
        "ax.set_title('Correlation Coefficients - Topics and Sentiments')"
      ],
      "execution_count": null,
      "outputs": [
        {
          "output_type": "execute_result",
          "data": {
            "text/plain": [
              "Text(0.5, 1.0, 'Correlation Coefficients - Topics and Sentiments')"
            ]
          },
          "metadata": {},
          "execution_count": 51
        },
        {
          "output_type": "display_data",
          "data": {
            "image/png": "[encoded data removed]",
            "text/plain": [
              "<Figure size 432x288 with 2 Axes>"
            ]
          },
          "metadata": {
            "needs_background": "light"
          }
        }
      ]
    },
    {
      "cell_type": "code",
      "metadata": {
        "colab": {
          "base_uri": "https://localhost:8080/"
        },
        "id": "aYXYZh_R0AG_",
        "outputId": "25da214a-b87f-4bc3-9f5d-cbfc1ec70a35"
      },
      "source": [
        "execution_time = time.time() - start_time\n",
        "execution_time"
      ],
      "execution_count": null,
      "outputs": [
        {
          "output_type": "execute_result",
          "data": {
            "text/plain": [
              "213.5309453010559"
            ]
          },
          "metadata": {},
          "execution_count": 50
        }
      ]
    },
    {
      "cell_type": "markdown",
      "metadata": {
        "id": "xJh8vNVd3JON"
      },
      "source": [
        "# Discussion"
      ]
    }
  ]
}