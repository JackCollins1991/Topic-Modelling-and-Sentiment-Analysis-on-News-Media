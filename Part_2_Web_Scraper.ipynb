{
  "nbformat": 4,
  "nbformat_minor": 0,
  "metadata": {
    "colab": {
      "name": "Jack_Collins_MA5851_A3_Part1.ipynb",
      "provenance": [],
      "collapsed_sections": [
        "I1ufnk--ahT0",
        "4ZV3MugkZGs8",
        "Qj_Zr_ciLQ9Q",
        "c_B-5Je7v1VF",
        "a3sbGiBQgn5E"
      ]
    },
    "kernelspec": {
      "name": "python3",
      "display_name": "Python 3"
    },
    "language_info": {
      "name": "python"
    }
  },
  "cells": [
    {
      "cell_type": "markdown",
      "metadata": {
        "id": "o-nEWxgR5o9M"
      },
      "source": [
        "# Introduction"
      ]
    },
    {
      "cell_type": "markdown",
      "metadata": {
        "id": "m459CKnW5t-9"
      },
      "source": [
        "## Websites to be consumed"
      ]
    },
    {
      "cell_type": "markdown",
      "metadata": {
        "id": "x0q93d9m70Ht"
      },
      "source": [
        "## A rationale for extracting the web content "
      ]
    },
    {
      "cell_type": "markdown",
      "metadata": {
        "id": "IXonr-IN70Of"
      },
      "source": [
        "## Content coverage of the data extracted "
      ]
    },
    {
      "cell_type": "markdown",
      "metadata": {
        "id": "y7rx0kTn70Uu"
      },
      "source": [
        "## Complexity of the content layout"
      ]
    },
    {
      "cell_type": "markdown",
      "metadata": {
        "id": "c66tnuZh70Ze"
      },
      "source": [
        "## Website/data copyright considerations"
      ]
    },
    {
      "cell_type": "markdown",
      "metadata": {
        "id": "ARibROD_70dC"
      },
      "source": [
        "## Metadata supplementation and rational for the supplementation "
      ]
    },
    {
      "cell_type": "markdown",
      "metadata": {
        "id": "g1LEXP_570pV"
      },
      "source": [
        "## Content extractor to export the important aspects of the data and/or metadata "
      ]
    },
    {
      "cell_type": "markdown",
      "metadata": {
        "id": "alqEVSil8KTI"
      },
      "source": [
        "## Demonstration of the application of the WebCrawler (i.e. screen shots)"
      ]
    },
    {
      "cell_type": "markdown",
      "metadata": {
        "id": "ryQtT9zC8Omk"
      },
      "source": [
        "## Methodology of processing, cleaning, and storing harvested data for NLP \n",
        "tasking "
      ]
    },
    {
      "cell_type": "markdown",
      "metadata": {
        "id": "2ikABpY88RE8"
      },
      "source": [
        "## Summary and visualisation of the harvested data. Preliminary EDA is \n",
        "acceptable in this section as well."
      ]
    },
    {
      "cell_type": "markdown",
      "metadata": {
        "id": "jsL5839WZDuh"
      },
      "source": [
        "# Configuration"
      ]
    },
    {
      "cell_type": "markdown",
      "metadata": {
        "id": "I1ufnk--ahT0"
      },
      "source": [
        "## Modules"
      ]
    },
    {
      "cell_type": "code",
      "metadata": {
        "id": "Ea7sAKQeZSbL"
      },
      "source": [
        "import requests\n",
        "from bs4 import BeautifulSoup\n",
        "from pprint import pprint\n",
        "from sklearn.pipeline import Pipeline\n",
        "import pandas as pd\n",
        "import re\n",
        "import random\n",
        "import os\n",
        "import numpy as np\n",
        "import time"
      ],
      "execution_count": null,
      "outputs": []
    },
    {
      "cell_type": "markdown",
      "metadata": {
        "id": "O3B0FUMbaklt"
      },
      "source": [
        "## Constants"
      ]
    },
    {
      "cell_type": "code",
      "metadata": {
        "id": "__m-1cnjY94B"
      },
      "source": [
        "MAIN_URL = 'https://www.dailymail.co.uk/news/breaking_news/index.html'\n",
        "DOMAIN = 'https://www.dailymail.co.uk'\n",
        "SCRAPE_OUTPUT_FILE = '/content/drive/MyDrive/MA5851_A3/scrape_results.csv'\n",
        "ARTICLE_TAG = 'a'\n",
        "URL_HTML_TAG = 'href'\n",
        "URLS_START_WITH = ['https://www.dailymail.co.uk']\n",
        "URLS_NOT_END_WITH = ['#video']\n",
        "TEXT_TAG = 'p'\n",
        "REMOVE_SUBSTRINGS = [\"]\",'\"',\"'\",\".\",\",\",\"[\",\"/\",\">\",\"<\"]\n",
        "SEED = 42"
      ],
      "execution_count": null,
      "outputs": []
    },
    {
      "cell_type": "markdown",
      "metadata": {
        "id": "FPqxXpP8mJJ5"
      },
      "source": [
        "## File Storage"
      ]
    },
    {
      "cell_type": "code",
      "metadata": {
        "colab": {
          "base_uri": "https://localhost:8080/"
        },
        "id": "a8TwB-0LmFQe",
        "outputId": "9c8e0870-a45d-492f-beeb-5bbda8a333fa"
      },
      "source": [
        "from google.colab import drive\n",
        "drive.mount('/content/drive')"
      ],
      "execution_count": null,
      "outputs": [
        {
          "output_type": "stream",
          "name": "stdout",
          "text": [
            "Drive already mounted at /content/drive; to attempt to forcibly remount, call drive.mount(\"/content/drive\", force_remount=True).\n"
          ]
        }
      ]
    },
    {
      "cell_type": "markdown",
      "metadata": {
        "id": "4ZV3MugkZGs8"
      },
      "source": [
        "## Functions"
      ]
    },
    {
      "cell_type": "markdown",
      "metadata": {
        "id": "ILtxJO7JeW5m"
      },
      "source": [
        "### Utilities"
      ]
    },
    {
      "cell_type": "code",
      "metadata": {
        "id": "pPVJ0UnueZgd"
      },
      "source": [
        "def Set_All_Seeds(seed):\n",
        "    random.seed(seed)\n",
        "    os.environ['PYTHONHASHSEED'] = str(seed)\n",
        "    np.random.seed(seed)\n",
        "    np.random.RandomState(seed)"
      ],
      "execution_count": null,
      "outputs": []
    },
    {
      "cell_type": "markdown",
      "metadata": {
        "id": "Qj_Zr_ciLQ9Q"
      },
      "source": [
        "### HTML Element Selection"
      ]
    },
    {
      "cell_type": "code",
      "metadata": {
        "id": "kC7xdREIenUG"
      },
      "source": [
        "def Get_Soup(url: str):\n",
        "  data = requests.get(url)\n",
        "  html = BeautifulSoup(data.text, 'html.parser')\n",
        "  return html"
      ],
      "execution_count": null,
      "outputs": []
    },
    {
      "cell_type": "code",
      "metadata": {
        "id": "6Z5nv78ojRcZ"
      },
      "source": [
        "def Get_Links(soup: BeautifulSoup, find_tag: str, get_tag: str):\n",
        "  results = []\n",
        "  for link in soup.find_all(find_tag):\n",
        "    results.append(link.get(get_tag))\n",
        "  return results"
      ],
      "execution_count": null,
      "outputs": []
    },
    {
      "cell_type": "code",
      "metadata": {
        "id": "Neki7NkjR7Bs"
      },
      "source": [
        "def Get_Content(soup: BeautifulSoup, tag: str):\n",
        "  results = []\n",
        "  for p in soup.find_all(tag):\n",
        "    results.append(p.contents)\n",
        "  return results"
      ],
      "execution_count": null,
      "outputs": []
    },
    {
      "cell_type": "markdown",
      "metadata": {
        "id": "c_B-5Je7v1VF"
      },
      "source": [
        "### Link Selection"
      ]
    },
    {
      "cell_type": "code",
      "metadata": {
        "id": "ZnwGCEtYolD2"
      },
      "source": [
        "def Select_Links_Starts_With(links: list, stem: str):\n",
        "  results = []\n",
        "  for link in links:\n",
        "    if not isinstance(link, str):\n",
        "      continue\n",
        "    if link.startswith(stem):\n",
        "      results.append(link)\n",
        "  return results\n",
        "\n",
        "def Select_Links_Ends_With(links: list, stem: str):\n",
        "  results = []\n",
        "  for link in links:\n",
        "    if not isinstance(link, str):\n",
        "      continue\n",
        "    if link.endswith(stem):\n",
        "      results.append(link)\n",
        "  return results\n",
        "\n",
        "def Remove_Links(func, links: list, stems: list):\n",
        "  for s in stems:\n",
        "    delta = func(links = links, stem=s)\n",
        "    links = list(set(links) - set(delta))\n",
        "  return links\n",
        "\n",
        "def Append_Links(func, links: list, stems: list):\n",
        "  results = []\n",
        "  for s in stems:\n",
        "    delta = func(links = links, stem=s)\n",
        "    results.append(delta)\n",
        "  return results[0]"
      ],
      "execution_count": null,
      "outputs": []
    },
    {
      "cell_type": "markdown",
      "metadata": {
        "id": "a3sbGiBQgn5E"
      },
      "source": [
        "### Text Processing"
      ]
    },
    {
      "cell_type": "code",
      "metadata": {
        "id": "G1enatLvguPO"
      },
      "source": [
        "def Remove_Sub_Strings(string: str, remove: list):\n",
        "  for r in remove:\n",
        "    assert isinstance(string, str)\n",
        "    string = string.replace(r,\"\")\n",
        "  return string\n",
        "\n",
        "def Clean_String(s: str):\n",
        "  s = re.compile(r'<[^>]+>')\n",
        "  return re.sub('(^|\\s+)FIRST($|\\s+)', '', s)\n",
        "\n",
        "def Get_Text_From_Page(url: str):\n",
        "  web_text = Get_Content(soup = Get_Soup(url), tag=TEXT_TAG)\n",
        "  return Remove_Sub_Strings(str(web_text), remove = REMOVE_SUBSTRINGS)"
      ],
      "execution_count": null,
      "outputs": []
    },
    {
      "cell_type": "markdown",
      "metadata": {
        "id": "spLnfetLv8r1"
      },
      "source": [
        "# Execute Pipeline"
      ]
    },
    {
      "cell_type": "code",
      "metadata": {
        "id": "w-_p1My-efV5"
      },
      "source": [
        "Set_All_Seeds(SEED)\n",
        "start_time = time.time()"
      ],
      "execution_count": null,
      "outputs": []
    },
    {
      "cell_type": "code",
      "metadata": {
        "id": "BjXZ0CP44K9J"
      },
      "source": [
        "URLs = Get_Soup(MAIN_URL)\n",
        "URLs = Get_Links(soup = URLs, find_tag = ARTICLE_TAG, get_tag = URL_HTML_TAG)\n",
        "URLs = Append_Links(func = Select_Links_Starts_With,links = URLs, stems = URLS_START_WITH)\n",
        "URLs = Remove_Links(func = Select_Links_Ends_With,links = URLs, stems = URLS_NOT_END_WITH)"
      ],
      "execution_count": null,
      "outputs": []
    },
    {
      "cell_type": "code",
      "metadata": {
        "colab": {
          "base_uri": "https://localhost:8080/",
          "height": 145
        },
        "id": "Qr0pefA4ikcn",
        "outputId": "6bf5e6eb-8a0c-4f68-a4f4-8a1e1afa0334"
      },
      "source": [
        "Get_Text_From_Page(URLs[1])"
      ],
      "execution_count": null,
      "outputs": [
        {
          "output_type": "execute_result",
          "data": {
            "application/vnd.google.colaboratory.intrinsic+json": {
              "type": "string"
            },
            "text/plain": [
              "'By  a class=author href=homesearchhtml?s=&amp;authornamef=Tommy+Taylor rel=nofollowTommy Taylora  and  a class=author href=homesearchhtml?s=&amp;authornamef=Ronny+Reyes+For+DailymailCom rel=nofollowRonny Reyes For DailymailComa   span class=article-timestamp article-timestamp-published span class=article-timestamp-labelPublished:span time datetime=2021-11-18T19:35:17+0000 19:35 GMT 18 November 2021 time span  |  span class=article-timestamp article-timestamp-updated span class=article-timestamp-labelUpdated:span time datetime=2021-11-19T04:50:56+0000 04:50 GMT 19 November 2021 time span     89 View  br  comments  A terminated Maryland cop his suspended police accomplice and his two daughters who he kidnapped were all found dead inside a crashed vehicle in an apparent murder-suicide after a five-day manhunt on Thursday police said\\\\xa0\\\\xa0\\\\xa0 Robert Vicosa 42 had taken his daughters Aminah 6 and Giana 7 from their Windsor Pennsylvania home on Sunday He was accompanied by\\\\xa0Sgt Tina Bynum 36 a recently suspended member of the Baltimore County Police Department\\\\xa0 Smithburg Police had been in pursuit of Vicosa and Bynum inside a stolen vehicle when it crashed in Maryland\\\\xa0 Maryland State Police spokeswoman Elena Russo said a crisis negotiation team tried to approach the car but smoke from the car made it difficult to see inside\\\\xa0\\\\xa0 Vicosa had reportedly been found dead from a self-inflicted gunshot wound and Baltimore Police confirmed that the three others were found with gunshot wounds One of the girls had been transported to a nearby hospital in Hagerstown where she was later pronounced dead\\\\xa0 A heavy police presence has been reported with helicopters and trucks surrounding the area The deaths were first reported by\\\\xa0 a class=class href=https:wwwwbaltvcomarticlerobert-vicosa-tia-bynum-cockeysville-kidnapping38289726# rel=nofollow noreferrer noopener style=font-weight: bold; target=_blank11 News I-Teama  Police are advising people to stay away from the Midvale Road and Ringgold Pikle area in Waynesboro due to the incident The investigation is currently on-going\\\\xa0 \\\\xa0  Robert Vicosa 42 (left) had allegedly carried out a second kidnapping and held the victim at gunpoint on Wednesday morning in Cockeysville Maryland with former colleague and accomplice Tia Bynum 36 (right) Vicosa had kidnapped his daughters Aaminah six and Giana Vicosa seven from their Windsor Pennsylvania home on Sunday They were reportedly last seen on Tuesday at 1149am\\\\xa0 Robert Vicosa Tina Bynum Aminah Viscosa and Giana Viscosa were all found dead inside a crashed car on Thursday afternoon after Robert sparked a five-day manhunt after kidnapping his two young daughters aged six and seven A heavy police presence has been reported with helicopters and trucks surrounding the area The crash happened outside local Bonnie Zeiglers door who told CBS that the entire neighborhood was shaken up by the event\\\\xa0 I just could not believe that theyre all gone that those dear little girls are all gone said Zeigler\\\\xa0 The five-day manhunt began after Vicosa held their mother captive at gunpoint at the home on Friday as she was tied up by her wrists and ankles Sgt Tina Bynum 36 who has now been suspended was said to be with Vicosa after they were seen on Wednesday afternoon in Cockeysville Maryland The pair Sgt Tina Bynum allegedly kidnapped a male victim at gunpoint and demanded he drive them to various areas in Baltimore County The male victim was later found to be unharmed August 2007: Vicosa failed to appear in court and accepted a written reprimand from the Baltimore County Police Department May 2008: He then again failed to appear in court and accepted a one-day loss of leave June 2019: A trial board made up of members of the police department found him guilty of allegations related to improper conduct with female subordinates The police department demoted him by two ranks March 2021: An internal investigation found he was sleeping on the job and refusing to perform his duties August 2021: His employment with the police department was terminated Source: Baltimore County Police Department\\\\xa0 The victim had told  a class=class href=https:baltimorecbslocalcom20211118vehicle-driven-by-robert-vicosa-reportedly-found-in-western-maryland rel=nofollow noreferrer noopener style=font-weight: bold; target=_blankCBS a that he was worried about the little girls in the car and felt exhausted after the ordeal was over\\\\xa0 \\\\xa0 Vicosa was charged with kidnapping assault and robbery with Bynum was also charged for false imprisonment\\\\xa0\\\\xa0\\\\xa0 Vicosa and Bynum had previously worked together at the Baltimore County Police Department before he was terminated in August for\\\\xa0sleeping on the job and insubordination Bynum who worked for the department for 14 years was suspended from her position on Tuesday as she also reportedly had a record of disciplinary problems\\\\xa0\\\\xa0 Police believe that Bynum had allegedly helped Vicosa keep his estranged wife captive at the Windsor home the weekend before the girls were kidnapped according to  a class=class href=https:wwwydrcomstorynews20211118robert-vicosas-longtime-friend-tia-bynam-charged-in-kidnapping-york-county-girls8663718002 rel=nofollow noreferrer noopener style=font-weight: bold; target=_blankYork Daily Recorda  His wife had been invited to the home for her birthday celebration with her two daughters on Friday night\\\\xa0 After the girls went to bed Vicosa enticed his wife with a present which he claimed to be a bracelet She was then grabbed by the arms by both Vicosa and Bynum and had a gun placed to her head by her husband an affidavit said The pair tied her up by the wrists and ankles after leading her into the basement According to police the restraints were untied at some point The wife had begged her husband to go back to her home on Sunday morning to get her clothes and computer after convincing him she wanted to stay\\\\xa0 She then went home to tell her mother about the assault before going to a Target in\\\\xa0Springettsbury Township to seek help the York Daily Record reported The wife reported the weekend assault on Sunday to local police where she claimed she had been forced to take drugs touch firearms and even was sexually assaulted by Vicosa\\\\xa0 Sources now say Robert Vicosa Tia Bynum and Vicosas 2 children are all dead Search for the former Baltimore County officer ended in Washington Co this afternoon after car he was using was found along the road  a href=https:tcoaRfRaZerfy rel=nofollow noreferrer noopener target=_blankpictwittercomaRfRaZerfya The girls have been featured on a missing and endangered list with their kidnapping date reported as Sunday Vicosa is believed to be driving Bynums 2013 Black Lexus G50 with Pennsylvania license plate number KPK2076 Bynum had allegedly held items for Vicosa while his wife was being held captive The wife also told the department that she believed Vicosa had tracking devices on her phone and vehicle The victims mother had also told police that she received texts from her daughter over the weekend with pictures of her granddaughters at the home on Friday night as well being told that they were staying at the home overnight She thought it was strange as she claimed her daughter was scared of Vicosa and also said that the texts did not match up to way her daughter talked\\\\xa0 The mother had been originally told by her daughter that she was going out to buy ingredients to make fudge on Friday The ingredients were still on the counter on Saturday morning and discovered that Vicosa had driven her daughter to his home after checking security footage The victims brother also said he received a text from his sister on Saturday claiming that she was okay after he found at she was at Vicosas home According to the affidavit Vicosa had threatened to kill his wife his two young daughters and himself over the weekend\\\\xa0\\\\xa0 Police obtained a warrant to search Vicosas but discovered that he and both his daughters were gone\\\\xa0 The children were been taken by Vicosa in a black Acura that belonged to a relative of Bynum\\\\xa0\\\\xa0 Police tracked Vicosas location to Bynums home on Monday and were denied the opportunity to search her residence Baltimore County Police Chief Melissa Hyatt begged Bynum to return the girls to safety at a press conference on Thursday York Area Regional Police Lt Ken Schollenberger had previously pleaded Vicosa to bring the girls home at a conference on Wednesday morning Vicosa then allegedly stole another vehicle on Tuesday after he crashed the Acura into a canal He and the two children then spent a night in a vacant camper\\\\xa0 The female owner of the camper had come to the property the next day where she was held at gunpoint by Vicosa\\\\xa0\\\\xa0 He took the keys to her silver Volkswagen Jetta as well as her cellphone before heading off with the girls\\\\xa0 Police later tracked the location of the vehicle only to discover it was empty\\\\xa0The woman had both her vehicle and cellphone returned to her after it was found Cops then tracked Vicosa to Bynums home and after obtaining a search warrant they entered the home only to find it empty Bynum and her vehicle were both missing Police say they believe the vehicle to be a black 2013 Lexus G350 with Pennsylvania state license plate number KPK2076\\\\xa0 The two young girls Aaminah and Giana were last seen on Tuesday at 1149am in Windsor\\\\xa0 Both Vicosa and Bynum are being begged to return the two young girls to safety Our priority is the safety and wellbeing of (Vicosas daughters) Giana and Aaminah Please get these two innocent and precious children to a safe location Baltimore County Police Chief Melissa Hyatt said at a press conference\\\\xa0 We want to work with you on a safe and peaceful resolution The girls mother had also previously written a statement of her own which was read at a conference on Wednesday\\\\xa0 \\\\xa0I am anxiously awaiting their return the letter had read I miss them and love them and need them home\\\\xa0\\\\xa0 An Amber Alert has not yet been issued for the girls because officers need to have a clear idea of what car Vicosa is driving\\\\xa0 We were seconds away from issuing an Amber Alert Schollenberger said Unfortunately we found the car that he was in and he was not located in it\\\\xa0 At this point the Amber Alert typically attaches to a vehicle or registration plate We dont have a vehicle or registration plate now because the last one that he was in he abandoned\\\\xa0\\\\xa0 The girls have been featured on a missing and endangered persons alert by state police with the kidnapping date listed as Sunday Aaminah has been described as being three feet and eight inches 50 pounds with green eyes and brown hair Giana is four feet and three inches 60 pounds with both brown eyes and hair Were going to use anything to our availability regardless of what his job is to bring this to a safe resolution York Area Regional Police Lt Ken Schollenberger told  a class=class href=https:baltimorecbslocalcom20211117robert-vicosa-tia-bynum-pennsylvania-kidnapping-baltimore-county-police rel=nofollow noreferrer noopener style=font-weight: bold; target=_blankCBS 21a \\\\xa0 Of course if he does have some specialized training were looking to make sure we can counter that by any means necessary\\\\xa0\\\\xa0\\\\xa0\\\\xa0\\\\xa0\\\\xa0\\\\xa0\\\\xa0\\\\xa0\\\\xa0\\\\xa0\\\\xa0 Published by Associated Newspapers Ltd Part of the Daily Mail The Mail on Sunday & Metro Media Group'"
            ]
          },
          "metadata": {},
          "execution_count": 103
        }
      ]
    },
    {
      "cell_type": "code",
      "metadata": {
        "id": "_bRDAryGSAaH"
      },
      "source": [
        "bag_of_words = []\n",
        "for url in URLs:\n",
        "  bag_of_words.append(Get_Text_From_Page(url))\n"
      ],
      "execution_count": null,
      "outputs": []
    },
    {
      "cell_type": "code",
      "metadata": {
        "id": "_hWDNSmYAcC0"
      },
      "source": [
        "titles = []\n",
        "for url in URLs:\n",
        "  titles.append(Get_Soup(url).find(\"title\").contents[0])"
      ],
      "execution_count": null,
      "outputs": []
    },
    {
      "cell_type": "code",
      "metadata": {
        "id": "xEu3r3tsxeJB"
      },
      "source": [
        "output = pd.DataFrame({\"URLS\":URLs,\"Bag Of Words\":bag_of_words,\"Title\":titles}).drop_duplicates()\n",
        "output.to_csv(SCRAPE_OUTPUT_FILE)"
      ],
      "execution_count": null,
      "outputs": []
    },
    {
      "cell_type": "code",
      "metadata": {
        "id": "VchTU15I_9Hc"
      },
      "source": [
        "len(output)\n"
      ],
      "execution_count": null,
      "outputs": []
    },
    {
      "cell_type": "code",
      "metadata": {
        "id": "AK6KYkGc0FBX",
        "colab": {
          "base_uri": "https://localhost:8080/"
        },
        "outputId": "849425ea-82bc-404c-d490-ba7c783eab6c"
      },
      "source": [
        "execution_time = time.time() - start_time\n",
        "execution_time "
      ],
      "execution_count": null,
      "outputs": [
        {
          "output_type": "execute_result",
          "data": {
            "text/plain": [
              "156.2861065864563"
            ]
          },
          "metadata": {},
          "execution_count": 108
        }
      ]
    },
    {
      "cell_type": "markdown",
      "metadata": {
        "id": "itKGf1hX7fUA"
      },
      "source": [
        "## Output Profiling"
      ]
    }
  ]
}