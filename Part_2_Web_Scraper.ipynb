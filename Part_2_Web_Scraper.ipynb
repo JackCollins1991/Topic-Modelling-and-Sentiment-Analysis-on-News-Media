{
  "nbformat": 4,
  "nbformat_minor": 0,
  "metadata": {
    "colab": {
      "name": "Jack_Collins_MA5851_A3_Part1.ipynb",
      "provenance": [],
      "collapsed_sections": [
        "I1ufnk--ahT0",
        "4ZV3MugkZGs8",
        "Qj_Zr_ciLQ9Q",
        "c_B-5Je7v1VF",
        "a3sbGiBQgn5E"
      ]
    },
    "kernelspec": {
      "name": "python3",
      "display_name": "Python 3"
    },
    "language_info": {
      "name": "python"
    }
  },
  "cells": [
    {
      "cell_type": "markdown",
      "metadata": {
        "id": "o-nEWxgR5o9M"
      },
      "source": [
        "# Introduction"
      ]
    },
    {
      "cell_type": "markdown",
      "metadata": {
        "id": "fx4U9Zsw8kna"
      },
      "source": [
        "This notebook explains a pipeline for:     \n",
        "* Taking a URL as input\n",
        "* Extracting all URLs found on that page which match specified criteria\n",
        "* Extracting the text on each of those sub-URLS\n",
        "* Generating a data table of the url, the text and the first title located on that page\n",
        "* Writing this data to a CSV, which is expected to then be used in a subsequent pipeline. \n",
        "\n",
        "This is the abstract task which this pipeline accomplishes. In this scenario, we will configure the pipeline for a specific use case, which is:    \n",
        "* Input the URL for 'The Daily Mail UK' news publication's 'breaking News' page\n",
        "* Extract every news article on the front page of the website\n",
        "* Extract all text from each article, which will then be used in 'Part 3 NLP Analysis' notebook.\n",
        "\n",
        "\n"
      ]
    },
    {
      "cell_type": "markdown",
      "metadata": {
        "id": "6X6RuZ8zBwrD"
      },
      "source": [
        "## Use Case"
      ]
    },
    {
      "cell_type": "markdown",
      "metadata": {
        "id": "qaVY7lcDbd7k"
      },
      "source": [
        "In this use case, we are aiming to conduct a topic modelling and sentiment analysis on each article found y web scraping the Daily Mail's 'Breaking News' web page. We are interested to know if certain topics correlate with sentiment, which would idnicate especially positive or negative discourse on that topic. \n",
        "\n",
        "For this reason, we are inputting in only the URL for the 'Breaking News - Daily Mail UK' web page. This  pipeline will then automatically extract all URLs from that webpage and filter in only URLs which appear to be news articles (as opposed to URLs to images or ads) \n",
        "These news articles cover a range of topics including poltiics, news and entertainment. However, they are all 'current events' stories, meaning they are the 'headline' stories for the particular day this pipeline is run on. Therefore, thise pipeline will produce different results when re-run. Storing the results of the pipeline should be considered in respect to copyright limitations. \n",
        "\n",
        "While each news article web page contains many eements besides the text of the main story, the main story text is gennerally cotnained in predicatble tags, in this case 'p' for 'paragraph text.' Undesired texts, such as previews for ther stories, are ussually wrapped in other tags. \n",
        "\n",
        "### Copyright considerations \n",
        "The Daily Mail terms of use allow for non-commerical re use of partial texts from their articles. The website aso does not use cloudflare, which will allow us to conduct web scraping. \n",
        "\n",
        "### Metadata supplementation\n",
        "This pipelines does more than extract links from a webpage, it also extracts the text found on each URL and provides it to us in a data table. We enrich this data in the following ways:    \n",
        "* Text cleaning by removing the following unwanted characters. Further cleaning is done in the subsequent pipeline with stop words and removing infrequent words which may be the result of residual html in the text strings. \n",
        "\n",
        "* removed substrings are: [\"]\",'\"',\"'\",\".\",\",\",\"[\",\"/\",\">\",\"<\"]\n",
        "\n",
        "* In addition to extracting the raw text in the article, we also extract the title of the article by finding the first 'title' tag that occirs on the page. \n",
        "\n",
        "* The resultant data table of URL, text, title, are then stored in an output file. That file can then be consumed by the subsequent NLP pipeline. \n",
        "\n",
        "### Demonstration\n",
        "\n",
        "What follows is a demonstration fo setting up the required configurations for the pipleine (see the 'Configuration' section) and then executing the pipeline with those configurations (see 'Execution' section). \n",
        "\n",
        "After executing the pipeline, we can also breifly review the data that had been outputted. \n"
      ]
    },
    {
      "cell_type": "markdown",
      "metadata": {
        "id": "17l42JapjFN2"
      },
      "source": [
        "## Extending and Scaling this Prototype\n"
      ]
    },
    {
      "cell_type": "markdown",
      "metadata": {
        "id": "wiLWCmvBjJ2z"
      },
      "source": [
        "This pipeline contains fucntions and a template for a pipeline which can be sued to accomplish this abstracted use case. This is intended as a prototype which could later be developed into:    \n",
        "* An application for extarcting text from all, or a query-filteres subset of, news articles on a news website. This would require altering the current method which only evaluates URLs from the inputted webpage. This new implementation would extract every URL present on the domain which meets a specified criteria. \n",
        "* This example will collected around 100-200 articles and takes aproximatley 2.5 minutes to run. The majority of computation time is from extracting text from the larger HTML text blobs. To scale the application to many thousands or millions of artciles, could be accomplished by distributing out the processing for each sub-URL across parallel computers. "
      ]
    },
    {
      "cell_type": "markdown",
      "metadata": {
        "id": "jsL5839WZDuh"
      },
      "source": [
        "# Configuration"
      ]
    },
    {
      "cell_type": "markdown",
      "metadata": {
        "id": "Dd-mK_jbI4Pq"
      },
      "source": [
        "In the following section, we:      \n",
        "* Import required modules\n",
        "* Set the configratuin constants, inluding the target URLs. This pipeline should be capable of performing the same task for different use cases by changing only the configrations. No changes to the code are required. \n",
        "* Define thefunctons for use in the 'Execution' section.\n",
        "* Connect this runtime to filestorage (Google Drive) to store the output file. "
      ]
    },
    {
      "cell_type": "markdown",
      "metadata": {
        "id": "I1ufnk--ahT0"
      },
      "source": [
        "## Modules"
      ]
    },
    {
      "cell_type": "code",
      "metadata": {
        "id": "Ea7sAKQeZSbL"
      },
      "source": [
        "import requests\n",
        "from bs4 import BeautifulSoup\n",
        "from pprint import pprint\n",
        "from sklearn.pipeline import Pipeline\n",
        "import pandas as pd\n",
        "import re\n",
        "import random\n",
        "import os\n",
        "import numpy as np\n",
        "import time"
      ],
      "execution_count": 42,
      "outputs": []
    },
    {
      "cell_type": "markdown",
      "metadata": {
        "id": "O3B0FUMbaklt"
      },
      "source": [
        "## Constants"
      ]
    },
    {
      "cell_type": "markdown",
      "metadata": {
        "id": "LTHjLFjUL4iv"
      },
      "source": [
        "The constants are the runtime variables which can be set here in this one code chunk. Future versions of this application could set these variables from an external config file. By changing the constants here, this pipeline can accomplish its task on a different use case, without any need to change code. \n",
        "These constants are:     \n",
        "\n",
        "* MAIN_URL - This is the inputted webpage from which we will extract the URLS found there. An example would be the home page of a news website. \n",
        "* DOMAIN - URLs on pages are often partial urls and we will append this domain to the start to create the full URL. \n",
        "* SCRAPE_OUTPUT_FILE - File location for the output file. \n",
        "* ARTICLE_TAG = - the html tag we can use to identify when an element contains the a URL we are interested in. For example 'a' tags contain articles, while other tags may contain URLS to ad sites. \n",
        "* URL_HTML_TAG - Th etag which indicates the URL, this is commonly 'href'\n",
        "* URLS_START_WITH - Filters in only URLS that start with this substring. \n",
        "* URLS_NOT_END_WITH - FIlters out URLs that end with the substring. \n",
        "* TEXT_TAG - The HTML tag which indicates the body text we want to extract. \n",
        "* REMOVE_SUBSTRINGS List of characters and substrings which can be cleaned out of the extracted text. \n",
        "* SEED - The random seed to be set for reproduceability. \n",
        "\n",
        "The HTML tags and URL substrings to filter with are determined by examining the HTML for the target pages directly. This will be demonstrated in the 'Execution' section below. "
      ]
    },
    {
      "cell_type": "code",
      "metadata": {
        "id": "__m-1cnjY94B"
      },
      "source": [
        "MAIN_URL = 'https://www.dailymail.co.uk/news/breaking_news/index.html'\n",
        "DOMAIN = 'https://www.dailymail.co.uk'\n",
        "SCRAPE_OUTPUT_FILE = '/content/drive/MyDrive/MA5851_A3/scrape_results.csv'\n",
        "ARTICLE_TAG = 'a'\n",
        "URL_HTML_TAG = 'href'\n",
        "URLS_START_WITH = ['https://www.dailymail.co.uk']\n",
        "URLS_NOT_END_WITH = ['#video']\n",
        "TEXT_TAG = 'p'\n",
        "REMOVE_SUBSTRINGS = [\"]\",'\"',\"'\",\".\",\",\",\"[\",\"/\",\">\",\"<\"]\n",
        "SEED = 42"
      ],
      "execution_count": 43,
      "outputs": []
    },
    {
      "cell_type": "markdown",
      "metadata": {
        "id": "FPqxXpP8mJJ5"
      },
      "source": [
        "## File Storage"
      ]
    },
    {
      "cell_type": "code",
      "metadata": {
        "colab": {
          "base_uri": "https://localhost:8080/",
          "height": 0
        },
        "id": "a8TwB-0LmFQe",
        "outputId": "75a79e4e-ffb4-44f2-9325-c939107a5001"
      },
      "source": [
        "from google.colab import drive\n",
        "drive.mount('/content/drive')"
      ],
      "execution_count": 44,
      "outputs": [
        {
          "output_type": "stream",
          "name": "stdout",
          "text": [
            "Drive already mounted at /content/drive; to attempt to forcibly remount, call drive.mount(\"/content/drive\", force_remount=True).\n"
          ]
        }
      ]
    },
    {
      "cell_type": "markdown",
      "metadata": {
        "id": "4ZV3MugkZGs8"
      },
      "source": [
        "## Functions"
      ]
    },
    {
      "cell_type": "markdown",
      "metadata": {
        "id": "KjOYu0SeTCG0"
      },
      "source": [
        "Where the imported module's fiuunctionality isn't precisley suited for our use cases, it is appropriate to define some custome functions. These functions are re-useable for other use cases. "
      ]
    },
    {
      "cell_type": "markdown",
      "metadata": {
        "id": "ILtxJO7JeW5m"
      },
      "source": [
        "### Utilities"
      ]
    },
    {
      "cell_type": "code",
      "metadata": {
        "id": "pPVJ0UnueZgd"
      },
      "source": [
        "def Set_All_Seeds(seed):\n",
        "  \"\"\"Aims to set all used random seeds in one place.\"\"\"\n",
        "  random.seed(seed)\n",
        "  os.environ['PYTHONHASHSEED'] = str(seed)\n",
        "  np.random.seed(seed)\n",
        "  np.random.RandomState(seed)"
      ],
      "execution_count": 45,
      "outputs": []
    },
    {
      "cell_type": "markdown",
      "metadata": {
        "id": "Qj_Zr_ciLQ9Q"
      },
      "source": [
        "### HTML Element Selection"
      ]
    },
    {
      "cell_type": "code",
      "metadata": {
        "id": "kC7xdREIenUG"
      },
      "source": [
        "def Get_Soup(url: str):\n",
        "  \"\"\"Input a url and return the BeautifulSoup instance (aka: a 'soup').\"\"\"\n",
        "  data = requests.get(url)\n",
        "  html = BeautifulSoup(data.text, 'html.parser')\n",
        "  return html"
      ],
      "execution_count": 46,
      "outputs": []
    },
    {
      "cell_type": "code",
      "metadata": {
        "id": "6Z5nv78ojRcZ"
      },
      "source": [
        "def Get_Links(soup: BeautifulSoup, find_tag: str, get_tag: str):\n",
        "  \"\"\"Extracts every URL found in the 'get_tag' of each 'find_tag' in the soup.\"\"\" \n",
        "  results = []\n",
        "  for link in soup.find_all(find_tag):\n",
        "    results.append(link.get(get_tag))\n",
        "  return results"
      ],
      "execution_count": 47,
      "outputs": []
    },
    {
      "cell_type": "code",
      "metadata": {
        "id": "Neki7NkjR7Bs"
      },
      "source": [
        "def Get_Content(soup: BeautifulSoup, tag: str):\n",
        "  \"\"\"Input a soup, return a list of strings which are the \n",
        "  contents found between each tag\"\"\"\n",
        "  results = []\n",
        "  for p in soup.find_all(tag):\n",
        "    results.append(p.contents)\n",
        "  return results"
      ],
      "execution_count": 48,
      "outputs": []
    },
    {
      "cell_type": "markdown",
      "metadata": {
        "id": "a3sbGiBQgn5E"
      },
      "source": [
        "### Text Processing"
      ]
    },
    {
      "cell_type": "code",
      "metadata": {
        "id": "G1enatLvguPO"
      },
      "source": [
        "def Remove_Sub_Strings(string: str, remove: list):\n",
        "  \"\"\"User can input a list of substrings which will all be \n",
        "  removed from the string\"\"\"\n",
        "  for r in remove:\n",
        "    assert isinstance(string, str)\n",
        "    string = string.replace(r,\"\")\n",
        "  return string\n",
        "\n",
        "def Clean_String(s: str):\n",
        "  \"\"\"Cleans regex characters from string\"\"\"\n",
        "  s = re.compile(r'<[^>]+>')\n",
        "  return re.sub('(^|\\s+)FIRST($|\\s+)', '', s)\n",
        "\n",
        "def Get_Text_From_Page(url: str):\n",
        "  \"\"\"Input a url and returns only the text found on the page.\n",
        "  Reuires runtime variable 'TEXT_TAG' and 'REMOVE_SUBSTRINGS' to be defined.\"\"\"\n",
        "  web_text = Get_Content(soup = Get_Soup(url), tag=TEXT_TAG)\n",
        "  return Remove_Sub_Strings(str(web_text), remove = REMOVE_SUBSTRINGS)"
      ],
      "execution_count": 49,
      "outputs": []
    },
    {
      "cell_type": "markdown",
      "metadata": {
        "id": "c_B-5Je7v1VF"
      },
      "source": [
        "### Link Selection"
      ]
    },
    {
      "cell_type": "code",
      "metadata": {
        "id": "ZnwGCEtYolD2"
      },
      "source": [
        "def Select_Links_Starts_With(links: list, stem: str):\n",
        "  \"\"\"Input a list of URLS, returns the URLs which start with the stem\"\"\"\n",
        "  results = []\n",
        "  for link in links:\n",
        "    if not isinstance(link, str):\n",
        "      continue\n",
        "    if link.startswith(stem):\n",
        "      results.append(link)\n",
        "  return results\n",
        "\n",
        "def Select_Links_Ends_With(links: list, stem: str):\n",
        "  \"\"\"Input a list of URLS, returns the URLs which end with the stem\"\"\"\n",
        "  results = []\n",
        "  for link in links:\n",
        "    if not isinstance(link, str):\n",
        "      continue\n",
        "    if link.endswith(stem):\n",
        "      results.append(link)\n",
        "  return results\n",
        "\n",
        "def Remove_Links(func, links: list, stems: list):\n",
        "  \"\"\"Allows users to filter out URLs with a list of stems.\"\"\"\n",
        "  for s in stems:\n",
        "    delta = func(links = links, stem=s)\n",
        "    links = list(set(links) - set(delta))\n",
        "  return links\n",
        "\n",
        "def Append_Links(func, links: list, stems: list):\n",
        "  \"\"\"Allows users to filter in URLs with a list of stems.\"\"\"\n",
        "  results = []\n",
        "  for s in stems:\n",
        "    delta = func(links = links, stem=s)\n",
        "    results.append(delta)\n",
        "  return results[0]"
      ],
      "execution_count": 50,
      "outputs": []
    },
    {
      "cell_type": "markdown",
      "metadata": {
        "id": "spLnfetLv8r1"
      },
      "source": [
        "# Execution"
      ]
    },
    {
      "cell_type": "code",
      "metadata": {
        "id": "w-_p1My-efV5"
      },
      "source": [
        "Set_All_Seeds(SEED)\n",
        "start_time = time.time()"
      ],
      "execution_count": 51,
      "outputs": []
    },
    {
      "cell_type": "markdown",
      "metadata": {
        "id": "fVM-P8o5WxpC"
      },
      "source": [
        "## Extract webpages\n",
        "\n"
      ]
    },
    {
      "cell_type": "code",
      "metadata": {
        "id": "BjXZ0CP44K9J"
      },
      "source": [
        "# Take the main URL and extract all desired URLs found on that webpage into a list. \n",
        "main_soup = Get_Soup(MAIN_URL)\n",
        "URLs = Get_Links(soup = main_soup, find_tag = ARTICLE_TAG, get_tag = URL_HTML_TAG)\n",
        "URLs = Append_Links(func = Select_Links_Starts_With,links = URLs, stems = URLS_START_WITH)\n",
        "URLs = Remove_Links(func = Select_Links_Ends_With,links = URLs, stems = URLS_NOT_END_WITH)"
      ],
      "execution_count": 52,
      "outputs": []
    },
    {
      "cell_type": "markdown",
      "metadata": {
        "id": "8FPy6-NMYZwU"
      },
      "source": [
        "We can examine a sample of the main page HTML code here. From exploring the full HTML document, we can determine the tags and url stems needed to extract the desired URLS and set those porperties in the configuration. "
      ]
    },
    {
      "cell_type": "code",
      "metadata": {
        "colab": {
          "base_uri": "https://localhost:8080/",
          "height": 54
        },
        "id": "TfbKxq8OYV0u",
        "outputId": "caa4c41b-ab6b-432a-a749-529c3d708c53"
      },
      "source": [
        "str(main_soup)[0:300]"
      ],
      "execution_count": 53,
      "outputs": [
        {
          "output_type": "execute_result",
          "data": {
            "application/vnd.google.colaboratory.intrinsic+json": {
              "type": "string"
            },
            "text/plain": [
              "'<!DOCTYPE html PUBLIC \"-//W3C//DTD XHTML 1.0 Transitional//EN\" \"//www.w3.org/TR/xhtml1/DTD/xhtml1-transitional.dtd\">\\n<html><head><script type=\"text/javascript\">\\ntry {\\n  Object.defineProperty(window, \\'adverts\\', {configurable: false, value:{}});\\n}\\ncatch(error) {\\n  console.error(error);\\n}\\n</script><lin'"
            ]
          },
          "metadata": {},
          "execution_count": 53
        }
      ]
    },
    {
      "cell_type": "markdown",
      "metadata": {
        "id": "6UOSUw7aYokz"
      },
      "source": [
        "Using the tags and stems we have inputted into the configuration, we can extract a list of URLs as follows. The number of URLs extracted will be detailed in the output section below. "
      ]
    },
    {
      "cell_type": "code",
      "metadata": {
        "colab": {
          "base_uri": "https://localhost:8080/",
          "height": 0
        },
        "id": "cFDtKUXeYv6J",
        "outputId": "9a36649a-bb15-4d85-a8f3-3db366faec67"
      },
      "source": [
        "URLs[0:4]"
      ],
      "execution_count": 54,
      "outputs": [
        {
          "output_type": "execute_result",
          "data": {
            "text/plain": [
              "['https://www.dailymail.co.uk/news/article-10217729/Fired-Baltimore-cop-female-officer-accomplice-carry-SECOND-kidnapping.html#comments',\n",
              " 'https://www.dailymail.co.uk/news/article-10235429/Biden-ignores-questions-saying-families-rest-easy-shelves-full.html#comments',\n",
              " 'https://www.dailymail.co.uk/news/article-10225803/Europe-descends-chaos-second-night-protests-continue-Austria-Holland-Denmark.html#comments',\n",
              " 'https://www.dailymail.co.uk/sport/sportsnews/article-10125861/Ole-Gunnar-Solskjaer-SACKED-Manchester-United-brutal-loss-Watford.html#comments']"
            ]
          },
          "metadata": {},
          "execution_count": 54
        }
      ]
    },
    {
      "cell_type": "markdown",
      "metadata": {
        "id": "lwyP72T-Y2yn"
      },
      "source": [
        "We can apply our custom function to extract all body text for each URL in the list. See in the below example, that some html code and unwanted sub strings are still in the text. These will be removed with stop words in the subsequent pipeline.' "
      ]
    },
    {
      "cell_type": "code",
      "metadata": {
        "colab": {
          "base_uri": "https://localhost:8080/",
          "height": 145
        },
        "id": "Qr0pefA4ikcn",
        "outputId": "ec702cbd-7e11-4f20-9026-096eaacb0bc2"
      },
      "source": [
        "Get_Text_From_Page(URLs[1])"
      ],
      "execution_count": 55,
      "outputs": [
        {
          "output_type": "execute_result",
          "data": {
            "application/vnd.google.colaboratory.intrinsic+json": {
              "type": "string"
            },
            "text/plain": [
              "'By  a class=author href=homesearchhtml?s=&amp;authornamef=Geoff+Earle+Deputy+US+Political+Editor+For+Dailymailcom rel=nofollowGeoff Earle Deputy US Political Editor For Dailymailcoma  and  a class=author href=homesearchhtml?s=&amp;authornamef=Katelyn+Caralle+US+Political+Reporter rel=nofollowKatelyn Caralle US Political Reportera   a class=twitter-follow-author href=https:twittercomintentfollow?screen_name=katelyn_caralle&amp;tw_p=followbutton rel=nofollow noreferrer noopener target=_blankspan class=follow-authorspana   span class=article-timestamp article-timestamp-published span class=article-timestamp-labelPublished:span time datetime=2021-11-23T20:16:17+0000 15:16 EST 23 November 2021 time span  |  span class=article-timestamp article-timestamp-updated span class=article-timestamp-labelUpdated:span time datetime=2021-11-23T22:10:31+0000 17:10 EST 23 November 2021 time span     16k View  br  comments  President  a href=newsjoe-bidenindexhtml id=mol-345a7220-4c9a-11ec-8c19-fb1332ee26a5 style=font-weight: bold;Joe Bidena  sought to reassure Americans about rising gas prices  a href=newssupply-chain-crisisindexhtml id=mol-34654790-4c9a-11ec-8c19-fb1332ee26a5 style=font-weight: bold;supply chaina  issues and the availability of holiday presents – but didnt take questions from  a href=newswhite-houseindexhtml id=mol-34682dc0-4c9a-11ec-8c19-fb1332ee26a5 style=font-weight: bold;White Housea  reporters as he prepared to leave Washington for  a href=newsthanksgivingindexhtml id=mol-346595b0-4c9a-11ec-8c19-fb1332ee26a5 style=font-weight: bold;Thanksgivinga  Tuesday Biden once again sought to speak to reassure Americans who are focused on inflation or worried about the state of the economy – referencing mothers and fathers who are asking will there be enough food we can afford to buy for the holidays Will we be able to get Christmas presents to the kids on time and if so will they cost me an arm and a leg? He made sure to show he is in tune to concerns about gas prices – including on the West Coast where they face high taxes Right now I will do what needs to be done to reduce the price you pay at the pump he said touting a new action to release 50 million gallons from a strategic petroleum reserve President Joe Biden delivers remarks on the economy in the South Court Auditorium on the White House campus Tuesday Nov 23 2021 in Washington He spoke for about 11 minutes but did not take questions from reporters Families can rest easy - grocery stores are well-stocked with turkey and everything else you need for Thanksgiving he said He also spoke to supply chain issues mentioning meetings with Walmart Target Home Depot and other retailers He cited a 33 per cent drop in the time container ships were sitting on docks and said major retailers have confirmed that their shelves will be well stocked in stores this holiday season He called it good news for parents worried about whether everything from bicycles to ice skates will be available\\\\xa0 Biden spoke for more than 11 minutes – but once again did not take questions from White House reporters The White House took other steps to make reporters comfortable – piping in jazz standards by Dexter Gordon and Dave Brubeck to an auditorium on the White House grounds while they awaited his remarks A changeable set constructed on stage featured rotating images of electric vehicles including the Chevy Volt Biden declined to take questions following the event He reassured Americans that Thanksgiving food would be available on store shelves and that supply chain problems were improving When he concluded his remarks reporters shouted out questions about the tragedy in Waukesha inflation and other topics Steve Portnoy of CBS radio who chairs the White House Correspondents Association yelled out: When will you tell us what you discussed with Xi Jinping and other leaders? When will you answer our questions sir? Biden held a three-hour digital summit with the Chinese president last week\\\\xa0 Instead Biden walked away from the press following reporters and videographers who were there for his remarks His press secretary Jen Psaki fielded questions later from the Brady briefing room along with Energy Secretary Jennifer Granholm\\\\xa0 Biden announced the largest ever release of oil from the US Strategic Petroleum Reserve with 50 million barrels as Americans pay premium prices for a gallon of gas and Republicans slam the move as just a band-aid The bottom line – today were launching a major effort to moderate the price of oil Biden said from the White House An effort that will span the globe and ultimately reach your corner gas station God willing You should see the price of gas drop where you fill up your time he assured And in the longer term we will reduce our reliance on oil as we shift to clean energy But right now I will do what needs to be done to reduce the price you pay at the pump The average price of a gallon of gas in the US sits around $340 as of Tuesday Biden listed times when he was vice president when the prices were higher – like in 2012 when it was at $390 per gallon and in 2014 when it was at $369 He also noted that the prices surpassed $300 in many places in 2019 when Donald Trump was president The fact is we always get through those spikes but were going to get through this one as well – and hopefully faster he said But It doesnt mean we should stand by idly and wait for prices to drop on their own Instead were taking action But Republican lawmakers say that this measure is only a short term fix that will not help decrease prices at the pump in the long run Instead they are urging the president to tap ramp up US production of natural resources\\\\xa0 His actions on the\\\\xa0Strategic Petroleum Reserve are meant to lower soaring prices Americans are paying at the pumps\\\\xa0 Biden is working with India South Korea China and Japan to tap from their resources after OPEC+ nations in the Middle East rebuffed his pleas to pump more oil It is a dramatic move that hasnt been used since the aftermath of Hurricane Katrina experts believe it is just a short-term fix to the soaring costs and Republicans said Biden was trying to desperately fix an emergency he has created Even Democratic Senator Joe Manchin chairman of the Energy and Natural Resources Committee slammed the move as a Band-Aid for rising gas prices but does not solve for the self-inflicted wound that shortsighted energy policy is having on our nation Biden is taking oil from the reserve which has 6045 million total barrels across four sites in Louisiana and Texas with gas prices at a seven-year-high inflation hitting historic records and America facing a winter heating crisis Oil prices rose towards $81 a barrel on Tuesday morning after the announcement to try to and cool the market falling short of some expectations Americans will likely not see a change in prices at the pump for at least another two weeks Presidents typically tap oil reserves when emergencies or natural disasters disrupt the supply chain although more recently have even tapped them to keep prices in check from time to time The last time that the oil reserve was tapped in the US was as oil prices surged in the aftermath of Hurricane Katrina At the time then-President George Bush ordered 30 million barrels be released The average price of gasoline recently breached a seven-year high and now costs $3409 per gallon according to AAA In California residents have reported paying up to $484 a gallon The Consumer Price Index is up 62 per cent over last year and rose 09 per cent in October alone tanking public trust in the president\\\\xa0 Following a presidential announcement for the release of oil it usually takes 13 days to hit the market according to the Energy Department Experts have predicted it could take two weeks for the prices to start dropping but have also warned it is not a long-term solution because it doesnt solve supply and demand problems in the aftermath of the pandemic\\\\xa0 Biden will formally announce the move to release reserve oil in a speech on Tuesday afternoon aimed at addressing the economy and lowering prices Later Tuesday evening the president and first lady will leave Washington DC to spend Thanksgiving with family in Nantucket Massachusetts\\\\xa0 President Biden is authorizing the release of 50 million barrels of oil from the Strategic Petroleum Reserve in a bid to lower soaring prices Americans are paying at the pumps The White House announced on Tuesday\\\\xa0 The average price of gasoline recently breached a seven-year high and now costs $3409 per gallon according to AAA In California residents have reported paying up to $484 a gallon\\\\xa0 Prices for a gallon of gas are highest in west coast states and in the North East according to AAA They are lowest in south central states like Florida Louisiana and Mississippi where prices range from $297 - $315 American consumers are feeling the impact of elevated gas prices at the pump and in their home heating bills and American businesses are too because oil supply has not kept up with demand as the global economy emerges from the pandemic The White House said in a statement released Friday morning\\\\xa0 Thats why President Biden is using every tool available to him to work to lower prices and address the lack of supply Today the President is announcing that the Department of Energy will make available releases of 50 million barrels of oil from the Strategic Petroleum Reserve to lower prices for Americans and address the mismatch between demand exiting the pandemic and supply Eighteen million barrels will be part of an accelerated release from previous sales and 32 million will be released as an exchange to be replenished at a later date the White House said Biden has already faced a lot of criticism over revoking a key permit upon taking office in January that suspended construction of the Keystone XL Pipeline His administration has also threatened to close the Michigan Five Pipeline Republicans immediately weighed in on the announcement of tapping the reserve claiming this emergency measure should be taken during war time\\\\xa0 Former President Donald Trump called it an attack on the oil reserve For decades our Countrys very important Strategic Oil Reserves were low or virtually empty in that no President wanted to pay the price of filling them up I filled them up three years ago right to the top when oil prices were very low Trump praised his administration in a statement Tuesday morning Those reserves are meant to be used for serious emergencies like war and nothing else he wrote Now I understand that Joe Biden will be announcing an attack on the newly brimming Strategic Oil Reserves so that he could get the close to record-setting high oil prices artificially lowered We were energy independent one year ago now we are at the mercy of OPEC gasoline is selling for $7 in parts of California going up all over the Country and they are taking oil from our Strategic Reserves Is this any way to run a Country?\\\\xa0 It appears Trumps claim that he helped add to the reserve during his time as president is not true According to the  a class=class href=https:wwweiagovdnavpethistLeafHandlerashx?n=PET&amp;s=WCSSTUS1&amp;f=W rel=nofollow noreferrer noopener style=font-weight: bold; target=_blankUS Energy Information Administrationa  the national Strategic Petroleum Reserve stockpile went from 695 million barrels in January 2017 to 638 million in January 2021 – the same timeline Trump entered and left office\\\\xa0   Gas prices are surging nationwide – reaching some of the highest levels in California A Chevron stations shows a gallon of gas at $509 in Visalia California on November 16 (left) and a SevenEleven shows the price per gallon at $333 in Miami Florida on November 22 (right) span class=mol-style-boldLouise Dickson Senior Oil Markets Analyst Rystad Energy Consultants\\xa0span Today marks an official emergence of an anti-OPEC+ a group of top oil-consuming countries that are taking the supply-side dynamics into their own hands in the unconventional and unprecedented release of strategic petroleum reserves to create artificial looseness in the oil market and deliver a negative blow to oil prices The orchestrated supply-side via SPRs is a last ditch effort after the US was unsuccessful an influencing OPEC+ to release supply an ongoing call since August T he supply side support is intended to quell oil prices and keep pandemic GDP recovery on track especially amid the backdrop of an increasingly inflationary macro environment The coordinated effort is by the US which has pledged 50 million barrels of supply and joined by other major consumers China India Japan Korea and the UK The White House didnt provide a chartered schedule for the release but some of the barrels will be hitting the market as early as December Much of the downward price impact has already been priced into the futures curve over the past week since China announced it was ready to cooperate following the Xi-Biden summit The sale of the reserves should more be viewed as swap as these strategic reserves will need to be replenished at some point meaning a demand uptick in the future However with a flatter price structure ahead these countries will have the arbitrage advantage of restocking reserves at a price band much lower than $80 per barrel Brent Todays historic but very unorthodox move is a clear message to OPEC+ that its not the only actor on the global oil market stage The coordinated effort represents the formation of an unofficial demand-side alliance that keeps OPEC+ in check if it fires up prices to a level seen as unsatisfactory to spur economic growth and keep consumer purchasing power in check The threat of more supply in the short-term certainly creates an artificially looser oil market for the next 1-2 month period However the move by Biden and other leaders may just be pushing the supply issue down the timeline as emptying out storage will put even further strain on already low oil stockpiles and as these countries will eventually have to go on a buying spree to refill the strategic reserves The White House announcement referenced a release of barrels of oil so for now we assume this refers to crude stocks and not any refined products such as gasoline or diesel While the majority of US reserves are held in crude stockpiles the participating Asian economies may decide to tap into more gasoline and diesel stocks which would provide more immediate relief to the products market to the consumer pain and to the inflated pump prices In the US especially with the traditionally high demand during the Thanksgiving holiday that is coming up it is unlikely the price relief will be passed down to consumers in the near short-term unless the Biden administration prioritizes the release of gasoline stocks The tug of war between producers for higher prices and consumers for lower prices can only lead to a very volatile price environment in 2022 Senator Cindy Hyde-Smith of Mississippi tweeted: Biden tapping the Strategic Petroleum Reserve (which is meant for emergencies) is a short-sighted & inadequate action to address Biden-caused record spikes at gas pumps To truly help our nation the @WhiteHouse needs to reverse the policies that put our energy security at risk she urged Arkansas Senator John Boozman and Louisiana Senator Bill Cassidy shared that stance Instead of begging OPEC to increase production or tapping into our strategic petroleum reserves we should be increasing our domestic energy production Boozman tweeted Tuesday Americans are paying more for gas and heating fuel up to 30% higher this winter It will be a colder Thanksgiving for too many Cassidy wrote: The best way to lower gas prices is to continually invest in the US energy industry so we dont have to import energy from other countries when there is a supply shortage Americans need long-term solutions to skyrocketing gas prices not a band-aid fix Senator Lindsey Graham tweeted: The Democratic brand is suffering from the reality of a Biden presidency and a Democrat-controlled Congress When people hear Democrat people think of high gas prices empty shelves broken borders and the heartbreak of Afghanistan the South Carolina Republican added in his criticism of the Biden administration A group of 33 House Republicans sent a letter to Biden and Energy Secretary Jennifer Granholm proposing an alternative strategy of increasing the countrys oil production rather than tap the emergency reserves There is no reason to use our countrys safety net to bail out President Bidens failed policies and poor planning the letter reads Rather it would be in our best interest to reopen oil and gas production on federal lands which would equate to a 20% increase in our domestic oil production If we were to withdraw reserves from the SPR that are currently priced at $29per barrel and forced to replace them at a cost of over $80per barrel (and growing) we would be creating another economic nightmare for taxpayers they explained The letter continued: Higher gas prices hurt the American public Encouraging domestic oil and gas production helps to create American jobs energy independence from Russia and the Middle East and cheaper visits to the pump Resorting to withdrawals from the SPR only postpones reality and creates larger economic concerns for the future At a time when we will undoubtably have harsh winter storms and hurricanes along with an uncertain global geopolitical environment future withdrawals from the SPR may be urgently needed We must ensure the SPR is fully stocked and able to protect Americans the way it was intended to they pleaded\\\\xa0 GOP Representative Bob Gibbs spokesperson told DailyMailcom: The Presidents decision to tap into the strategic petroleum reserve is just a band-aid on a gaping wound caused by his anti-energy policies that are killing domestic energy production Long-term price stability can only be guaranteed by a stable and affordable domestic energy supply they continued Its reprehensible that the Biden administration has killed thousands of American energy jobs but goes hat in hand to nations that include adversaries and begs them to increase production Asking Pretty please is not a responsible energy policy We wouldnt have to tap our emergency reserves or beg OPEC if President Biden hadnt allied himself with socialist anti-energy activists Georgia Representative Buddy Carter tweeted on Monday: Biden is slapping a bandaid on our energy crisis We need POLICY changes not a few extra barrels of oil to hold us over\\\\xa0 Rystad Energy an independent energy research and business intelligence company called the move anti-OPEC+ Today marks an official emergence of an anti-OPEC+ a group of top oil-consuming countries that are taking the supply-side dynamics into their own hands in the unconventional and unprecedented release of strategic petroleum reserves to create artificial looseness in the oil market and deliver a negative blow to oil prices the companys Senior Oil Markets Analyst Louise Dickson said The orchestrated supply-side via SPRs is a last ditch effort after the US was unsuccessful in influencing OPEC+ to release supply an ongoing call since August Dickson continued The supply side support is intended to quell oil prices and keep pandemic GDP recovery on track especially amid the backdrop of an increasingly inflationary macro environment The White House didnt provide a chartered schedule for the release but some of the barrels will be hitting the market as early as December Much of the downward price impact has already been priced into the futures curve over the past week since China announced it was ready to cooperate following the Xi-Biden summit\\\\xa0 Former President Donald Trump called the measure an attack on the oil reserve and claimed that he helped grow the Strategic Petroleum Reserve when he was president – despite the crude oil amount decreasing from January 2017 to January 2021 Inflation is at its highest in 30 years – one of the factors leading to a massive decrease in approval for Joe Biden  On the other hand Democrats said their calls for Biden to tap the reserve were answered Tuesday Senate Majority Leader Chuck Schumer called it good news for families I called for this to provide relief at the pump and signal to OPEC they cant manipulate supply to inflate gas prices the New York Democrat continued on Twitter Of course—the only long term solution is to keep working to eliminate fossil fuel dependence and create a robust green energy economy The Organization of Petroleum Exporting Countries and its allies are scheduled to meet Dec 2 and are eyeing plans to increase oil production by a mere 400000 barrels per day in January\\\\xa0 But OPEC+ officials warned in turn they would respond if the worlds largest oil consumers tapped their reserves setting up a fight for control of the global oil market\\\\xa0 OPEC+ officials have said they may reconsider plans to add production at their meeting next week according to Al Jazeera\\\\xa0 The standoff demonstrates a fraught relationship between Washington and Riyadh Saudi Arabia traditionally a strong trade ally of the US\\\\xa0\\\\xa0 Biden has repeatedly pointed to OPEC+ and Russia for price hikes and even called on the Federal Trade Commission to investigate for price-gouging as he tries to find a culprit for the inflation that is beguiling his administration\\\\xa0 If you take a look at gas prices and you take a look at oil prices thats a consequence of thus far the refusal of Russia or the OPEC nations to pump more oil he said\\\\xa0 OPEC+ in April 2020 cut output by more than 10 million barrels a day The group\\\\xa0has about 38 million bpd in supply cuts that it has not yet returned to the market\\\\xa0 But another reason prices have surged is that the US cut production of oil by three million barrels in the summer of 2020 as the pandemic crushed demand\\\\xa0 And as Biden begs other nations to pump more oil he has taken a number of steps to curb oil and gas production within the US - pausing new oil and gas leases on federal land and revoking the permit for the Keystone XL pipeline\\\\xa0  President Biden Announces Release from the Strategic Petroleum Reserve As Part of Ongoing Efforts to Lower Prices and Address Lack of Supply Around the World Announcement is in parallel with other major energy consuming nations including China India Japan Republic of Korea and the United Kingdom Over the last 18 months the COVID-19 pandemic forced an unprecedented global economic shutdown As the world is re-opening from a near economic standstill countries across the globe are grappling with the challenges that arise as consumer demand for goods outpaces supply\\\\xa0 But here in the United States the economic recovery is stronger and faster than anywhere else in the world – according to the Organization for Economic Co-operation and Development the US is the only one of the major economies to have returned to pre-pandemic gross domestic product levels - in large part due to President Bidens American Rescue Plan which funded and facilitated a nationwide vaccination program provided resources to schools and small businesses to keep them open in the face of COVID waves and put money in the pockets of those hit hardest by the pandemic As a result of the strong recovery in the United States Americans have nearly $100 more per month in disposable income in their pockets this year even as COVID has continued to complicate the economic recovery around the world Even so American consumers are feeling the impact of elevated gas prices at the pump and in their home heating bills and American businesses are too because oil supply has not kept up with demand as the global economy emerges from the pandemic Thats why President Biden is using every tool available to him to work to lower prices and address the lack of supply Today the President is announcing that the Department of Energy will make available releases of 50 million barrels of oil from the Strategic Petroleum Reserve to lower prices for Americans and address the mismatch between demand exiting the pandemic and supply The President has been working with countries across the world to address the lack of supply as the world exits the pandemic And as a result of President Bidens leadership and our diplomatic efforts this release will be taken in parallel with other major energy consuming nations including China India Japan Republic of Korea and the United Kingdom This culminates weeks of consultations with countries around the world and we are already seeing the effect of this work on oil prices Over the last several weeks as reports of this work became public oil prices are down nearly 10 percent The US Department of Energy will make available releases of 50 million barrels from the Strategic Petroleum Reserve in two ways: • 32 million barrels will be an exchange over the next several months releasing oil that will eventually return to the Strategic Petroleum Reserve in the years ahead The exchange is a tool matched to todays specific economic environment where markets expect future oil prices to be lower than they are today and helps provide relief to Americans immediately and bridge to that period of expected lower oil prices The exchange also automatically provides for re-stocking of the Strategic Petroleum Reserve over time to meet future needs • 18 million barrels will be an acceleration into the next several months of a sale of oil that Congress had previously authorized The President stands ready to take additional action if needed and is prepared to use his full authorities working in coordination with the rest of the world to maintain adequate supply as we exit the pandemic Even as the President is helping to lead the world in addressing oil supply imbalances he is also focused on how consolidation in the oil and gas sector may be resulting in anti-competitive practices that keep American consumers from benefitting when oil prices fall There is mounting evidence that declines in oil prices are not translating into lower prices at the pump Last week the President asked the Federal Trade Commission to examine what is going on in oil and gas markets and to consider whether illegal conduct is costing families at the pump Todays announcement reflects the Presidents commitment to do everything in his power to bring down costs for the American people and continue our strong economic recovery At the same time the Administration remains committed to the Presidents ambitious clean energy goals as reflected in the historic Bipartisan Infrastructure Law signed last week and the House-passed Build Back Better Act that together represent the largest investment in combatting climate change in American history and is a critical step towards reaching a net-zero emissions economy by 2050 and reducing our dependence on foreign fossil fuels\\\\xa0  Published by Associated Newspapers Ltd Part of the Daily Mail The Mail on Sunday & Metro Media Group'"
            ]
          },
          "metadata": {},
          "execution_count": 55
        }
      ]
    },
    {
      "cell_type": "markdown",
      "metadata": {
        "id": "9f6anWkAW07W"
      },
      "source": [
        "## Extend the metadata with new features"
      ]
    },
    {
      "cell_type": "markdown",
      "metadata": {
        "id": "QQa-kkincda7"
      },
      "source": [
        "From the list of URLs, we can develop more features and output a data table of:    \n",
        "* The URL\n",
        "* The title of the article\n",
        "* 'bag of words' which is the text in the article. "
      ]
    },
    {
      "cell_type": "code",
      "metadata": {
        "id": "_bRDAryGSAaH"
      },
      "source": [
        "bag_of_words = []\n",
        "for url in URLs:\n",
        "  bag_of_words.append(Get_Text_From_Page(url))\n"
      ],
      "execution_count": 56,
      "outputs": []
    },
    {
      "cell_type": "code",
      "metadata": {
        "id": "_hWDNSmYAcC0"
      },
      "source": [
        "titles = []\n",
        "for url in URLs:\n",
        "  titles.append(Get_Soup(url).find(\"title\").contents[0])"
      ],
      "execution_count": 57,
      "outputs": []
    },
    {
      "cell_type": "code",
      "metadata": {
        "id": "xEu3r3tsxeJB"
      },
      "source": [
        "output = pd.DataFrame({\"URLS\":URLs,\"Bag Of Words\":bag_of_words,\"Title\":titles}).drop_duplicates()\n",
        "output.to_csv(SCRAPE_OUTPUT_FILE)\n",
        "execution_time = time.time() - start_time"
      ],
      "execution_count": 58,
      "outputs": []
    },
    {
      "cell_type": "markdown",
      "metadata": {
        "id": "itKGf1hX7fUA"
      },
      "source": [
        "## Output Profiling"
      ]
    },
    {
      "cell_type": "markdown",
      "metadata": {
        "id": "1rB2ZwFWc6Q6"
      },
      "source": [
        "The data table has been written to the output file. We can close the pipeline by providing some descriptive information about the corpus. The following is a preview of the data's first three rows. "
      ]
    },
    {
      "cell_type": "code",
      "metadata": {
        "colab": {
          "base_uri": "https://localhost:8080/",
          "height": 143
        },
        "id": "J_LYa4QZdXRs",
        "outputId": "a0e0a666-392d-4377-92fe-5bba55034173"
      },
      "source": [
        "output.head(3)"
      ],
      "execution_count": 59,
      "outputs": [
        {
          "output_type": "execute_result",
          "data": {
            "text/html": [
              "<div>\n",
              "<style scoped>\n",
              "    .dataframe tbody tr th:only-of-type {\n",
              "        vertical-align: middle;\n",
              "    }\n",
              "\n",
              "    .dataframe tbody tr th {\n",
              "        vertical-align: top;\n",
              "    }\n",
              "\n",
              "    .dataframe thead th {\n",
              "        text-align: right;\n",
              "    }\n",
              "</style>\n",
              "<table border=\"1\" class=\"dataframe\">\n",
              "  <thead>\n",
              "    <tr style=\"text-align: right;\">\n",
              "      <th></th>\n",
              "      <th>URLS</th>\n",
              "      <th>Bag Of Words</th>\n",
              "      <th>Title</th>\n",
              "    </tr>\n",
              "  </thead>\n",
              "  <tbody>\n",
              "    <tr>\n",
              "      <th>0</th>\n",
              "      <td>https://www.dailymail.co.uk/news/article-10217...</td>\n",
              "      <td>By  a class=author href=homesearchhtml?s=&amp;amp;...</td>\n",
              "      <td>Fired Baltimore cop is found dead in vehicle f...</td>\n",
              "    </tr>\n",
              "    <tr>\n",
              "      <th>1</th>\n",
              "      <td>https://www.dailymail.co.uk/news/article-10235...</td>\n",
              "      <td>By  a class=author href=homesearchhtml?s=&amp;amp;...</td>\n",
              "      <td>Biden ignores questions after saying families ...</td>\n",
              "    </tr>\n",
              "    <tr>\n",
              "      <th>2</th>\n",
              "      <td>https://www.dailymail.co.uk/news/article-10225...</td>\n",
              "      <td>By  a class=author href=homesearchhtml?s=&amp;amp;...</td>\n",
              "      <td>Europe descends into chaos for second night as...</td>\n",
              "    </tr>\n",
              "  </tbody>\n",
              "</table>\n",
              "</div>"
            ],
            "text/plain": [
              "                                                URLS  ...                                              Title\n",
              "0  https://www.dailymail.co.uk/news/article-10217...  ...  Fired Baltimore cop is found dead in vehicle f...\n",
              "1  https://www.dailymail.co.uk/news/article-10235...  ...  Biden ignores questions after saying families ...\n",
              "2  https://www.dailymail.co.uk/news/article-10225...  ...  Europe descends into chaos for second night as...\n",
              "\n",
              "[3 rows x 3 columns]"
            ]
          },
          "metadata": {},
          "execution_count": 59
        }
      ]
    },
    {
      "cell_type": "markdown",
      "metadata": {
        "id": "zcfHQbLmfbyS"
      },
      "source": [
        "Exploratory data analysis will be conducted on the corpus in the subsequent pipeline which performs NLP analysis. This pipeline is only responsible for extracting the text from the web pages. However, to ensure quaity data is sent to the next pipeline, we can explore:     \n",
        "* The number of articles extracted\n",
        "* Execution time\n",
        "* Check for rows missing text"
      ]
    },
    {
      "cell_type": "markdown",
      "metadata": {
        "id": "KMsvqEvTeVkv"
      },
      "source": [
        "The total number of articles extracted:\n"
      ]
    },
    {
      "cell_type": "code",
      "metadata": {
        "id": "VchTU15I_9Hc",
        "colab": {
          "base_uri": "https://localhost:8080/",
          "height": 0
        },
        "outputId": "ffbe826b-4b96-480c-ec84-a42839e515ba"
      },
      "source": [
        "len(output)\n"
      ],
      "execution_count": 60,
      "outputs": [
        {
          "output_type": "execute_result",
          "data": {
            "text/plain": [
              "144"
            ]
          },
          "metadata": {},
          "execution_count": 60
        }
      ]
    },
    {
      "cell_type": "markdown",
      "metadata": {
        "id": "thDXzgFFeg9S"
      },
      "source": [
        "The time taken to process this many articles (in seconds):     "
      ]
    },
    {
      "cell_type": "code",
      "metadata": {
        "id": "AK6KYkGc0FBX",
        "colab": {
          "base_uri": "https://localhost:8080/",
          "height": 0
        },
        "outputId": "d3d342af-944f-4ecd-b136-8749b16cdba0"
      },
      "source": [
        "execution_time "
      ],
      "execution_count": 61,
      "outputs": [
        {
          "output_type": "execute_result",
          "data": {
            "text/plain": [
              "164.91898250579834"
            ]
          },
          "metadata": {},
          "execution_count": 61
        }
      ]
    },
    {
      "cell_type": "markdown",
      "metadata": {
        "id": "-6NWyuNog3hn"
      },
      "source": [
        "Low word counts indicate a problem extracting text from HTML. We can check how many records have a small word count as follows. "
      ]
    },
    {
      "cell_type": "code",
      "metadata": {
        "colab": {
          "base_uri": "https://localhost:8080/",
          "height": 0
        },
        "id": "6m1ydElvhLw8",
        "outputId": "e71032b6-a5a0-42a5-8b8f-a511337c5e16"
      },
      "source": [
        "ind = output[\"Bag Of Words\"].str.len() < 100\n",
        "len(output[ind])"
      ],
      "execution_count": 64,
      "outputs": [
        {
          "output_type": "execute_result",
          "data": {
            "text/plain": [
              "0"
            ]
          },
          "metadata": {},
          "execution_count": 64
        }
      ]
    }
  ]
}