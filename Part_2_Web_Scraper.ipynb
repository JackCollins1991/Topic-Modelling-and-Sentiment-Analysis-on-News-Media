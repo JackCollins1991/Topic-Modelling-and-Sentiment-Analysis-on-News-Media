{
  "nbformat": 4,
  "nbformat_minor": 0,
  "metadata": {
    "colab": {
      "name": "Jack_Collins_MA5851_A3_Part1.ipynb",
      "provenance": [],
      "collapsed_sections": [
        "I1ufnk--ahT0",
        "4ZV3MugkZGs8",
        "Qj_Zr_ciLQ9Q",
        "c_B-5Je7v1VF",
        "a3sbGiBQgn5E"
      ]
    },
    "kernelspec": {
      "name": "python3",
      "display_name": "Python 3"
    },
    "language_info": {
      "name": "python"
    }
  },
  "cells": [
    {
      "cell_type": "markdown",
      "metadata": {
        "id": "jsL5839WZDuh"
      },
      "source": [
        "# Configuration"
      ]
    },
    {
      "cell_type": "markdown",
      "metadata": {
        "id": "I1ufnk--ahT0"
      },
      "source": [
        "## Modules"
      ]
    },
    {
      "cell_type": "code",
      "metadata": {
        "id": "Ea7sAKQeZSbL"
      },
      "source": [
        "import requests\n",
        "from bs4 import BeautifulSoup\n",
        "from pprint import pprint\n",
        "from sklearn.pipeline import Pipeline\n",
        "import pandas as pd\n",
        "import re"
      ],
      "execution_count": null,
      "outputs": []
    },
    {
      "cell_type": "markdown",
      "metadata": {
        "id": "O3B0FUMbaklt"
      },
      "source": [
        "## Constants"
      ]
    },
    {
      "cell_type": "code",
      "metadata": {
        "id": "__m-1cnjY94B"
      },
      "source": [
        "MAIN_URL = 'https://www.dailymail.co.uk/news/breaking_news/index.html'\n",
        "DOMAIN = 'https://www.dailymail.co.uk'\n",
        "SCRAPE_OUTPUT_FILE = '/content/drive/MyDrive/MA5851_A3/scrape_results.csv'\n",
        "ARTICLE_TAG = 'a'\n",
        "URL_HTML_TAG = 'href'\n",
        "URLS_START_WITH = ['https://www.dailymail.co.uk']\n",
        "URLS_NOT_END_WITH = ['#video']\n",
        "TEXT_TAG = 'p'\n",
        "REMOVE_SUBSTRINGS = [\"]\",'\"',\"'\",\".\",\",\",\"[\",\"/\",\">\",]\n",
        "SEED = 42"
      ],
      "execution_count": null,
      "outputs": []
    },
    {
      "cell_type": "markdown",
      "metadata": {
        "id": "4ZV3MugkZGs8"
      },
      "source": [
        "# Functions"
      ]
    },
    {
      "cell_type": "markdown",
      "metadata": {
        "id": "ILtxJO7JeW5m"
      },
      "source": [
        "## Utilities"
      ]
    },
    {
      "cell_type": "code",
      "metadata": {
        "id": "pPVJ0UnueZgd"
      },
      "source": [
        "def Set_All_Seeds(seed):\n",
        "    random.seed(seed)\n",
        "    os.environ['PYTHONHASHSEED'] = str(seed)\n",
        "    np.random.seed(seed)\n",
        "    np.random.RandomState(seed)"
      ],
      "execution_count": null,
      "outputs": []
    },
    {
      "cell_type": "markdown",
      "metadata": {
        "id": "Qj_Zr_ciLQ9Q"
      },
      "source": [
        "## HTML Element Selection"
      ]
    },
    {
      "cell_type": "code",
      "metadata": {
        "id": "kC7xdREIenUG"
      },
      "source": [
        "def Get_Soup(url: str):\n",
        "  data = requests.get(url)\n",
        "  html = BeautifulSoup(data.text, 'html.parser')\n",
        "  return html"
      ],
      "execution_count": null,
      "outputs": []
    },
    {
      "cell_type": "code",
      "metadata": {
        "id": "6Z5nv78ojRcZ"
      },
      "source": [
        "def Get_Links(soup: BeautifulSoup, find_tag: str, get_tag: str):\n",
        "  results = []\n",
        "  for link in soup.find_all(find_tag):\n",
        "    results.append(link.get(get_tag))\n",
        "  return results"
      ],
      "execution_count": null,
      "outputs": []
    },
    {
      "cell_type": "code",
      "metadata": {
        "id": "Neki7NkjR7Bs"
      },
      "source": [
        "def Get_Content(soup: BeautifulSoup, tag: str):\n",
        "  results = []\n",
        "  for p in soup.find_all(tag):\n",
        "    results.append(p.contents)\n",
        "  return results"
      ],
      "execution_count": null,
      "outputs": []
    },
    {
      "cell_type": "markdown",
      "metadata": {
        "id": "c_B-5Je7v1VF"
      },
      "source": [
        "## Link Selection"
      ]
    },
    {
      "cell_type": "code",
      "metadata": {
        "id": "ZnwGCEtYolD2"
      },
      "source": [
        "def Select_Links_Starts_With(links: list, stem: str):\n",
        "  results = []\n",
        "  for link in links:\n",
        "    if not isinstance(link, str):\n",
        "      continue\n",
        "    if link.startswith(stem):\n",
        "      results.append(link)\n",
        "  return results\n",
        "\n",
        "def Select_Links_Ends_With(links: list, stem: str):\n",
        "  results = []\n",
        "  for link in links:\n",
        "    if not isinstance(link, str):\n",
        "      continue\n",
        "    if link.endswith(stem):\n",
        "      results.append(link)\n",
        "  return results\n",
        "\n",
        "def Remove_Links(func, links: list, stems: list):\n",
        "  for s in stems:\n",
        "    delta = func(links = links, stem=s)\n",
        "    links = list(set(links) - set(delta))\n",
        "  return links\n",
        "\n",
        "def Append_Links(func, links: list, stems: list):\n",
        "  results = []\n",
        "  for s in stems:\n",
        "    delta = func(links = links, stem=s)\n",
        "    results.append(delta)\n",
        "  return results[0]"
      ],
      "execution_count": null,
      "outputs": []
    },
    {
      "cell_type": "markdown",
      "metadata": {
        "id": "a3sbGiBQgn5E"
      },
      "source": [
        "## Text Processing"
      ]
    },
    {
      "cell_type": "code",
      "metadata": {
        "id": "G1enatLvguPO"
      },
      "source": [
        "def Remove_Sub_Strings(string: str, remove: list):\n",
        "  for r in remove:\n",
        "    assert isinstance(string, str)\n",
        "    string = string.replace(r,\"\")\n",
        "  return string\n",
        "\n",
        "def Clean_String(s: str):\n",
        "  return re.sub('(^|\\s+)FIRST($|\\s+)', '', s)\n",
        "\n",
        "def Get_Text_From_Page(url: str):\n",
        "  web_text = Get_Content(soup = Get_Soup(url), tag=TEXT_TAG)\n",
        "  return Remove_Sub_Strings(str(web_text), remove = REMOVE_SUBSTRINGS)"
      ],
      "execution_count": null,
      "outputs": []
    },
    {
      "cell_type": "markdown",
      "metadata": {
        "id": "spLnfetLv8r1"
      },
      "source": [
        "# Execute Pipeline"
      ]
    },
    {
      "cell_type": "code",
      "metadata": {
        "id": "w-_p1My-efV5"
      },
      "source": [
        "Set_All_Seeds(SEED)"
      ],
      "execution_count": null,
      "outputs": []
    },
    {
      "cell_type": "code",
      "metadata": {
        "colab": {
          "base_uri": "https://localhost:8080/",
          "height": 145
        },
        "id": "BjXZ0CP44K9J",
        "outputId": "cfc139fc-c347-48d8-b261-98e0314a1216"
      },
      "source": [
        "URLs = Get_Soup(MAIN_URL)\n",
        "URLs = Get_Links(soup = URLs, find_tag = ARTICLE_TAG, get_tag = URL_HTML_TAG)\n",
        "URLs = Append_Links(func = Select_Links_Starts_With,links = URLs, stems = URLS_START_WITH)\n",
        "URLs = Remove_Links(func = Select_Links_Ends_With,links = URLs, stems = URLS_NOT_END_WITH)\n",
        "Get_Text_From_Page(URLs[1])"
      ],
      "execution_count": null,
      "outputs": [
        {
          "output_type": "execute_result",
          "data": {
            "application/vnd.google.colaboratory.intrinsic+json": {
              "type": "string"
            },
            "text/plain": [
              "'By  <a class=author href=homesearchhtml?s=&amp;authornamef=Charlie+Coë+For+Daily+Mail+Australia rel=nofollowCharlie Coë For Daily Mail Australia<a   <span class=article-timestamp article-timestamp-published <span class=article-timestamp-labelPublished:<span <time datetime=2021-11-16T20:57:42+0000 15:57 EST 16 November 2021 <time <span  |  <span class=article-timestamp article-timestamp-updated <span class=article-timestamp-labelUpdated:<span <time datetime=2021-11-16T21:26:13+0000 16:26 EST 16 November 2021 <time <span     103 View  <br  comments  A fed-up TV reporter has glared as a protester interrupted her live cross about Victorias controversial new pandemic bill with a sign mocking Daniel Andrews The protester stood directly behind Today reporter Izabella Staskowski as she crossed live to the studio from Victorian parliament on Wednesday morning The man held a sign showing the faces of the premier Victorian Chief Health Officer Brett Sutton and Prime Minister  <a href=newsscott-morrisonindexhtml id=mol-d7573e20-471f-11ec-806f-27bb8cc428eb style=font-weight: bold;Scott Morrison<a  next to the words: Do you trust these men with your childrens lives? Today show reporter Izabella Staskowski was interrupted by a protester during her live cross outside Victorian parliament on Wednesday morning Some protesters have made some disturbing threats directly at the premier she said before looking out of shot and glaring as the man yelled behind her She then told host Karl Stefanovic she was having technical difficulties The footage comes after protesters spent another night occupying the steps of the Victorian parliament on Tuesday in anger at the state governments proposed pandemic laws Debate on the Public Health and Wellbeing Amendment (Pandemic Management) Bill began in the upper house on Tuesday afternoon and went well into the night It is on hold until Wednesday as the chamber deals with non-government business but it is expected to resume on Thursday The bill which gives the premier and health minister the power to declare a pandemic and make public health orders is all but guaranteed to pass after the government made amendments to secure the support of three crossbench MPs But it has become a lightning rod for anti-lockdown and anti-vaccination groups with hundreds of protesters planning to camp out on the steps of parliament for the duration of the debate Hundreds of Victorians turned up to show their displeasure at the Andrews Government on Monday in Melbourne Angry Victorians demand the end of Premier Daniel Andrews bill during Mondays protests A video posted on social media shows the protesters gathered around a wooden gallows chanting Freedom Traitor Kill Dan Andrews and Hang Dan Andrews while attempting to place the head of an inflatable doll of the premier through the noose Mr Andrews said the scenes outside parliament were not a reflection of the Victorian community given the overwhelming majority had been vaccinated against Covid-19 and accused the opposition of playing political games His wife Catherine meanwhile took to  <a href=sciencetechtwitterindexhtml id=mol-9eefeee0-4721-11ec-806f-27bb8cc428eb style=font-weight: bold;Twitter<a  to thank those who sent messages of support following several days of ugly demonstrations in  <a href=newsmelbourneindexhtml id=mol-9eefeee1-4721-11ec-806f-27bb8cc428eb style=font-weight: bold;Melbourne<a  Dan Andrews wife Catherine (pictured together) spoke out for the first time after protesters imitated hanging her husband at widely condemned protests this week  Premier Daniel Andrews in parliament on Tuesday His pandemic management bill is all but guaranteed to pass after the state government made amendments to secure the support of three crossbench MPs\\\\xa0 Mrs Andrews took the vile threats in her stride offering a classy response to the horrifying ordeal We have received so many beautiful messages today from all over Thank you she said \\\\xa0We are reminded that the light shines in the darkness and the darkness will not overcome it As ever #IStandWithDan #GoHigh <a class=class href=newsqanonindexhtml id=mol-b518b170-4721-11ec-806f-27bb8cc428eb style=font-weight: bold;\\xa0<a Published by Associated Newspapers Ltd Part of the Daily Mail The Mail on Sunday & Metro Media Group'"
            ]
          },
          "metadata": {},
          "execution_count": 132
        }
      ]
    },
    {
      "cell_type": "code",
      "metadata": {
        "id": "_bRDAryGSAaH"
      },
      "source": [
        "bag_of_words = []\n",
        "for url in URLs:\n",
        "  bag_of_words.append(Get_Text_From_Page(url))\n"
      ],
      "execution_count": null,
      "outputs": []
    },
    {
      "cell_type": "code",
      "metadata": {
        "id": "_hWDNSmYAcC0"
      },
      "source": [
        "titles = []\n",
        "for url in URLs:\n",
        "  titles.append(Get_Soup(url).find(\"title\").contents[0])"
      ],
      "execution_count": null,
      "outputs": []
    },
    {
      "cell_type": "code",
      "metadata": {
        "id": "xEu3r3tsxeJB"
      },
      "source": [
        "output = pd.DataFrame({\"URLS\":URLs,\"Bag Of Words\":bag_of_words,\"Title\":titles}).drop_duplicates()\n",
        "output.to_csv(SCRAPE_OUTPUT_FILE)"
      ],
      "execution_count": null,
      "outputs": []
    },
    {
      "cell_type": "code",
      "metadata": {
        "colab": {
          "base_uri": "https://localhost:8080/"
        },
        "id": "VchTU15I_9Hc",
        "outputId": "310acc2c-b629-4519-c230-ea0a73a74dde"
      },
      "source": [
        "len(output)"
      ],
      "execution_count": null,
      "outputs": [
        {
          "output_type": "execute_result",
          "data": {
            "text/plain": [
              "144"
            ]
          },
          "metadata": {},
          "execution_count": 136
        }
      ]
    }
  ]
}